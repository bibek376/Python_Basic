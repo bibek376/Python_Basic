{
 "cells": [
  {
   "cell_type": "code",
   "execution_count": 11,
   "metadata": {},
   "outputs": [
    {
     "name": "stdout",
     "output_type": "stream",
     "text": [
      "[[1, 'bibek', 'nepal'], [2, 'carlos', 'uk']]\n"
     ]
    }
   ],
   "source": [
    "list1=[]\n",
    "x=((1,\"bibek\",\"nepal\"),(2,\"carlos\",\"uk\"))\n",
    "for num in range(len(x)):\n",
    "    list1.append(list(x[num]))\n",
    "print(list1)\n",
    "\n",
    "\n"
   ]
  },
  {
   "cell_type": "code",
   "execution_count": 35,
   "metadata": {},
   "outputs": [
    {
     "name": "stdout",
     "output_type": "stream",
     "text": [
      "5\n",
      "[3, 4, 5]\n",
      "[5, 4, 3, 2, 1]\n",
      "<class 'list'>\n",
      "[1, 2, 3, 4, 5, 4, 5, 6]\n",
      "[4, 5, 6, 4, 5, 6]\n"
     ]
    }
   ],
   "source": [
    "a=[1,2,3,4,5]\n",
    "b=[4,5,6]\n",
    "print(len(a))\n",
    "print(a[2:1000])\n",
    "print(a[::-1])\n",
    "print(type(a))\n",
    "print(a+b)\n",
    "print(b*2)"
   ]
  },
  {
   "cell_type": "code",
   "execution_count": 36,
   "metadata": {},
   "outputs": [
    {
     "name": "stdout",
     "output_type": "stream",
     "text": [
      "[1, 222, 3, 4, 5]\n"
     ]
    }
   ],
   "source": [
    "#updating a value in list.\n",
    "a=[1,2,3,4,5]\n",
    "a[1]=222\n",
    "print(a)\n"
   ]
  },
  {
   "cell_type": "code",
   "execution_count": 9,
   "metadata": {},
   "outputs": [
    {
     "name": "stdout",
     "output_type": "stream",
     "text": [
      "how many times?\n",
      "2\n",
      "enter your name ?\n",
      "carlos\n",
      "enter your name ?\n",
      "bibek\n",
      "['carlos', 'bibek']\n"
     ]
    }
   ],
   "source": [
    "#storing a value in list\n",
    "list1=[]\n",
    "num=int(input(\"how many times?\\n\"))\n",
    "for i in range(num):\n",
    "    name=input(\"enter your name ?\\n\")\n",
    "    store=[name,]\n",
    "    list1=list1+store\n",
    "print(list1)\n",
    "\n",
    "\n",
    "\n"
   ]
  },
  {
   "cell_type": "code",
   "execution_count": 52,
   "metadata": {},
   "outputs": [
    {
     "name": "stdout",
     "output_type": "stream",
     "text": [
      "how many times?\n",
      "3\n",
      "enter numbers ?\n",
      "4\n",
      "enter numbers ?\n",
      "12\n",
      "enter numbers ?\n",
      "3\n",
      "[4, 12, 3]\n",
      "sum is: 19\n",
      "[3, 4, 12]\n",
      "[12, 4, 3]\n"
     ]
    }
   ],
   "source": [
    "list1=[]\n",
    "sum=0\n",
    "num=int(input(\"how many times?\\n\"))\n",
    "for i in range(num):\n",
    "    numbers=int(input(\"enter numbers ?\\n\"))\n",
    "    store=[numbers,]\n",
    "    list1=list1+store\n",
    "    sum=sum+numbers\n",
    "print(list1)\n",
    "print(\"sum is:\",sum)\n",
    "list1.sort()\n",
    "print(list1)\n",
    "list1.reverse()\n",
    "print(list1)"
   ]
  },
  {
   "cell_type": "code",
   "execution_count": 53,
   "metadata": {},
   "outputs": [
    {
     "name": "stdout",
     "output_type": "stream",
     "text": [
      "['apple', 'ball', 'cat', 'dog']\n"
     ]
    }
   ],
   "source": [
    "#append function\n",
    "a=[\"apple\",\"ball\",\"cat\"]\n",
    "a.append(\"dog\")\n",
    "print(a)\n"
   ]
  },
  {
   "cell_type": "code",
   "execution_count": 8,
   "metadata": {},
   "outputs": [
    {
     "name": "stdout",
     "output_type": "stream",
     "text": [
      "how many times?\n",
      "2\n",
      "enter name ?\n",
      "bibek\n",
      "enter your age?\n",
      "23\n",
      "enter name ?\n",
      "carlos\n",
      "enter your age?\n",
      "20\n",
      "[['bibek', 23], ['carlos', 20]]\n"
     ]
    }
   ],
   "source": [
    "#uses of append function in data\n",
    "list1=[]\n",
    "num=int(input(\"how many times?\\n\"))\n",
    "for i in range(num):\n",
    "    name=input(\"enter name ?\\n\")\n",
    "    age=int(input(\"enter your age?\\n\"))\n",
    "    store=[name,age]\n",
    "    list1.append(store)\n",
    "print(list1)"
   ]
  },
  {
   "cell_type": "code",
   "execution_count": 21,
   "metadata": {},
   "outputs": [
    {
     "name": "stdout",
     "output_type": "stream",
     "text": [
      "['ball', 'cat']\n",
      "['ball']\n",
      "[]\n",
      "['apple', 'cat']\n",
      "['cat']\n"
     ]
    }
   ],
   "source": [
    "#use of del,remove,clear and pop\n",
    "a=[\"apple\",\"ball\",\"cat\"]\n",
    "del a[0]\n",
    "print(a)\n",
    "a.remove(a[1])\n",
    "print(a)\n",
    "a.clear()\n",
    "print(a)\n",
    "a.append(\"apple\")\n",
    "a.append(\"cat\")\n",
    "print(a)\n",
    "a.pop(0)\n",
    "print(a)\n"
   ]
  },
  {
   "cell_type": "code",
   "execution_count": 25,
   "metadata": {},
   "outputs": [
    {
     "name": "stdout",
     "output_type": "stream",
     "text": [
      "what you want to search ?cat\n",
      "yes 1\n"
     ]
    }
   ],
   "source": [
    "a=[\"apple\",\"ball\",\"cat\",\"apple\"]\n",
    "x=input(\"what you want to search ?\")\n",
    "if x in a:\n",
    "    print(\"yes\",a.count(x))"
   ]
  },
  {
   "cell_type": "code",
   "execution_count": 30,
   "metadata": {},
   "outputs": [
    {
     "name": "stdout",
     "output_type": "stream",
     "text": [
      "what you want to search?\n",
      "ball\n",
      "['apple', 'cat', 'apple', 'apple']\n"
     ]
    }
   ],
   "source": [
    "#delete duplicate elements.\n",
    "a=[\"apple\",\"ball\",\"cat\",\"apple\",\"ball\",\"apple\"]\n",
    "search=input(\"what you want to search?\\n\")\n",
    "x=a.count(search)\n",
    "for i in range(x):\n",
    "    a.remove(search)\n",
    "print(a)"
   ]
  },
  {
   "cell_type": "code",
   "execution_count": 36,
   "metadata": {},
   "outputs": [
    {
     "name": "stdout",
     "output_type": "stream",
     "text": [
      "enter x=\n",
      "cat\n",
      "index value are: 2\n"
     ]
    }
   ],
   "source": [
    "#printing a index\n",
    "a=[\"apple\",\"ball\",\"cat\",\"apple\",\"ball\",\"apple\"]\n",
    "x=input(\"enter x=\\n\")\n",
    "for i in range(len(a)):\n",
    "    if x==a[i]:\n",
    "        print(\"index value are:\",i)\n"
   ]
  },
  {
   "cell_type": "code",
   "execution_count": 37,
   "metadata": {},
   "outputs": [
    {
     "name": "stdout",
     "output_type": "stream",
     "text": [
      "['apple', 'ball', 'dog', 'cat', 'apple', 'ball', 'apple']\n"
     ]
    }
   ],
   "source": [
    "#insert function\n",
    "a=[\"apple\",\"ball\",\"cat\",\"apple\",\"ball\",\"apple\"]\n",
    "a.insert(2,\"dog\")\n",
    "print(a)"
   ]
  },
  {
   "cell_type": "code",
   "execution_count": 41,
   "metadata": {},
   "outputs": [
    {
     "name": "stdout",
     "output_type": "stream",
     "text": [
      "<class 'list'>\n",
      "3\n",
      "[[], [], [], [1, 23, 3]]\n"
     ]
    }
   ],
   "source": [
    "#list inside list\n",
    "a=[[],[],[]]\n",
    "print(type(a))\n",
    "print(len(a))\n",
    "a.append([1,23,3])\n",
    "print(a)"
   ]
  },
  {
   "cell_type": "code",
   "execution_count": 40,
   "metadata": {},
   "outputs": [
    {
     "name": "stdout",
     "output_type": "stream",
     "text": [
      "4\n",
      "1\n",
      "8\n"
     ]
    }
   ],
   "source": [
    "a=[[1,2,3,4],[0,1,3,5],[6,7,8,9]]\n",
    "print(a[0][3])\n",
    "print(a[0][0])\n",
    "print(a[2][2])"
   ]
  },
  {
   "cell_type": "code",
   "execution_count": 47,
   "metadata": {},
   "outputs": [
    {
     "name": "stdout",
     "output_type": "stream",
     "text": [
      "how many times?\n",
      " 2\n",
      "enter your name?\n",
      "bibek\n",
      "enter your age?\n",
      "23\n",
      "enter your name?\n",
      "carlos\n",
      "enter your age?\n",
      "23\n",
      "[[1, 'bibek', 23], [2, 'carlos', 23]]\n",
      "enter roll number:2\n",
      "[2, 'carlos', 23]\n",
      "carlos\n",
      "[[1, '4k', 23], [2, 'carlos', 23]]\n",
      "[[1, '4k'], [2, 'carlos', 23]]\n"
     ]
    }
   ],
   "source": [
    "list1=[]\n",
    "n=int(input(\"how many times?\\n \"))\n",
    "for i in range(1,n+1):\n",
    "    name=input(\"enter your name?\\n\")\n",
    "    age=int(input(\"enter your age?\\n\"))\n",
    "    #store=[[name,age]]\n",
    "    store=[i,name,age]\n",
    "    #list1+=store\n",
    "    list1.append(store)\n",
    "print(list1)\n",
    "x=int(input(\"enter roll number:\"))\n",
    "print(list1[x-1])\n",
    "print(list1[x-1][1])#extract particulr value.\n",
    "list1 [0][1]=\"4k\"#replacing a value.\n",
    "print(list1)\n",
    "del list1[0][2]#deletig a value\n",
    "print(list1)"
   ]
  },
  {
   "cell_type": "code",
   "execution_count": 21,
   "metadata": {},
   "outputs": [
    {
     "name": "stdout",
     "output_type": "stream",
     "text": [
      "[1, 'ram', 'nepal']\n",
      "[4, 'ram', 'usa']\n",
      "total count is: 2\n",
      "yes\n"
     ]
    }
   ],
   "source": [
    "#counting a value \n",
    "sum=0\n",
    "a=[[1,\"ram\",\"nepal\"],\n",
    "   [2,\"shyam\",\"india\"],\n",
    "   [3,\"hari\",\"germany\"],\n",
    "   [4,\"ram\",\"usa\"],\n",
    "   [5,\"sita\",\"uk\"]]\n",
    "for num in range(len(a)):\n",
    "    if \"ram\" in a[num][1]:\n",
    "        x=a[num][1].count(\"ram\")\n",
    "        sum=sum+x\n",
    "        print(a[num])\n",
    "print(\"total count is:\",sum)   \n",
    "print(\"yes\")"
   ]
  },
  {
   "cell_type": "code",
   "execution_count": 24,
   "metadata": {},
   "outputs": [
    {
     "name": "stdout",
     "output_type": "stream",
     "text": [
      "[[1, 'king', 'nepal'], [2, 'shyam', 'india'], [3, 'hari', 'germany'], [4, 'ram', 'usa'], [5, 'sita', 'uk']]\n"
     ]
    }
   ],
   "source": [
    "a=[[1,\"ram\",\"nepal\"],\n",
    "   [2,\"shyam\",\"india\"],\n",
    "   [3,\"hari\",\"germany\"],\n",
    "   [4,\"ram\",\"usa\"],\n",
    "   [5,\"sita\",\"uk\"]]\n",
    "\n",
    "#del a[0][1]\n",
    "#print(a)\n",
    "a[0][1]=\"king\"\n",
    "print(a)"
   ]
  },
  {
   "cell_type": "code",
   "execution_count": 30,
   "metadata": {},
   "outputs": [
    {
     "ename": "IndexError",
     "evalue": "list index out of range",
     "output_type": "error",
     "traceback": [
      "\u001b[1;31m---------------------------------------------------------------------------\u001b[0m",
      "\u001b[1;31mIndexError\u001b[0m                                Traceback (most recent call last)",
      "\u001b[1;32m<ipython-input-30-1e7c9d16ded1>\u001b[0m in \u001b[0;36m<module>\u001b[1;34m\u001b[0m\n\u001b[0;32m      5\u001b[0m    [5,\"sita\",\"uk\"]]\n\u001b[0;32m      6\u001b[0m \u001b[1;32mfor\u001b[0m \u001b[0mi\u001b[0m \u001b[1;32min\u001b[0m \u001b[0mrange\u001b[0m\u001b[1;33m(\u001b[0m\u001b[0mlen\u001b[0m\u001b[1;33m(\u001b[0m\u001b[0ma\u001b[0m\u001b[1;33m)\u001b[0m\u001b[1;33m)\u001b[0m\u001b[1;33m:\u001b[0m\u001b[1;33m\u001b[0m\u001b[1;33m\u001b[0m\u001b[0m\n\u001b[1;32m----> 7\u001b[1;33m     \u001b[0ma\u001b[0m\u001b[1;33m[\u001b[0m\u001b[0mi\u001b[0m\u001b[1;33m]\u001b[0m\u001b[1;33m[\u001b[0m\u001b[1;36m3\u001b[0m\u001b[1;33m]\u001b[0m\u001b[1;33m.\u001b[0m\u001b[0minsert\u001b[0m\u001b[1;33m(\u001b[0m\u001b[1;34m\"phone number\"\u001b[0m\u001b[1;33m)\u001b[0m\u001b[1;33m\u001b[0m\u001b[1;33m\u001b[0m\u001b[0m\n\u001b[0m\u001b[0;32m      8\u001b[0m \u001b[0mprint\u001b[0m\u001b[1;33m(\u001b[0m\u001b[0ma\u001b[0m\u001b[1;33m)\u001b[0m\u001b[1;33m\u001b[0m\u001b[1;33m\u001b[0m\u001b[0m\n",
      "\u001b[1;31mIndexError\u001b[0m: list index out of range"
     ]
    }
   ],
   "source": [
    "a=[[1,\"ram\",\"nepal\"],\n",
    "   [2,\"shyam\",\"india\"],\n",
    "   [3,\"hari\",\"germany\"],\n",
    "   [4,\"ram\",\"usa\"],\n",
    "   [5,\"sita\",\"uk\"]]\n",
    "for i in range(len(a)):\n",
    "    a[i].insert(3,\"phone number\")\n",
    "print(a)\n"
   ]
  },
  {
   "cell_type": "code",
   "execution_count": null,
   "metadata": {},
   "outputs": [],
   "source": []
  }
 ],
 "metadata": {
  "kernelspec": {
   "display_name": "Python 3",
   "language": "python",
   "name": "python3"
  },
  "language_info": {
   "codemirror_mode": {
    "name": "ipython",
    "version": 3
   },
   "file_extension": ".py",
   "mimetype": "text/x-python",
   "name": "python",
   "nbconvert_exporter": "python",
   "pygments_lexer": "ipython3",
   "version": "3.8.3"
  }
 },
 "nbformat": 4,
 "nbformat_minor": 4
}
