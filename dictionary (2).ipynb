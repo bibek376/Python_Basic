{
 "cells": [
  {
   "cell_type": "code",
   "execution_count": 3,
   "metadata": {},
   "outputs": [
    {
     "name": "stdout",
     "output_type": "stream",
     "text": [
      "<class 'dict'>\n",
      "apple\n",
      "3\n",
      "<class 'dict'>\n"
     ]
    }
   ],
   "source": [
    "a={}\n",
    "print(type(a))\n",
    "\n",
    "a={\"a\":\"apple\",\"b\":\"ball\",\"c\":\"cat\"}\n",
    "print(a[\"a\"])\n",
    "print(len(a))\n",
    "print(type(a))"
   ]
  },
  {
   "cell_type": "code",
   "execution_count": null,
   "metadata": {},
   "outputs": [],
   "source": [
    "#properties\n",
    "1>mutable\n",
    "2>duplicate value\n",
    "3>support indexing#user define index\n",
    "4>unordered\n"
   ]
  },
  {
   "cell_type": "code",
   "execution_count": 2,
   "metadata": {},
   "outputs": [
    {
     "name": "stdout",
     "output_type": "stream",
     "text": [
      "{'a': 'apple', 'b': 'ball', 'c': 'cat', 'A': 'ant'}\n",
      "{'a': 'animal', 'b': 'ball', 'c': 'cat'}\n"
     ]
    }
   ],
   "source": [
    "a={\"a\":\"apple\",\"b\":\"ball\",\"c\":\"cat\",\"A\":\"ant\"}\n",
    "b={\"a\":\"apple\",\"b\":\"ball\",\"c\":\"cat\",\"a\":\"animal\"}#update the with letest value.\n",
    "print(a)\n",
    "print(b)"
   ]
  },
  {
   "cell_type": "code",
   "execution_count": 6,
   "metadata": {},
   "outputs": [
    {
     "name": "stdout",
     "output_type": "stream",
     "text": [
      "{'1': 'apple', '2': 'ball', '3': 'cat'}\n"
     ]
    }
   ],
   "source": [
    "#adding value into a empety dictionary.\n",
    "a={}\n",
    "a[\"1\"]=\"apple\"\n",
    "a[\"2\"]=\"ball\"\n",
    "a[\"3\"]=\"cat\"\n",
    "print(a)\n"
   ]
  },
  {
   "cell_type": "code",
   "execution_count": 8,
   "metadata": {},
   "outputs": [
    {
     "name": "stdout",
     "output_type": "stream",
     "text": [
      "apple\n",
      "ball\n",
      "cat\n",
      "('1', 'apple')\n",
      "('2', 'ball')\n",
      "('3', 'cat')\n"
     ]
    }
   ],
   "source": [
    "a={'1': 'apple', '2': 'ball', '3': 'cat'}\n",
    "for i in a.values():#apple,ball,cat\n",
    "    print(i)\n",
    "    \n",
    "for i in a.items():#it will return value with index.\n",
    "    print(i)\n"
   ]
  },
  {
   "cell_type": "code",
   "execution_count": 9,
   "metadata": {},
   "outputs": [
    {
     "name": "stdout",
     "output_type": "stream",
     "text": [
      "[{'1': 'apple', '2': 'ball', '3': 'cat'}]\n"
     ]
    }
   ],
   "source": [
    "list1=[]\n",
    "a={'1': 'apple', '2': 'ball', '3': 'cat'}\n",
    "list1.append(a)\n",
    "print(list1)\n"
   ]
  },
  {
   "cell_type": "code",
   "execution_count": 10,
   "metadata": {},
   "outputs": [
    {
     "name": "stdout",
     "output_type": "stream",
     "text": [
      "[('1', 'apple'), ('2', 'ball'), ('3', 'cat')]\n"
     ]
    }
   ],
   "source": [
    "list1=[]\n",
    "a={'1': 'apple', '2': 'ball', '3': 'cat'}\n",
    "for i in a.items():\n",
    "    list1.append(i)\n",
    "print(list1)\n",
    "\n"
   ]
  },
  {
   "cell_type": "code",
   "execution_count": 2,
   "metadata": {},
   "outputs": [
    {
     "name": "stdout",
     "output_type": "stream",
     "text": [
      "how many times?\n",
      "2\n",
      "enter your name?\n",
      "bibek\n",
      "enter your age?\n",
      "12\n",
      "enter your name?\n",
      "carlos\n",
      "enter your age?\n",
      "5\n",
      "{'bibek': 12, 'carlos': 5}\n"
     ]
    }
   ],
   "source": [
    "#inserting a value in a dictionary.\n",
    "data={}\n",
    "n=int(input(\"how many times?\\n\"))\n",
    "for i in range(n):\n",
    "    name=input(\"enter your name?\\n\")\n",
    "    age=int(input(\"enter your age?\\n\"))\n",
    "    data[name]=age\n",
    "print(data)"
   ]
  },
  {
   "cell_type": "code",
   "execution_count": 3,
   "metadata": {},
   "outputs": [
    {
     "name": "stdout",
     "output_type": "stream",
     "text": [
      "{('bibek',): 12, ('carlos',): 5}\n"
     ]
    }
   ],
   "source": [
    "#same index but single value.\n",
    "a={('bibek',): 12, ('carlos',): 5}\n",
    "print(a)\n"
   ]
  },
  {
   "cell_type": "code",
   "execution_count": 4,
   "metadata": {},
   "outputs": [
    {
     "name": "stdout",
     "output_type": "stream",
     "text": [
      "{('bibek', 'binaya'): 12, ('carlos', 'david'): 5}\n"
     ]
    }
   ],
   "source": [
    "#multiple index but single value\n",
    "a={('bibek','binaya'): 12, ('carlos','david'): 5}\n",
    "print(a)\n"
   ]
  },
  {
   "cell_type": "code",
   "execution_count": 5,
   "metadata": {},
   "outputs": [
    {
     "ename": "TypeError",
     "evalue": "unhashable type: 'list'",
     "output_type": "error",
     "traceback": [
      "\u001b[1;31m---------------------------------------------------------------------------\u001b[0m",
      "\u001b[1;31mTypeError\u001b[0m                                 Traceback (most recent call last)",
      "\u001b[1;32m<ipython-input-5-86130e067802>\u001b[0m in \u001b[0;36m<module>\u001b[1;34m\u001b[0m\n\u001b[1;32m----> 1\u001b[1;33m \u001b[0ma\u001b[0m\u001b[1;33m=\u001b[0m\u001b[1;33m{\u001b[0m\u001b[1;33m[\u001b[0m\u001b[1;34m'bibek'\u001b[0m\u001b[1;33m,\u001b[0m\u001b[1;34m'binaya'\u001b[0m\u001b[1;33m]\u001b[0m\u001b[1;33m:\u001b[0m \u001b[1;36m12\u001b[0m\u001b[1;33m,\u001b[0m \u001b[1;33m[\u001b[0m\u001b[1;34m'carlos'\u001b[0m\u001b[1;33m,\u001b[0m\u001b[1;34m'david'\u001b[0m\u001b[1;33m]\u001b[0m\u001b[1;33m:\u001b[0m \u001b[1;36m5\u001b[0m\u001b[1;33m}\u001b[0m\u001b[1;33m\u001b[0m\u001b[1;33m\u001b[0m\u001b[0m\n\u001b[0m\u001b[0;32m      2\u001b[0m \u001b[0mprint\u001b[0m\u001b[1;33m(\u001b[0m\u001b[0ma\u001b[0m\u001b[1;33m)\u001b[0m\u001b[1;33m\u001b[0m\u001b[1;33m\u001b[0m\u001b[0m\n\u001b[0;32m      3\u001b[0m \u001b[1;33m\u001b[0m\u001b[0m\n\u001b[0;32m      4\u001b[0m \u001b[1;33m\u001b[0m\u001b[0m\n\u001b[0;32m      5\u001b[0m \u001b[1;33m\u001b[0m\u001b[0m\n",
      "\u001b[1;31mTypeError\u001b[0m: unhashable type: 'list'"
     ]
    }
   ],
   "source": [
    "#with list\n",
    "a={['bibek','binaya']: 12, ['carlos','david']: 5}\n",
    "print(a)\n",
    "#it will show error\n"
   ]
  },
  {
   "cell_type": "code",
   "execution_count": 6,
   "metadata": {},
   "outputs": [
    {
     "ename": "TypeError",
     "evalue": "unhashable type: 'set'",
     "output_type": "error",
     "traceback": [
      "\u001b[1;31m---------------------------------------------------------------------------\u001b[0m",
      "\u001b[1;31mTypeError\u001b[0m                                 Traceback (most recent call last)",
      "\u001b[1;32m<ipython-input-6-fa00cba6d027>\u001b[0m in \u001b[0;36m<module>\u001b[1;34m\u001b[0m\n\u001b[0;32m      1\u001b[0m \u001b[1;31m#with set\u001b[0m\u001b[1;33m\u001b[0m\u001b[1;33m\u001b[0m\u001b[1;33m\u001b[0m\u001b[0m\n\u001b[1;32m----> 2\u001b[1;33m \u001b[0ma\u001b[0m\u001b[1;33m=\u001b[0m\u001b[1;33m{\u001b[0m\u001b[1;33m{\u001b[0m\u001b[1;34m'bibek'\u001b[0m\u001b[1;33m,\u001b[0m\u001b[1;34m'binaya'\u001b[0m\u001b[1;33m}\u001b[0m\u001b[1;33m:\u001b[0m \u001b[1;36m12\u001b[0m\u001b[1;33m,\u001b[0m \u001b[1;33m{\u001b[0m\u001b[1;34m'carlos'\u001b[0m\u001b[1;33m,\u001b[0m\u001b[1;34m'david'\u001b[0m\u001b[1;33m}\u001b[0m\u001b[1;33m:\u001b[0m \u001b[1;36m5\u001b[0m\u001b[1;33m}\u001b[0m\u001b[1;33m\u001b[0m\u001b[1;33m\u001b[0m\u001b[0m\n\u001b[0m\u001b[0;32m      3\u001b[0m \u001b[0mprint\u001b[0m\u001b[1;33m(\u001b[0m\u001b[0ma\u001b[0m\u001b[1;33m)\u001b[0m\u001b[1;33m\u001b[0m\u001b[1;33m\u001b[0m\u001b[0m\n\u001b[0;32m      4\u001b[0m \u001b[1;31m#it will show error\u001b[0m\u001b[1;33m\u001b[0m\u001b[1;33m\u001b[0m\u001b[1;33m\u001b[0m\u001b[0m\n\u001b[0;32m      5\u001b[0m \u001b[1;33m\u001b[0m\u001b[0m\n",
      "\u001b[1;31mTypeError\u001b[0m: unhashable type: 'set'"
     ]
    }
   ],
   "source": [
    "#with set\n",
    "a={{'bibek','binaya'}: 12, {'carlos','david'}: 5}\n",
    "print(a)\n",
    "#it will show error"
   ]
  },
  {
   "cell_type": "code",
   "execution_count": 12,
   "metadata": {},
   "outputs": [
    {
     "name": "stdout",
     "output_type": "stream",
     "text": [
      "{'ram': (123, 456), 'shyam': (789, 101112)}\n",
      "101112\n",
      "123\n"
     ]
    }
   ],
   "source": [
    "#one index and multiple value.\n",
    "a={\"ram\":(123,456),\"shyam\":(789,101112)}\n",
    "print(a)\n",
    "print(a[\"shyam\"][1])\n",
    "print(a[\"ram\"][0])"
   ]
  },
  {
   "cell_type": "code",
   "execution_count": 16,
   "metadata": {},
   "outputs": [
    {
     "name": "stdout",
     "output_type": "stream",
     "text": [
      "enter name?\n",
      "shyam\n",
      "enter 1 for home and 2 for personal2\n",
      "101112\n"
     ]
    }
   ],
   "source": [
    "#program to accessing a user data.\n",
    "x={'ram': (123, 456), 'shyam': (789, 101112)}\n",
    "name=input(\"enter name?\\n\")\n",
    "choice=input(\"enter 1 for home and 2 for personal\")\n",
    "if choice==\"1\":\n",
    "    print(a[name][0])\n",
    "elif choice==\"2\":\n",
    "    print(a[name][1])"
   ]
  },
  {
   "cell_type": "code",
   "execution_count": 7,
   "metadata": {},
   "outputs": [
    {
     "name": "stdout",
     "output_type": "stream",
     "text": [
      "enter how many times?2\n",
      "enter your name?\n",
      "bibek\n",
      "enter your phone number?\n",
      "123\n",
      "enter your home number?\n",
      "234\n",
      "enter your name?\n",
      "carlos\n",
      "enter your phone number?\n",
      "456\n",
      "enter your home number?\n",
      "789\n",
      "{'bibek': [123, 234], 'carlos': [456, 789]}\n",
      "{'bibek': [123, 234], 'carlos': [456, 789], 'hari': [2345, 8980]}\n",
      "{'bibek': [123, 234], 'carlos': [456, 789], 'hari': [2345]}\n"
     ]
    }
   ],
   "source": [
    "#{\"ram\":[234,578],\"shyam\":[647,568]} printing a data in this format.\n",
    "\n",
    "a={}\n",
    "num=int(input(\"enter how many times?\"))\n",
    "for i in range(num):\n",
    "    name=input(\"enter your name?\\n\")\n",
    "    pn=int(input(\"enter your phone number?\\n\"))\n",
    "    ln=int(input(\"enter your home number?\\n\"))\n",
    "    a[name]=[pn,ln]\n",
    "print(a)\n",
    "\n",
    "#new value inseting in a dictionary.\n",
    "a[\"hari\"]=[2345,8980]\n",
    "print(a)\n",
    "\n",
    " #deleting hari second number.   \n",
    "del a[\"hari\"][1]\n",
    "print(a)"
   ]
  },
  {
   "cell_type": "code",
   "execution_count": 16,
   "metadata": {},
   "outputs": [
    {
     "name": "stdout",
     "output_type": "stream",
     "text": [
      "enter how many times?2\n",
      "enter your name?\n",
      "bibek\n",
      "enter your marks in math?\n",
      "90\n",
      "enter your marks in python?\n",
      "80\n",
      "enter your marks in c?\n",
      "78\n",
      "enter your name?\n",
      "carlos\n",
      "enter your marks in math?\n",
      "12\n",
      "enter your marks in python?\n",
      "89\n",
      "enter your marks in c?\n",
      "99\n",
      "{1: ['bibek', 90, 80, 78, 248, 82.66666666666667], 2: ['carlos', 12, 89, 99, 200, 66.66666666666667]}\n"
     ]
    }
   ],
   "source": [
    "a={}\n",
    "num=int(input(\"enter how many times?\"))\n",
    "for i in range(1,num+1):\n",
    "    name=input(\"enter your name?\\n\")\n",
    "    math=int(input(\"enter your marks in math?\\n\"))\n",
    "    python=int(input(\"enter your marks in python?\\n\"))\n",
    "    c=int(input(\"enter your marks in c?\\n\"))\n",
    "    total=sum([math,python,c])\n",
    "    per=total/3\n",
    "    a[i]=[name,math,python,c,total,per]\n",
    "print(a)"
   ]
  },
  {
   "cell_type": "markdown",
   "metadata": {},
   "source": [
    "info={}\n",
    "n=int(input(\"how many times?\\n\")\n",
    "for i in range(n):\n",
    "name=input(\"bkadskj\")\n",
    "\n",
    "\n",
    "\n",
    "\n",
    "\n"
   ]
  },
  {
   "cell_type": "code",
   "execution_count": 21,
   "metadata": {},
   "outputs": [
    {
     "name": "stdout",
     "output_type": "stream",
     "text": [
      "enter how many times?2\n",
      "enter your name?\n",
      "bibek\n",
      "enter your marks in math?\n",
      "12\n",
      "enter your marks in python?\n",
      "12\n",
      "enter your marks in c?\n",
      "12\n",
      "enter your name?\n",
      "carlos\n",
      "enter your marks in math?\n",
      "11\n",
      "enter your marks in python?\n",
      "11\n",
      "enter your marks in c?\n",
      "11\n",
      "{'name': ['bibek', 'carlos'], 'math': [12, 11], 'python': [12, 11], 'c': [12, 11]}\n"
     ]
    }
   ],
   "source": [
    "#program to ptint marks of same subject together.\n",
    "info={}\n",
    "na=[]\n",
    "ma=[]\n",
    "py=[]\n",
    "c1=[]\n",
    "num=int(input(\"enter how many times?\"))\n",
    "for i in range(num):\n",
    "    name=input(\"enter your name?\\n\")\n",
    "    math=int(input(\"enter your marks in math?\\n\"))\n",
    "    python=int(input(\"enter your marks in python?\\n\"))\n",
    "    c=int(input(\"enter your marks in c?\\n\"))\n",
    "    na.append(name)\n",
    "    ma.append(math)\n",
    "    py.append(python)\n",
    "    c1.append(c)\n",
    "    info={\"name\":na,\"math\":ma,\"python\":py,\"c\":c1}\n",
    "print(info)"
   ]
  },
  {
   "cell_type": "markdown",
   "metadata": {},
   "source": [
    "#dict inside dict\n",
    "syntax:\n",
    "a={<key>:{<key>:<value><value>.....}}\n"
   ]
  },
  {
   "cell_type": "code",
   "execution_count": 3,
   "metadata": {},
   "outputs": [
    {
     "name": "stdout",
     "output_type": "stream",
     "text": [
      "{1: {1: 'a', 2: 'b'}, 2: {3: 'a', 4: 'b'}}\n",
      "{'ram': {'landline': 234, 'mobile': 3435}, 'shyam': {'landline': 2323214, 'mobile': 343534}}\n",
      "343534\n",
      "{'ram': {'landline': 234, 'mobile': 3435}, 'shyam': {'landline': 2323214, 'mobile': 343534}, 'hari': {'lanline': 345, 'mobile': 67934}}\n",
      "{'ram': {'landline': 234, 'mobile': 3435}, 'shyam': {'landline': 2323214, 'mobile': 343534}, 'hari': {'lanline': 3333, 'mobile': 9999}}\n"
     ]
    }
   ],
   "source": [
    "#dict inside dict.\n",
    "a={1:{1:\"a\",2:\"b\"},2:{3:\"a\",4:\"b\"}}\n",
    "print(a)\n",
    "info={\"ram\":{\"landline\":234,\"mobile\":3435},\"shyam\":{\"landline\":2323214,\"mobile\":343534}}\n",
    "print(info)\n",
    "print(info[\"shyam\"][\"mobile\"])#it will return shyam mobile number.\n",
    "info[\"hari\"]={\"lanline\":345,\"mobile\":67934}#adding one more item in a dict.\n",
    "print(info)\n",
    "info[\"hari\"]={\"lanline\":3333,\"mobile\":67934}#updating a value of hari\n",
    "info[\"hari\"][\"mobile\"]=9999#update mobile number using a index.\n",
    "print(info)"
   ]
  },
  {
   "cell_type": "code",
   "execution_count": 4,
   "metadata": {},
   "outputs": [
    {
     "name": "stdout",
     "output_type": "stream",
     "text": [
      "enter how many times ?\n",
      "2\n",
      "enter your name?\n",
      "carlos\n",
      "enter your phone number?\n",
      "123\n",
      "enter your age?\n",
      "23\n",
      "enter your name?\n",
      "bibek\n",
      "enter your phone number?\n",
      "213\n",
      "enter your age?\n",
      "34\n",
      "{123: {'name': 'carlos', 'age': 23}, 213: {'name': 'bibek', 'age': 34}}\n"
     ]
    }
   ],
   "source": [
    "#adding a data into format.\n",
    "info={}\n",
    "num=int(input(\"enter how many times ?\\n\"))\n",
    "for i in range(num):\n",
    "    name=input(\"enter your name?\\n\")\n",
    "    phone=int(input(\"enter your phone number?\\n\"))\n",
    "    age=int(input(\"enter your age?\\n\"))\n",
    "    info[phone]={\"name\":name,\"age\":age}\n",
    "print(info)"
   ]
  },
  {
   "cell_type": "code",
   "execution_count": 6,
   "metadata": {},
   "outputs": [
    {
     "name": "stdout",
     "output_type": "stream",
     "text": [
      "enter the phone number?\n",
      "123\n",
      "enter the country?\n",
      "nepal\n",
      "enter the phone number?\n",
      "213\n",
      "enter the country?\n",
      "china\n",
      "{123: {'name': 'carlos', 'age': 23, 'country': 'nepal'}, 213: {'name': 'bibek', 'age': 34, 'country': 'china'}}\n"
     ]
    }
   ],
   "source": [
    "#adding country in a given dictionary.\n",
    "x={123: {'name': 'carlos', 'age': 23}, 213: {'name': 'bibek', 'age': 34}}\n",
    "for i in range(len(x)):\n",
    "    phone=int(input(\"enter the phone number?\\n\"))\n",
    "    country=input(\"enter the country?\\n\")\n",
    "    x[phone][\"country\"]=country\n",
    "print(x)\n"
   ]
  },
  {
   "cell_type": "code",
   "execution_count": 8,
   "metadata": {},
   "outputs": [
    {
     "name": "stdout",
     "output_type": "stream",
     "text": [
      "enter the country?\n",
      "america\n",
      "enter the country?\n",
      "germany\n",
      "{1: {'name': 'carlos', 'age': 23, 'country': 'america'}, 2: {'name': 'bibek', 'age': 34, 'country': 'germany'}}\n"
     ]
    }
   ],
   "source": [
    "#adding a country with the help of i. \n",
    "x={1: {'name': 'carlos', 'age': 23}, 2: {'name': 'bibek', 'age': 34}}\n",
    "for i in range(1,len(x)+1):\n",
    "    country=input(\"enter the country?\\n\")\n",
    "    x[i][\"country\"]=country\n",
    "print(x)"
   ]
  },
  {
   "cell_type": "code",
   "execution_count": 9,
   "metadata": {},
   "outputs": [
    {
     "name": "stdout",
     "output_type": "stream",
     "text": [
      "{'games': {'football', 'cricket'}, 'language': {'python', 'c++'}}\n"
     ]
    }
   ],
   "source": [
    "#set inside dict.\n",
    "a={\"games\":{\"football\",\"cricket\"},\"language\":{\"c++\",\"python\"}}\n",
    "print(a)"
   ]
  },
  {
   "cell_type": "code",
   "execution_count": null,
   "metadata": {},
   "outputs": [],
   "source": [
    "#compheransive properties of list,tuple and dict.\n"
   ]
  },
  {
   "cell_type": "code",
   "execution_count": 11,
   "metadata": {},
   "outputs": [
    {
     "name": "stdout",
     "output_type": "stream",
     "text": [
      "enter the list elements?\n",
      "1.5.7.8.33\n",
      "[1, 5, 7, 8, 33]\n",
      "enter the list elements?\n",
      "apple.ball.cat.dog\n",
      "['apple', 'ball', 'cat', 'dog']\n"
     ]
    }
   ],
   "source": [
    "#compheransive list\n",
    "\n",
    "list1=[int(x) for x in input(\"enter the list elements?\\n\").split('.')]#for integere\n",
    "print(list1)\n",
    "\n",
    "list2=[x for x in input(\"enter the list elements?\\n\").split('.')]#for string\n",
    "print(list2)"
   ]
  },
  {
   "cell_type": "code",
   "execution_count": null,
   "metadata": {},
   "outputs": [],
   "source": [
    "#compheransive tuple\n",
    "\n",
    "tuple1=(int(x) for x in input(\"enter the tuple elements?\\n\").split('.'))#for integere\n",
    "print(tuple1)\n",
    "\n",
    "tuple2=(x for x in input(\"enter the tuple elements?\\n\").split('.'))#for string\n",
    "print(tuple2)"
   ]
  },
  {
   "cell_type": "code",
   "execution_count": 2,
   "metadata": {},
   "outputs": [
    {
     "name": "stdout",
     "output_type": "stream",
     "text": [
      "{'a': 'apple', 'b': 'ball'}\n",
      "apple\n"
     ]
    }
   ],
   "source": [
    "#dictionary example\n",
    "a={\"a\":\"apple\",\"b\":\"ball\"}\n",
    "print(a)\n",
    "print(a[\"a\"])"
   ]
  },
  {
   "cell_type": "code",
   "execution_count": 4,
   "metadata": {},
   "outputs": [
    {
     "name": "stdout",
     "output_type": "stream",
     "text": [
      "{'a': 'ant', 'b': 'ball'}\n"
     ]
    }
   ],
   "source": [
    "a={\"a\":\"apple\",\"b\":\"ball\",\"a\":\"ant\"}\n",
    "print(a)"
   ]
  },
  {
   "cell_type": "code",
   "execution_count": 9,
   "metadata": {},
   "outputs": [
    {
     "name": "stdout",
     "output_type": "stream",
     "text": [
      "{'a': 'apple', 'b': 'ball', 'c': 'cat'}\n",
      "apple\n",
      "ball\n",
      "cat\n",
      "('a', 'apple')\n",
      "('b', 'ball')\n",
      "('c', 'cat')\n"
     ]
    }
   ],
   "source": [
    "a={}\n",
    "a[\"a\"]='apple'\n",
    "a[\"b\"]=\"ball\"\n",
    "a[\"c\"]=\"cat\"\n",
    "print(a)\n",
    "for i in a.values():\n",
    "    print(i)\n",
    "for i in a.items():\n",
    "    print(i)"
   ]
  },
  {
   "cell_type": "code",
   "execution_count": 12,
   "metadata": {},
   "outputs": [
    {
     "name": "stdout",
     "output_type": "stream",
     "text": [
      "[('a', 'apple'), ('b', 'ball'), ('c', 'cat')]\n"
     ]
    }
   ],
   "source": [
    "b=[]\n",
    "for i in a.items():\n",
    "    b.append(i)\n",
    "print(b)"
   ]
  },
  {
   "cell_type": "code",
   "execution_count": 13,
   "metadata": {},
   "outputs": [
    {
     "name": "stdout",
     "output_type": "stream",
     "text": [
      "how many times?2\n",
      "enter your name?bibek\n",
      "enter your age?12\n",
      "enter your name?carlos\n",
      "enter your age?45\n",
      "{'bibek': 12, 'carlos': 45}\n"
     ]
    }
   ],
   "source": [
    "info={}\n",
    "n=int(input(\"how many times?\"))\n",
    "for i in range(n):\n",
    "    name=input(\"enter your name?\")\n",
    "    age=int(input(\"enter your age?\"))\n",
    "    info[name]=age\n",
    "print(info)"
   ]
  },
  {
   "cell_type": "code",
   "execution_count": 14,
   "metadata": {},
   "outputs": [
    {
     "name": "stdout",
     "output_type": "stream",
     "text": [
      "{('a', 'b'): 45, 'c': 23}\n"
     ]
    }
   ],
   "source": [
    "a={(\"a\",\"b\"):45,\"c\":23}\n",
    "print(a)"
   ]
  },
  {
   "cell_type": "code",
   "execution_count": 18,
   "metadata": {},
   "outputs": [
    {
     "name": "stdout",
     "output_type": "stream",
     "text": [
      "{'a': ['bibek', 'carlos'], 'b': [34, 56]}\n",
      "[34, 56]\n",
      "bibek\n"
     ]
    }
   ],
   "source": [
    "a={\"a\":[\"bibek\",\"carlos\"],\"b\":[34,56]}\n",
    "print(a)\n",
    "print(a[\"b\"])\n",
    "print(a[\"a\"][0])"
   ]
  },
  {
   "cell_type": "code",
   "execution_count": 1,
   "metadata": {},
   "outputs": [
    {
     "name": "stdout",
     "output_type": "stream",
     "text": [
      "enter your name?carlos\n",
      "0 for mbl 1 for landline1\n",
      "674\n"
     ]
    }
   ],
   "source": [
    "a={\"bibek\":[123,3454],\"carlos\":[451,674]}\n",
    "name=input(\"enter your name?\")\n",
    "index=input(\"0 for mbl 1 for landline\")\n",
    "if index==\"0\":\n",
    "    print(a[name][0])\n",
    "else:\n",
    "    print(a[name][1])"
   ]
  },
  {
   "cell_type": "code",
   "execution_count": 4,
   "metadata": {},
   "outputs": [
    {
     "name": "stdout",
     "output_type": "stream",
     "text": [
      "enter the value of n:2\n",
      "enter your name?bibek\n",
      "enter your phone number12\n",
      "enter your lanline number23\n",
      "enter your name?carlos\n",
      "enter your phone number45\n",
      "enter your lanline number23\n",
      "{'bibek': [12, 23], 'carlos': [45, 23]}\n"
     ]
    }
   ],
   "source": [
    "x={}\n",
    "n=int(input(\"enter the value of n:\"))\n",
    "for i in range(n):\n",
    "    name=input(\"enter your name?\")\n",
    "    phone1=int(input(\"enter your phone number\"))\n",
    "    phone2=int(input(\"enter your lanline number\"))\n",
    "    x[name]=[phone1,phone2]\n",
    "print(x)"
   ]
  },
  {
   "cell_type": "code",
   "execution_count": 6,
   "metadata": {},
   "outputs": [
    {
     "name": "stdout",
     "output_type": "stream",
     "text": [
      "{'bibek': [12, 23], 'carlos': [45, 23], 'neha': [234, 568]}\n"
     ]
    }
   ],
   "source": [
    "a={'bibek': [12, 23], 'carlos': [45, 23]}\n",
    "a[\"neha\"]=[234,568]\n",
    "print(a)"
   ]
  },
  {
   "cell_type": "code",
   "execution_count": 8,
   "metadata": {},
   "outputs": [
    {
     "name": "stdout",
     "output_type": "stream",
     "text": [
      "568\n"
     ]
    }
   ],
   "source": [
    "print(a[\"neha\"][1])"
   ]
  },
  {
   "cell_type": "code",
   "execution_count": 9,
   "metadata": {},
   "outputs": [
    {
     "name": "stdout",
     "output_type": "stream",
     "text": [
      "{'bibek': [12, 23], 'carlos': [45, 23], 'neha': [568]}\n"
     ]
    }
   ],
   "source": [
    "del a[\"neha\"][0]\n",
    "print(a)"
   ]
  },
  {
   "cell_type": "code",
   "execution_count": 18,
   "metadata": {},
   "outputs": [
    {
     "name": "stdout",
     "output_type": "stream",
     "text": [
      "enter how many times ?2\n",
      "enter your name:bibek\n",
      "chemistry =23\n",
      "math =34\n",
      "phy =45\n",
      "english =32\n",
      "enter your name:carlos\n",
      "chemistry =56\n",
      "math =73\n",
      "phy =45\n",
      "english =76\n",
      "{1: ['bibek', 23, 34, 45, 32, 33.5], 2: ['carlos', 56, 73, 45, 76, 62.5]}\n"
     ]
    }
   ],
   "source": [
    "dict1={}\n",
    "n=int(input(\"enter how many times ?\"))\n",
    "for i in range(1,n+1):\n",
    "    name=input(\"enter your name:\")\n",
    "    che=int(input(\"chemistry =\"))\n",
    "    math=int(input(\"math =\"))\n",
    "    phy=int(input(\"phy =\"))\n",
    "    english=int(input(\"english =\"))\n",
    "    total=sum([che,math,phy,english])\n",
    "    per=(total/4)\n",
    "    dict1[i]=[name,che,math,phy,english,per]\n",
    "print(dict1)\n"
   ]
  },
  {
   "cell_type": "code",
   "execution_count": 19,
   "metadata": {},
   "outputs": [
    {
     "name": "stdout",
     "output_type": "stream",
     "text": [
      "how many times?2\n",
      "enter your name?bibek\n",
      "phy =23\n",
      "che =34\n",
      "math =54\n",
      "enter your name?carlos\n",
      "phy =45\n",
      "che =67\n",
      "math =45\n",
      "{'name': ['bibek', 'carlos'], 'phy': [23, 45], 'che': [34, 67], 'math': [54, 45], 'total': [111, 157], 'per': [27.75, 39.25]}\n"
     ]
    }
   ],
   "source": [
    "info={}\n",
    "na=[]\n",
    "ph=[]\n",
    "ch=[]\n",
    "ma=[]\n",
    "to=[]\n",
    "pe=[]\n",
    "n=int(input(\"how many times?\"))\n",
    "for i in range(n):\n",
    "    name=input(\"enter your name?\")\n",
    "    phy=int(input(\"phy =\"))\n",
    "    che=int(input(\"che =\"))\n",
    "    math=int(input(\"math =\"))\n",
    "    total=sum([phy,che,math])\n",
    "    per=total/4\n",
    "    na.append(name)\n",
    "    ph.append(phy)\n",
    "    ch.append(che)\n",
    "    ma.append(math)\n",
    "    to.append(total)\n",
    "    pe.append(per)\n",
    "    info={\"name\":na,\"phy\":ph,\"che\":ch,\"math\":ma,\"total\":to,\"per\":pe}\n",
    "print(info)"
   ]
  },
  {
   "cell_type": "code",
   "execution_count": 20,
   "metadata": {},
   "outputs": [
    {
     "data": {
      "text/html": [
       "<div>\n",
       "<style scoped>\n",
       "    .dataframe tbody tr th:only-of-type {\n",
       "        vertical-align: middle;\n",
       "    }\n",
       "\n",
       "    .dataframe tbody tr th {\n",
       "        vertical-align: top;\n",
       "    }\n",
       "\n",
       "    .dataframe thead th {\n",
       "        text-align: right;\n",
       "    }\n",
       "</style>\n",
       "<table border=\"1\" class=\"dataframe\">\n",
       "  <thead>\n",
       "    <tr style=\"text-align: right;\">\n",
       "      <th></th>\n",
       "      <th>name</th>\n",
       "      <th>phy</th>\n",
       "      <th>che</th>\n",
       "      <th>math</th>\n",
       "      <th>total</th>\n",
       "      <th>per</th>\n",
       "    </tr>\n",
       "  </thead>\n",
       "  <tbody>\n",
       "    <tr>\n",
       "      <th>0</th>\n",
       "      <td>bibek</td>\n",
       "      <td>23</td>\n",
       "      <td>34</td>\n",
       "      <td>54</td>\n",
       "      <td>111</td>\n",
       "      <td>27.75</td>\n",
       "    </tr>\n",
       "    <tr>\n",
       "      <th>1</th>\n",
       "      <td>carlos</td>\n",
       "      <td>45</td>\n",
       "      <td>67</td>\n",
       "      <td>45</td>\n",
       "      <td>157</td>\n",
       "      <td>39.25</td>\n",
       "    </tr>\n",
       "  </tbody>\n",
       "</table>\n",
       "</div>"
      ],
      "text/plain": [
       "     name  phy  che  math  total    per\n",
       "0   bibek   23   34    54    111  27.75\n",
       "1  carlos   45   67    45    157  39.25"
      ]
     },
     "execution_count": 20,
     "metadata": {},
     "output_type": "execute_result"
    }
   ],
   "source": [
    "import pandas as pd\n",
    "x=pd.DataFrame(info)\n",
    "x"
   ]
  },
  {
   "cell_type": "code",
   "execution_count": 26,
   "metadata": {},
   "outputs": [
    {
     "name": "stdout",
     "output_type": "stream",
     "text": [
      "{1: {'a': 'apple', 'b': 'ball'}, 2: {'c': 'cat', 'd': 'dog'}}\n",
      "{'ram': {'mbl': 3452, 'landline': 2435}, 'shyam': {'mbl': 345, 'phone': 556}}\n",
      "556\n",
      "{'ram': {'mbl': 3452, 'landline': 2435}, 'shyam': {'mbl': 345, 'phone': 556}, 'tappu': {'mbl': 4523, 'phone': 43522}}\n",
      "4523\n"
     ]
    }
   ],
   "source": [
    "#dict inside dict\n",
    "a={1:{\"a\":\"apple\",\"b\":\"ball\"},2:{\"c\":\"cat\",\"d\":\"dog\"}}\n",
    "print(a)\n",
    "\n",
    "info={\"ram\":{\"mbl\":3452,\"landline\":2435},\"shyam\":{\"mbl\":345,\"phone\":556}}\n",
    "print(info)\n",
    "print(info[\"shyam\"][\"phone\"])\n",
    "info[\"tappu\"]={\"mbl\":4523,\"phone\":43522}\n",
    "print(info)\n",
    "print(info[\"tappu\"][\"mbl\"])"
   ]
  },
  {
   "cell_type": "code",
   "execution_count": 27,
   "metadata": {},
   "outputs": [
    {
     "name": "stdout",
     "output_type": "stream",
     "text": [
      "how many times?2\n",
      "enter phone number:23\n",
      "enter your namebibek\n",
      "enter your age:34\n",
      "enter your address:nepal\n",
      "enter phone number:6438\n",
      "enter your namecarlos\n",
      "enter your age:23\n",
      "enter your address:china\n",
      "{23: {'name': 'bibek', 'age': 34, 'add': 'nepal'}, 6438: {'name': 'carlos', 'age': 23, 'add': 'china'}}\n"
     ]
    }
   ],
   "source": [
    "info={}\n",
    "n=int(input(\"how many times?\"))\n",
    "for i in range(n):\n",
    "    phone=int(input(\"enter phone number:\"))\n",
    "    name=input(\"enter your name\")\n",
    "    age=int(input(\"enter your age:\"))\n",
    "    add=input(\"enter your address:\")\n",
    "    info[phone]={\"name\":name,\"age\":age,\"add\":add}\n",
    "print(info)"
   ]
  },
  {
   "cell_type": "code",
   "execution_count": 31,
   "metadata": {},
   "outputs": [
    {
     "name": "stdout",
     "output_type": "stream",
     "text": [
      "enter uid:127\n",
      "enter phone nmber23\n",
      "enter uid:4536\n",
      "enter phone nmber6438\n",
      "enter uid:5879\n",
      "enter phone nmber56273\n",
      "{23: {'name': 'bibek', 'age': 34, 'add': 'nepal', 'uid': 127}, 6438: {'name': 'carlos', 'age': 23, 'add': 'china', 'uid': 4536}, 56273: {'name': 'bikash', 'age': 34, 'add': 'aus', 'uid': 5879}}\n"
     ]
    }
   ],
   "source": [
    "x={23: {'name': 'bibek', 'age': 34, 'add': 'nepal'}, 6438: {'name': 'carlos', 'age': 23, 'add': 'china'}}\n",
    "x[56273]={\"name\":\"bikash\",\"age\":34,\"add\":\"aus\"}\n",
    "n=len(x)\n",
    "for i in range(n):\n",
    "    uid=int(input(\"enter uid:\"))\n",
    "    phone=int(input('enter phone nmber'))\n",
    "    x[phone][\"uid\"]=uid\n",
    "print(x)\n"
   ]
  },
  {
   "cell_type": "code",
   "execution_count": 32,
   "metadata": {},
   "outputs": [
    {
     "name": "stdout",
     "output_type": "stream",
     "text": [
      "{'games': {'cricket', 'football'}, 'books': {'c++', 'python'}}\n"
     ]
    }
   ],
   "source": [
    "a={\"games\":{\"football\",\"cricket\"},\"books\":{\"c++\",\"python\"}}\n",
    "print(a)"
   ]
  },
  {
   "cell_type": "code",
   "execution_count": null,
   "metadata": {},
   "outputs": [],
   "source": []
  },
  {
   "cell_type": "code",
   "execution_count": null,
   "metadata": {},
   "outputs": [],
   "source": []
  },
  {
   "cell_type": "code",
   "execution_count": null,
   "metadata": {},
   "outputs": [],
   "source": []
  }
 ],
 "metadata": {
  "kernelspec": {
   "display_name": "Python 3",
   "language": "python",
   "name": "python3"
  },
  "language_info": {
   "codemirror_mode": {
    "name": "ipython",
    "version": 3
   },
   "file_extension": ".py",
   "mimetype": "text/x-python",
   "name": "python",
   "nbconvert_exporter": "python",
   "pygments_lexer": "ipython3",
   "version": "3.8.3"
  }
 },
 "nbformat": 4,
 "nbformat_minor": 4
}
