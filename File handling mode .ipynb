{
 "cells": [
  {
   "cell_type": "code",
   "execution_count": 1,
   "metadata": {},
   "outputs": [],
   "source": [
    "#\"R\"->read-> read the file\n",
    "#\"a\"-> append->append the file\n",
    "#\"w\"-> write->write the file\n",
    "#\"x\"-> create->create a file\n",
    "#syntax:\n",
    "#z=open(<file_name>,<modes>)\n",
    "#z.close"
   ]
  },
  {
   "cell_type": "code",
   "execution_count": 9,
   "metadata": {},
   "outputs": [
    {
     "name": "stdout",
     "output_type": "stream",
     "text": [
      "1.hello world\n",
      "2.hello world\n",
      "3.hello world\n",
      "4.hello world\n",
      "5.hello world\n"
     ]
    }
   ],
   "source": [
    "#z=open(\"python.txt\",\"x\")#it will create a file\n",
    "z=open(\"python.txt\",\"r\")\n",
    "data=z.read()\n",
    "print(data)\n",
    "z.close()"
   ]
  },
  {
   "cell_type": "code",
   "execution_count": 10,
   "metadata": {},
   "outputs": [
    {
     "name": "stdout",
     "output_type": "stream",
     "text": [
      "1.hello world\n",
      "\n",
      "2.hello world\n",
      "\n"
     ]
    }
   ],
   "source": [
    "#reading only two line.\n",
    "z=open(\"python.txt\",\"r\")\n",
    "print(z.readline())\n",
    "print(z.readline())\n",
    "z.close()\n",
    "#print(data)"
   ]
  },
  {
   "cell_type": "code",
   "execution_count": 11,
   "metadata": {},
   "outputs": [
    {
     "name": "stdout",
     "output_type": "stream",
     "text": [
      "enter the total number of line:5\n",
      "enter the line number:3\n",
      "3.hello world\n",
      "\n"
     ]
    }
   ],
   "source": [
    "#reading particular line.\n",
    "z=open(\"python.txt\",\"r\")\n",
    "line=int(input(\"enter the total number of line:\"))\n",
    "num=int(input(\"enter the line number:\"))\n",
    "for i in range(1,line+1):\n",
    "    if num==i:\n",
    "        print(z.readline())\n",
    "    z.readline()   \n",
    "z.close()"
   ]
  },
  {
   "cell_type": "code",
   "execution_count": 15,
   "metadata": {},
   "outputs": [],
   "source": [
    "z=open(\"python.txt\",\"a\")\n",
    "z.write(\"6.hello world\")\n",
    "z.write(\"7.hello world\")\n",
    "z.close()"
   ]
  },
  {
   "cell_type": "code",
   "execution_count": 16,
   "metadata": {},
   "outputs": [],
   "source": [
    "z=open(\"class.txt\",\"x\")\n",
    "z.close()"
   ]
  },
  {
   "cell_type": "code",
   "execution_count": 24,
   "metadata": {},
   "outputs": [
    {
     "name": "stdout",
     "output_type": "stream",
     "text": [
      "enter the value of n:2\n",
      "enter your name?sa\n",
      "enter your age?12\n",
      "enter your address?as\n",
      "enter your name?sssssssssss\n",
      "enter your age?123\n",
      "enter your address?ert\n",
      "ss,12,as\n",
      "sssssssssss,123,ert\n",
      "\n"
     ]
    }
   ],
   "source": [
    "z=open(\"class.txt\",\"a\")\n",
    "n=int(input(\"enter the value of n:\"))\n",
    "info=\"\"\n",
    "for i in range(n):\n",
    "    name=input(\"enter your name?\")\n",
    "    age=int(input(\"enter your age?\"))\n",
    "    add=input(\"enter your address?\")\n",
    "    store=f\"{name},{age},{add}\\n\"\n",
    "    info+=store\n",
    "z.write(info)\n",
    "edit=info.replace(\"sa\",\"ss\")\n",
    "print(edit)"
   ]
  },
  {
   "cell_type": "code",
   "execution_count": 25,
   "metadata": {},
   "outputs": [],
   "source": [
    "z=open(\"mark.txt\",\"w\")\n",
    "z.close()"
   ]
  },
  {
   "cell_type": "code",
   "execution_count": 6,
   "metadata": {},
   "outputs": [
    {
     "name": "stdout",
     "output_type": "stream",
     "text": [
      "enter how many times?2\n",
      "enter your name?bibek\n",
      "enter math=34\n",
      "enter english=22\n",
      "enter chemistry=5\n",
      "enter your name?carlos\n",
      "enter math=23\n",
      "enter english=11\n",
      "enter chemistry=22\n",
      "bibek,34,22,5\n",
      "carlos,23,11,22\n",
      "\n"
     ]
    }
   ],
   "source": [
    "#z=open(\"mark.txt\",\"w\")\n",
    "info=\"\"\n",
    "n=int(input(\"enter how many times?\"))\n",
    "for i in range(n):\n",
    "    name=input(\"enter your name?\")\n",
    "    math=int(input(\"enter math=\"))\n",
    "    english=int(input('enter english='))\n",
    "    chemistry=int(input(\"enter chemistry=\"))\n",
    "    marks=f\"{name},{math},{english},{chemistry}\\n\"\n",
    "    info+=marks\n",
    "print(info)\n",
    "z=open(\"mark1.txt\",\"w+\")\n",
    "z.write(info)\n",
    "z.close()"
   ]
  },
  {
   "cell_type": "code",
   "execution_count": 8,
   "metadata": {},
   "outputs": [
    {
     "name": "stdout",
     "output_type": "stream",
     "text": [
      "david,34,22,5\n",
      "carlos,23,11,22\n",
      "\n"
     ]
    }
   ],
   "source": [
    "#change some information \n",
    "edit=info.replace(\"bibek\",\"david\")\n",
    "print(edit)#but no change in file."
   ]
  },
  {
   "cell_type": "code",
   "execution_count": 9,
   "metadata": {},
   "outputs": [],
   "source": [
    "#it will change in file also.\n",
    "z=open(\"mark1.txt\",\"w+\")\n",
    "z.write(edit)\n",
    "z.close()"
   ]
  },
  {
   "cell_type": "code",
   "execution_count": 10,
   "metadata": {},
   "outputs": [],
   "source": [
    "#making a null file.\n",
    "n=5\n",
    "for i in range(n):\n",
    "    z=open(f\"nepal{i}.txt\",\"x\")\n",
    "    z.close()"
   ]
  },
  {
   "cell_type": "code",
   "execution_count": 20,
   "metadata": {},
   "outputs": [
    {
     "name": "stdout",
     "output_type": "stream",
     "text": [
      "\n",
      "enter for search?sd\n",
      "no\n"
     ]
    }
   ],
   "source": [
    "z=open(\"class.txt\",\"+r\")\n",
    "data=z.read()\n",
    "print(data)\n",
    "z.close()\n",
    "search=input(\"enter for search?\")\n",
    "if search in data:\n",
    "    print(\"yes:\")\n",
    "else:\n",
    "    print(\"no\")"
   ]
  },
  {
   "cell_type": "code",
   "execution_count": 30,
   "metadata": {},
   "outputs": [
    {
     "name": "stdout",
     "output_type": "stream",
     "text": [
      "['ram 1 2 3 ', ' shyam 1 2 3 ', ' hari 1 2 3']\n",
      "ram 1 2 3 \n"
     ]
    }
   ],
   "source": [
    "data=\"ram 1 2 3 \\n shyam 1 2 3 \\n hari 1 2 3\"\n",
    "x=data.split(\"\\n\")\n",
    "print(x)\n",
    "print(x[0])"
   ]
  },
  {
   "cell_type": "code",
   "execution_count": null,
   "metadata": {},
   "outputs": [],
   "source": [
    "#file management"
   ]
  },
  {
   "cell_type": "code",
   "execution_count": 38,
   "metadata": {},
   "outputs": [
    {
     "name": "stdout",
     "output_type": "stream",
     "text": [
      "sorry\n"
     ]
    }
   ],
   "source": [
    "#delete file\n",
    "import os\n",
    "try:\n",
    "    os.remove(\"python.txt\")\n",
    "    print(\"file is removed\")\n",
    "except:\n",
    "    print(\"sorry\")"
   ]
  },
  {
   "cell_type": "code",
   "execution_count": 34,
   "metadata": {},
   "outputs": [
    {
     "name": "stdout",
     "output_type": "stream",
     "text": [
      "there is no such file\n"
     ]
    }
   ],
   "source": [
    "#delete file through path\n",
    "import os\n",
    "if os.path.exists(\"class1.txt\"):\n",
    "    os.remove(\"class.txt\")\n",
    "else:\n",
    "    print(\"there is no such file\")"
   ]
  },
  {
   "cell_type": "code",
   "execution_count": 36,
   "metadata": {},
   "outputs": [
    {
     "name": "stdout",
     "output_type": "stream",
     "text": [
      "error\n"
     ]
    }
   ],
   "source": [
    "#deleting a file in a row\n",
    "import os \n",
    "try:\n",
    "    os.remove(f\"nepal{i}.txt\")\n",
    "except:\n",
    "    print(\"error\")\n"
   ]
  },
  {
   "cell_type": "code",
   "execution_count": 40,
   "metadata": {},
   "outputs": [
    {
     "data": {
      "text/plain": [
       "'Untitled Folder\\\\nepal1.txt'"
      ]
     },
     "execution_count": 40,
     "metadata": {},
     "output_type": "execute_result"
    }
   ],
   "source": [
    "#copying a file\n",
    "import shutil as s\n",
    "src=\"nepal1.txt\"\n",
    "dst=\"Untitled Folder\"\n",
    "s.copy(src,dst)"
   ]
  },
  {
   "cell_type": "code",
   "execution_count": 46,
   "metadata": {},
   "outputs": [
    {
     "data": {
      "text/plain": [
       "'Untitled Folder 4'"
      ]
     },
     "execution_count": 46,
     "metadata": {},
     "output_type": "execute_result"
    }
   ],
   "source": [
    "#copying a folder\n",
    "import shutil as s\n",
    "src=\"Untitled Folder\"\n",
    "dst=\"Untitled Folder 4\"\n",
    "s.copytree(src,dst)\n",
    "#first it create a folder then it paste it. "
   ]
  },
  {
   "cell_type": "code",
   "execution_count": 47,
   "metadata": {},
   "outputs": [
    {
     "data": {
      "text/plain": [
       "'Untitled Folder 4\\\\Untitled Folder'"
      ]
     },
     "execution_count": 47,
     "metadata": {},
     "output_type": "execute_result"
    }
   ],
   "source": [
    "#using move\n",
    "import shutil as s\n",
    "src=\"Untitled Folder\"\n",
    "dst=\"Untitled Folder 4\"\n",
    "s.move(src,dst)#it will copy folder as well."
   ]
  },
  {
   "cell_type": "code",
   "execution_count": null,
   "metadata": {},
   "outputs": [],
   "source": [
    "#renameing the folder name\n",
    "import os\n",
    "src="
   ]
  },
  {
   "cell_type": "code",
   "execution_count": 3,
   "metadata": {},
   "outputs": [
    {
     "name": "stdout",
     "output_type": "stream",
     "text": [
      "1.hello \n",
      "2.hello\n",
      "3.hello \n",
      "4.hello\n",
      "5.hello \n",
      "6.hello\n",
      "7.hello \n",
      "8.hello\n"
     ]
    }
   ],
   "source": [
    "#read a file\n",
    "with open(\"abc.txt\",\"r+\") as f:\n",
    "    print(f.read())"
   ]
  },
  {
   "cell_type": "code",
   "execution_count": 6,
   "metadata": {},
   "outputs": [
    {
     "name": "stdout",
     "output_type": "stream",
     "text": [
      "1.hello \n",
      "2.hello\n",
      "3.hello \n"
     ]
    }
   ],
   "source": [
    "with open(\"abc.txt\",\"r+\") as f:\n",
    "    print(f.readline(),end=\"\")\n",
    "    print(f.readline(),end=\"\")\n",
    "    print(f.readline(),end=\"\")\n"
   ]
  },
  {
   "cell_type": "code",
   "execution_count": 7,
   "metadata": {},
   "outputs": [
    {
     "name": "stdout",
     "output_type": "stream",
     "text": [
      "['1.hello \\n', '2.hello\\n', '3.hello \\n', '4.hello\\n', '5.hello \\n', '6.hello\\n', '7.hello \\n', '8.hello']\n"
     ]
    }
   ],
   "source": [
    "with open(\"abc.txt\",\"r+\") as f:\n",
    "    print(f.readlines())"
   ]
  },
  {
   "cell_type": "code",
   "execution_count": 23,
   "metadata": {},
   "outputs": [
    {
     "name": "stdout",
     "output_type": "stream",
     "text": [
      "total line:8\n",
      "enter line no:2\n",
      "2.hello\n",
      "\n"
     ]
    }
   ],
   "source": [
    "with open(\"abc.txt\",\"r+\") as f:\n",
    "    n=int(input(\"total line:\"))\n",
    "    line=int(input(\"enter line no:\"))\n",
    "    for i in range(1,n+1):\n",
    "        if i==line:\n",
    "            print(f.readline())\n",
    "        f.readline()"
   ]
  },
  {
   "cell_type": "code",
   "execution_count": 28,
   "metadata": {},
   "outputs": [
    {
     "name": "stdout",
     "output_type": "stream",
     "text": [
      "8\n",
      "1.hello \n",
      "2.hello\n",
      "3.hello \n",
      "4.hello\n",
      "5.hello \n",
      "6.hello\n",
      "7.hello \n",
      "8.hello\n",
      "9.hello\n",
      "9.hello\n",
      "9.hello\n"
     ]
    }
   ],
   "source": [
    "with open(\"abc.txt\",\"a\") as f:\n",
    "    print(f.write(\"\\n9.hello\"))\n",
    "with open(\"abc.txt\",\"r+\") as f:\n",
    "    print(f.read())"
   ]
  },
  {
   "cell_type": "code",
   "execution_count": 7,
   "metadata": {},
   "outputs": [
    {
     "name": "stdout",
     "output_type": "stream",
     "text": [
      "enter how many times:2\n",
      "enter your name:bibek\n",
      "entrer your age:26\n",
      "enter your address?us\n",
      "enter your name:binaya\n",
      "entrer your age:28\n",
      "enter your address?canada\n",
      "29\n",
      "bibek 26 us\n",
      "binaya 28 canada\n",
      "\n"
     ]
    }
   ],
   "source": [
    "with open(\"xyz.txt\",\"r+\") as f:\n",
    "    f.read()\n",
    "with open(\"xyz.txt\",\"a\") as f:\n",
    "    n=int(input(\"enter how many times:\"))\n",
    "    sum=\"\"\n",
    "    for i in range(n):\n",
    "        name=input(\"enter your name:\")\n",
    "        age=int(input(\"entrer your age:\"))\n",
    "        add=input(\"enter your address?\")\n",
    "        x=f\"{name} {age} {add}\\n\"\n",
    "        sum+=x\n",
    "    print(f.write(sum))\n",
    "with open(\"xyz.txt\",\"r+\") as f:\n",
    "    print(f.read())\n",
    "# edit=sum.replace(\"bibek\",\"carlos\")\n",
    "# print(edit)"
   ]
  },
  {
   "cell_type": "code",
   "execution_count": 8,
   "metadata": {},
   "outputs": [
    {
     "name": "stdout",
     "output_type": "stream",
     "text": [
      "carlos 26 us\n",
      "binaya 28 canada\n",
      "\n"
     ]
    }
   ],
   "source": [
    "edit=sum.replace(\"bibek\",\"carlos\")\n",
    "print(edit)#no change in actual file."
   ]
  },
  {
   "cell_type": "code",
   "execution_count": 9,
   "metadata": {},
   "outputs": [],
   "source": [
    "with open(\"xyz.txt\",\"r+\") as f:\n",
    "    edit=sum.replace(\"bibek\",\"chintu\")\n",
    "    f.write(edit)"
   ]
  },
  {
   "cell_type": "code",
   "execution_count": 6,
   "metadata": {},
   "outputs": [
    {
     "name": "stdout",
     "output_type": "stream",
     "text": [
      "enter how many trimes?2\n",
      "enter your name:bibek\n",
      "math = 12\n",
      "phy =23\n",
      "che =34\n",
      "enter your name:carlos\n",
      "math = 56\n",
      "phy =34\n",
      "che =23\n"
     ]
    }
   ],
   "source": [
    "n=int(input(\"enter how many trimes?\"))\n",
    "info=\"\"\n",
    "for i in range(n):\n",
    "    name=input(\"enter your name:\")\n",
    "    math=int(input(\"math = \"))\n",
    "    phy=int(input(\"phy =\"))\n",
    "    che=int(input(\"che =\"))\n",
    "    x=f\"{name} {math} {phy} {che}\\n\"\n",
    "    info+=x\n",
    "info\n",
    "with open(\"pqr.txt\",\"w+\") as f:\n",
    "    f.read()\n",
    "with open(\"pqr.txt\",\"a\") as f:\n",
    "    f.write(info)"
   ]
  },
  {
   "cell_type": "code",
   "execution_count": null,
   "metadata": {},
   "outputs": [],
   "source": []
  },
  {
   "cell_type": "code",
   "execution_count": null,
   "metadata": {},
   "outputs": [],
   "source": []
  },
  {
   "cell_type": "markdown",
   "metadata": {},
   "source": []
  },
  {
   "cell_type": "code",
   "execution_count": 1,
   "metadata": {},
   "outputs": [
    {
     "name": "stdout",
     "output_type": "stream",
     "text": [
      "1>hello\n"
     ]
    }
   ],
   "source": [
    "with open(\"xxx.txt\",\"r+\") as f:\n",
    "    print(f.read())"
   ]
  },
  {
   "cell_type": "code",
   "execution_count": 3,
   "metadata": {},
   "outputs": [
    {
     "name": "stdout",
     "output_type": "stream",
     "text": [
      "\n"
     ]
    }
   ],
   "source": [
    "with open(\"aaa.txt\",\"w+\") as f:\n",
    "    print(f.read())"
   ]
  },
  {
   "cell_type": "code",
   "execution_count": null,
   "metadata": {},
   "outputs": [],
   "source": []
  }
 ],
 "metadata": {
  "kernelspec": {
   "display_name": "Python 3",
   "language": "python",
   "name": "python3"
  },
  "language_info": {
   "codemirror_mode": {
    "name": "ipython",
    "version": 3
   },
   "file_extension": ".py",
   "mimetype": "text/x-python",
   "name": "python",
   "nbconvert_exporter": "python",
   "pygments_lexer": "ipython3",
   "version": "3.8.3"
  }
 },
 "nbformat": 4,
 "nbformat_minor": 4
}
