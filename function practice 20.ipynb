{
 "cells": [
  {
   "cell_type": "code",
   "execution_count": 12,
   "metadata": {},
   "outputs": [
    {
     "name": "stdout",
     "output_type": "stream",
     "text": [
      "enter a string you want ?BifB cvS\n",
      "upper string number are 3\n",
      "lower string number are 4\n",
      "total space aare: 1\n"
     ]
    }
   ],
   "source": [
    "def string():\n",
    "    x=input(\"enter a string you want ?\")\n",
    "    count1=0\n",
    "    count2=0\n",
    "    count3=0\n",
    "    for i in x:\n",
    "        if i.isupper():\n",
    "            count1+=1\n",
    "        elif i.islower():\n",
    "            count2+=1\n",
    "        elif i.isspace():\n",
    "            count3+=1\n",
    "    print(\"upper string number are\",count1)\n",
    "    print(\"lower string number are\",count2)\n",
    "    print(\"total space aare:\",count3)\n",
    "string()\n",
    "\n",
    "\n",
    "\n"
   ]
  },
  {
   "cell_type": "code",
   "execution_count": 11,
   "metadata": {},
   "outputs": [
    {
     "name": "stdout",
     "output_type": "stream",
     "text": [
      "enters,f,g,ha\n",
      "['f', 'g', 'ha', 's']\n"
     ]
    }
   ],
   "source": [
    "#creating a list.\n",
    "list1=[str(e) for e in input(\"enter\").split(',')]\n",
    "print(sorted(list1))"
   ]
  },
  {
   "cell_type": "code",
   "execution_count": 2,
   "metadata": {},
   "outputs": [
    {
     "name": "stdout",
     "output_type": "stream",
     "text": [
      "****\n",
      " ***\n",
      "  **\n",
      "   *\n"
     ]
    }
   ],
   "source": [
    "for i in range(1,5):\n",
    "    for j in range(1,5):\n",
    "        if j>=i:\n",
    "            print(\"*\",end='')\n",
    "        else:\n",
    "            print(\" \",end='')\n",
    "    print()\n",
    "        \n",
    "        \n",
    "        \n",
    "        \n",
    "        \n",
    "        "
   ]
  },
  {
   "cell_type": "code",
   "execution_count": 5,
   "metadata": {},
   "outputs": [
    {
     "name": "stdout",
     "output_type": "stream",
     "text": [
      "   *\n",
      "  **\n",
      " ***\n",
      "****\n"
     ]
    }
   ],
   "source": [
    "for i in range(1,5):\n",
    "    for j in range(1,5):\n",
    "        if j>=5-i:\n",
    "              print(\"*\",end='')\n",
    "        else:\n",
    "            print(\" \",end='')\n",
    "    print()\n",
    "\n",
    "\n",
    "\n",
    "\n"
   ]
  },
  {
   "cell_type": "code",
   "execution_count": 7,
   "metadata": {},
   "outputs": [
    {
     "name": "stdout",
     "output_type": "stream",
     "text": [
      "****   \n",
      "***    \n",
      "**     \n",
      "*      \n"
     ]
    }
   ],
   "source": [
    "for i in range(1,5):\n",
    "    for j in range(1,8):\n",
    "        if j<=5-i:\n",
    "             print(\"*\",end='')\n",
    "        else:\n",
    "            print(\" \",end='')\n",
    "    print()\n",
    "\n",
    "\n",
    "\n"
   ]
  },
  {
   "cell_type": "code",
   "execution_count": 14,
   "metadata": {},
   "outputs": [
    {
     "name": "stdout",
     "output_type": "stream",
     "text": [
      "enter number:3,5,6,1\n",
      "[1, 3, 5, 6]\n",
      "5\n"
     ]
    }
   ],
   "source": [
    "list1=[int(e) for e in input(\"enter number:\").split(',')]\n",
    "print(sorted(list1))\n",
    "print(list1[1])\n",
    "\n",
    "\n",
    "\n",
    "\n",
    "\n",
    "\n",
    "\n",
    "\n",
    "\n"
   ]
  },
  {
   "cell_type": "code",
   "execution_count": null,
   "metadata": {},
   "outputs": [],
   "source": []
  }
 ],
 "metadata": {
  "kernelspec": {
   "display_name": "Python 3",
   "language": "python",
   "name": "python3"
  },
  "language_info": {
   "codemirror_mode": {
    "name": "ipython",
    "version": 3
   },
   "file_extension": ".py",
   "mimetype": "text/x-python",
   "name": "python",
   "nbconvert_exporter": "python",
   "pygments_lexer": "ipython3",
   "version": "3.8.3"
  }
 },
 "nbformat": 4,
 "nbformat_minor": 4
}
