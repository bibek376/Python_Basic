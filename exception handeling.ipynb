{
 "cells": [
  {
   "cell_type": "code",
   "execution_count": null,
   "metadata": {},
   "outputs": [],
   "source": [
    "try:\n",
    "    <operations>\n",
    "except:\n",
    "    <operations>\n",
    "    "
   ]
  },
  {
   "cell_type": "code",
   "execution_count": 2,
   "metadata": {},
   "outputs": [
    {
     "name": "stdout",
     "output_type": "stream",
     "text": [
      "enter the value of a:ten\n",
      "enter int\n"
     ]
    }
   ],
   "source": [
    "try:\n",
    "    a=int(input(\"enter the value of a:\"))\n",
    "    print(a)\n",
    "except:\n",
    "    print(\"enter int\")"
   ]
  },
  {
   "cell_type": "code",
   "execution_count": 4,
   "metadata": {},
   "outputs": [
    {
     "name": "stdout",
     "output_type": "stream",
     "text": [
      "enter the value of a:ten\n"
     ]
    },
    {
     "ename": "ValueError",
     "evalue": "invalid literal for int() with base 10: 'ten'",
     "output_type": "error",
     "traceback": [
      "\u001b[1;31m---------------------------------------------------------------------------\u001b[0m",
      "\u001b[1;31mValueError\u001b[0m                                Traceback (most recent call last)",
      "\u001b[1;32m<ipython-input-4-320d7193372e>\u001b[0m in \u001b[0;36m<module>\u001b[1;34m\u001b[0m\n\u001b[1;32m----> 1\u001b[1;33m \u001b[0ma\u001b[0m\u001b[1;33m=\u001b[0m\u001b[0mint\u001b[0m\u001b[1;33m(\u001b[0m\u001b[0minput\u001b[0m\u001b[1;33m(\u001b[0m\u001b[1;34m\"enter the value of a:\"\u001b[0m\u001b[1;33m)\u001b[0m\u001b[1;33m)\u001b[0m\u001b[1;33m\u001b[0m\u001b[1;33m\u001b[0m\u001b[0m\n\u001b[0m\u001b[0;32m      2\u001b[0m \u001b[0mprint\u001b[0m\u001b[1;33m(\u001b[0m\u001b[0ma\u001b[0m\u001b[1;33m)\u001b[0m\u001b[1;33m\u001b[0m\u001b[1;33m\u001b[0m\u001b[0m\n",
      "\u001b[1;31mValueError\u001b[0m: invalid literal for int() with base 10: 'ten'"
     ]
    }
   ],
   "source": [
    "a=int(input(\"enter the value of a:\"))\n",
    "print(a)"
   ]
  },
  {
   "cell_type": "code",
   "execution_count": 5,
   "metadata": {},
   "outputs": [
    {
     "name": "stdout",
     "output_type": "stream",
     "text": [
      "enter the value of a:ten\n",
      "enter int\n"
     ]
    }
   ],
   "source": [
    "try:\n",
    "    a=int(input(\"enter the value of a:\"))\n",
    "    print(a)\n",
    "except ValueError :\n",
    "    print(\"enter int\")\n",
    "\n"
   ]
  },
  {
   "cell_type": "code",
   "execution_count": 8,
   "metadata": {},
   "outputs": [
    {
     "name": "stdout",
     "output_type": "stream",
     "text": [
      "enter the value of a:0\n",
      "enter the value of b5\n",
      "can not divide by zero\n"
     ]
    }
   ],
   "source": [
    "try:\n",
    "    a=int(input(\"enter the value of a:\"))\n",
    "    b=int(input(\"enter the value of b\"))\n",
    "    c=b/a\n",
    "    print(c)\n",
    "except ValueError :#error name\n",
    "    print(\"enter int\")\n",
    "except ZeroDivisionError:#error name\n",
    "    print(\"can not divide by zero\")\n"
   ]
  },
  {
   "cell_type": "code",
   "execution_count": 9,
   "metadata": {},
   "outputs": [
    {
     "name": "stdout",
     "output_type": "stream",
     "text": [
      "enter the value of a:ten\n",
      "enter int\n",
      "enter the value of a:ten\n",
      "enter int\n",
      "enter the value of a:qe\n",
      "enter int\n",
      "enter the value of a:df\n",
      "enter int\n",
      "enter the value of a:5\n",
      "enter the value of b4\n",
      "0.8\n"
     ]
    }
   ],
   "source": [
    "def cal():\n",
    "    try:\n",
    "        a=int(input(\"enter the value of a:\"))\n",
    "        b=int(input(\"enter the value of b\"))\n",
    "        c=b/a\n",
    "        print(c)\n",
    "    except ValueError :#error name\n",
    "        print(\"enter int\")\n",
    "        cal()\n",
    "    except ZeroDivisionError:#error name\n",
    "        print(\"can not divide by zero\")\n",
    "        cal()\n",
    "cal()\n"
   ]
  },
  {
   "cell_type": "code",
   "execution_count": 10,
   "metadata": {},
   "outputs": [
    {
     "name": "stdout",
     "output_type": "stream",
     "text": [
      "enter the value of a:4\n",
      "enter the value of b5\n",
      "1.25\n"
     ]
    }
   ],
   "source": [
    "try:\n",
    "    a=int(input(\"enter the value of a:\"))\n",
    "    b=int(input(\"enter the value of b\"))\n",
    "    c=b/a\n",
    "except ValueError :#error name\n",
    "        print(\"enter int\")\n",
    "except ZeroDivisionError:#error name\n",
    "        print(\"can not divide by zero\")\n",
    "else:\n",
    "    print(c)"
   ]
  },
  {
   "cell_type": "code",
   "execution_count": 12,
   "metadata": {},
   "outputs": [
    {
     "name": "stdout",
     "output_type": "stream",
     "text": [
      "enter the value of a:5\n",
      "enter the value of b6\n",
      "1.2\n",
      "thank you\n"
     ]
    }
   ],
   "source": [
    "#def cal():\n",
    "try:\n",
    "    a=int(input(\"enter the value of a:\"))\n",
    "    b=int(input(\"enter the value of b\"))\n",
    "    c=b/a\n",
    "    \n",
    "except ValueError :#error name\n",
    "    print(\"enter int\")\n",
    "except ZeroDivisionError:#error name\n",
    "    print(\"can not divide by zero\")\n",
    "else:\n",
    "    print(c)\n",
    "finally:#always executed.\n",
    "    print(\"thank you\")"
   ]
  },
  {
   "cell_type": "code",
   "execution_count": 15,
   "metadata": {},
   "outputs": [
    {
     "name": "stdout",
     "output_type": "stream",
     "text": [
      "enter the value of a:\n",
      "5\n",
      "enter the value of b:\n",
      "0\n",
      "tha value of b can not be zero:\n"
     ]
    }
   ],
   "source": [
    "try:\n",
    "    a=int(input(\"enter the value of a:\\n\"))\n",
    "    b=int(input(\"enter the value of b:\\n\"))\n",
    "    if b==0:\n",
    "        raise ZeroDivisionError\n",
    "    else:\n",
    "        print(\"a/b\",a/b)\n",
    "except ZeroDivisionError:\n",
    "    print('tha value of b can not be zero:')\n"
   ]
  },
  {
   "cell_type": "code",
   "execution_count": 21,
   "metadata": {},
   "outputs": [
    {
     "name": "stdout",
     "output_type": "stream",
     "text": [
      "enter the value of x:-5\n",
      "value must be +\n",
      "enter the value of x:-2\n",
      "value must be +\n",
      "enter the value of x:4\n",
      "4\n"
     ]
    }
   ],
   "source": [
    "def cal():\n",
    "    try:\n",
    "        x=int(input(\"enter the value of x:\"))\n",
    "        if x<0:\n",
    "            raise valueError\n",
    "    except:\n",
    "        print(\"value must be +\")\n",
    "        cal()\n",
    "    else:\n",
    "        print(x)\n",
    "cal()    "
   ]
  },
  {
   "cell_type": "code",
   "execution_count": 29,
   "metadata": {},
   "outputs": [
    {
     "name": "stdout",
     "output_type": "stream",
     "text": [
      "enter the value of x:1\n",
      "the value should be +:\n"
     ]
    }
   ],
   "source": [
    "try:\n",
    "    x=int(input(\"enter the value of x:\"))\n",
    "    if x<0:\n",
    "        raise NameError\n",
    "    elif x==1:\n",
    "        raise zeroDivisionError\n",
    "except NameError:\n",
    "    print(\"the value should be +:\")\n",
    "else:\n",
    "    print(x)"
   ]
  },
  {
   "cell_type": "code",
   "execution_count": null,
   "metadata": {},
   "outputs": [],
   "source": [
    "#assert statement\n",
    "try:\n",
    "    num=int()\n",
    "\n"
   ]
  }
 ],
 "metadata": {
  "kernelspec": {
   "display_name": "Python 3",
   "language": "python",
   "name": "python3"
  },
  "language_info": {
   "codemirror_mode": {
    "name": "ipython",
    "version": 3
   },
   "file_extension": ".py",
   "mimetype": "text/x-python",
   "name": "python",
   "nbconvert_exporter": "python",
   "pygments_lexer": "ipython3",
   "version": "3.8.3"
  }
 },
 "nbformat": 4,
 "nbformat_minor": 4
}
