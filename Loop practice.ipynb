{
 "cells": [
  {
   "cell_type": "code",
   "execution_count": 7,
   "metadata": {},
   "outputs": [
    {
     "name": "stdout",
     "output_type": "stream",
     "text": [
      "1505    1540    1575    1610    1645    1680    1715    1750    1785    1820    1855    1890    1925    1960    1995    2030    2065    2100    2135    2170    2205    2240    2275    2310    2345    2380    2415    2450    2485    2520    2555    2590    2625    2660    2695    "
     ]
    }
   ],
   "source": [
    "#Write a Python program to find those numbers which are divisible by 7 and multiple of 5, between 1500 and 2700 (both included)\n",
    "for num in range(1500,2701):\n",
    "    if (num%7==0) and (num%5==0):\n",
    "        print(num,end='    ')\n",
    "\n",
    "\n",
    "\n",
    "\n"
   ]
  },
  {
   "cell_type": "code",
   "execution_count": 13,
   "metadata": {},
   "outputs": [
    {
     "name": "stdout",
     "output_type": "stream",
     "text": [
      "enter temp. in celcius:60\n",
      "140.0\n",
      "enter temp. in fernhite:45\n",
      "7\n"
     ]
    }
   ],
   "source": [
    "import math as m\n",
    "C=int(input(\"enter temp. in celcius:\"))\n",
    "f=9/5*C+32\n",
    "print(f)\n",
    "F=int(input(\"enter temp. in fernhite:\"))\n",
    "c=m.floor(5/9*(F-32))\n",
    "print(c)\n",
    "\n",
    "\n"
   ]
  },
  {
   "cell_type": "code",
   "execution_count": 22,
   "metadata": {},
   "outputs": [
    {
     "name": "stdout",
     "output_type": "stream",
     "text": [
      "7\n"
     ]
    }
   ],
   "source": [
    "#python program to print random number in given range\n",
    "import random as bibek\n",
    "x=bibek.randrange(1,9)\n",
    "print(x)"
   ]
  },
  {
   "cell_type": "code",
   "execution_count": 24,
   "metadata": {},
   "outputs": [
    {
     "name": "stdout",
     "output_type": "stream",
     "text": [
      "*    \n",
      "**   \n",
      "***  \n",
      "**** \n",
      "*****\n",
      "**** \n",
      "***  \n",
      "**   \n",
      "*    \n"
     ]
    }
   ],
   "source": [
    "for i in range(1,10):\n",
    "    for j in range(1,6):\n",
    "        if j<=i and j<=10-i:\n",
    "            print(\"*\",end='')\n",
    "        else:\n",
    "            print(\" \",end='')\n",
    "    print()\n",
    "    "
   ]
  },
  {
   "cell_type": "code",
   "execution_count": 3,
   "metadata": {},
   "outputs": [
    {
     "name": "stdout",
     "output_type": "stream",
     "text": [
      "enter the string:carlos\n",
      "solrac\n"
     ]
    }
   ],
   "source": [
    "#Write a Python program that accepts a word from the user and reverse it\n",
    "x=input(\"enter the string:\")\n",
    "print(x[::-1])\n",
    "\n",
    "\n"
   ]
  },
  {
   "cell_type": "code",
   "execution_count": 1,
   "metadata": {},
   "outputs": [
    {
     "name": "stdout",
     "output_type": "stream",
     "text": [
      "enter the list elements:3,6,8,9\n"
     ]
    }
   ],
   "source": [
    "list1=[eval(e) for e in input(\"enter the list elements:\").split(',')]\n",
    "list2=[]\n",
    "for x in (1,11):\n",
    "    if x%2==0:\n",
    "        print(list2.append(x))\n",
    "\n",
    "\n",
    "\n",
    "\n"
   ]
  },
  {
   "cell_type": "code",
   "execution_count": 19,
   "metadata": {},
   "outputs": [
    {
     "name": "stdout",
     "output_type": "stream",
     "text": [
      "enter the list elements:1,2,3,4,5,6,7,8,9\n",
      "None  None  None  None  None  None  None  None  None  length of even number is: 4\n",
      "length of odd number is: 5\n"
     ]
    }
   ],
   "source": [
    "#Write a Python program to count the number of even and odd numbers from a series of numbers.\n",
    "list1=[eval(e) for e in input(\"enter the list elements:\").split(',')]#creating a list\n",
    "list2=[]\n",
    "list3=[]\n",
    "for x in list1:#traverse in list1\n",
    "    if x%2==0:\n",
    "        a=list2.append(x)#append item in list2\n",
    "        print(a,end='  ')\n",
    "    else:\n",
    "        b=list3.append(x)#append item in list3\n",
    "        print(b,end='  ')\n",
    "print(\"length of even number is:\",len(list2))\n",
    "print(\"length of odd number is:\",len(list3))\n",
    "\n",
    "\n"
   ]
  },
  {
   "cell_type": "code",
   "execution_count": 26,
   "metadata": {},
   "outputs": [
    {
     "name": "stdout",
     "output_type": "stream",
     "text": [
      "enter different type of data type:2,6,9.7,\"f\"\n",
      "type of : 2 <class 'int'>\n",
      "type of : 6 <class 'int'>\n",
      "type of : 9.7 <class 'float'>\n",
      "type of : f <class 'str'>\n"
     ]
    }
   ],
   "source": [
    "#Write a Python program that prints each item and its corresponding type from the following list.\n",
    "list1=[eval(e) for e in input(\"enter different type of data type:\").split(',') ]\n",
    "for x in list1:\n",
    "    print(\"type of :\",x,type(x))\n",
    "\n",
    "\n"
   ]
  },
  {
   "cell_type": "code",
   "execution_count": 5,
   "metadata": {},
   "outputs": [
    {
     "name": "stdout",
     "output_type": "stream",
     "text": [
      "0\n",
      "1\n",
      "2\n",
      "4\n",
      "5\n"
     ]
    }
   ],
   "source": [
    "#Write a Python program that prints all the numbers from 0 to 6 except 3 and 6\n",
    "for num in range(0,7):\n",
    "    if num==3 or num==6:\n",
    "        continue\n",
    "    print(num)\n",
    "\n",
    "\n",
    "\n"
   ]
  },
  {
   "cell_type": "code",
   "execution_count": null,
   "metadata": {},
   "outputs": [],
   "source": []
  }
 ],
 "metadata": {
  "kernelspec": {
   "display_name": "Python 3",
   "language": "python",
   "name": "python3"
  },
  "language_info": {
   "codemirror_mode": {
    "name": "ipython",
    "version": 3
   },
   "file_extension": ".py",
   "mimetype": "text/x-python",
   "name": "python",
   "nbconvert_exporter": "python",
   "pygments_lexer": "ipython3",
   "version": "3.8.3"
  }
 },
 "nbformat": 4,
 "nbformat_minor": 4
}
