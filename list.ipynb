{
 "cells": [
  {
   "cell_type": "code",
   "execution_count": 5,
   "metadata": {},
   "outputs": [
    {
     "name": "stdout",
     "output_type": "stream",
     "text": [
      "a\n",
      "['a', 'e', 'i']\n",
      "u\n",
      "['a', 'e', 'i', 'o', 'u']\n",
      "<class 'list'>\n"
     ]
    }
   ],
   "source": [
    "a=[\"a\",\"e\",\"i\",\"o\",\"u\"]\n",
    "print(a[0])\n",
    "print(a[0:3])\n",
    "print(a[-1])\n",
    "print(a)\n",
    "print(type(a))"
   ]
  },
  {
   "cell_type": "code",
   "execution_count": 10,
   "metadata": {},
   "outputs": [
    {
     "name": "stdout",
     "output_type": "stream",
     "text": [
      "['a', 'e', 'i', 'o', 'u', 'A', 'B', 'c']\n",
      "['A', 'B', 'c', 'A', 'B', 'c']\n",
      "['A', 'BB', 'c']\n"
     ]
    }
   ],
   "source": [
    "a=[\"a\",\"e\",\"i\",\"o\",\"u\"]\n",
    "b=[\"A\",\"B\",\"c\"]\n",
    "print(a+b)\n",
    "print(b*2)#multiply the list \n",
    "#for replacing a value in list\n",
    "b[1]=\"BB\"\n",
    "print(b)"
   ]
  },
  {
   "cell_type": "code",
   "execution_count": 3,
   "metadata": {},
   "outputs": [
    {
     "name": "stdout",
     "output_type": "stream",
     "text": [
      "enter the value of n= \n",
      "2\n",
      "enter value in list:fg\n",
      "enter value in list:sd\n",
      "['fg', 'sd']\n"
     ]
    }
   ],
   "source": [
    "list1=[]#creating a empty list\n",
    "n=int(input(\"enter the value of n= \\n\"))\n",
    "for num in range(n):\n",
    "    x=input(\"enter value in list:\")\n",
    "    list1=list1+[x]#making x as a list\n",
    "print(list1)\n"
   ]
  },
  {
   "cell_type": "code",
   "execution_count": 6,
   "metadata": {},
   "outputs": [
    {
     "name": "stdout",
     "output_type": "stream",
     "text": [
      "enter the value of n= \n",
      "3\n",
      "enter value in list:5\n",
      "enter value in list:9\n",
      "enter value in list:12\n",
      "[5, 9, 12]\n",
      "sum is: 26\n"
     ]
    }
   ],
   "source": [
    "#program to calculate sum of all the element in list.\n",
    "list1=[]\n",
    "sum=0#set sum as 0\n",
    "n=int(input(\"enter the value of n= \\n\"))\n",
    "for num in range(n):\n",
    "    x=int(input(\"enter value in list:\"))\n",
    "    list1=list1+[x]\n",
    "    sum=sum+x #sum+=x\n",
    "print(list1)\n",
    "print(\"sum is:\",sum)\n"
   ]
  },
  {
   "cell_type": "code",
   "execution_count": 9,
   "metadata": {},
   "outputs": [
    {
     "name": "stdout",
     "output_type": "stream",
     "text": [
      "enter list element:3,4,5\n",
      "[3, 4, 5]\n",
      "None\n"
     ]
    }
   ],
   "source": [
    "#creating a list in one line.\n",
    "list1=[eval(e) for e in input(\"enter list element:\").split(\",\")]\n",
    "print(list1)"
   ]
  },
  {
   "cell_type": "code",
   "execution_count": 3,
   "metadata": {},
   "outputs": [
    {
     "name": "stdout",
     "output_type": "stream",
     "text": [
      "how many times?\n",
      "2\n",
      "enter the value ?\n",
      "5\n",
      "enter the value ?\n",
      "1\n",
      "[5, 1]\n",
      "sum is: 6\n",
      "max is: 5\n",
      "min is: 1\n",
      "[1, 5]\n",
      "None\n"
     ]
    }
   ],
   "source": [
    "list1=[]\n",
    "n=int(input(\"how many times?\\n\"))\n",
    "for num in range(n):\n",
    "    x=int(input(\"enter the value ?\\n\"))\n",
    "    list1=list1+[x]\n",
    "print(list1)\n",
    "print(\"sum is:\",sum(list1))\n",
    "print(\"max is:\",max(list1))\n",
    "print(\"min is:\",min(list1))\n",
    "print(sorted(list1))"
   ]
  },
  {
   "cell_type": "code",
   "execution_count": 8,
   "metadata": {},
   "outputs": [
    {
     "name": "stdout",
     "output_type": "stream",
     "text": [
      "[7, 5, 2, 1]\n"
     ]
    }
   ],
   "source": [
    "list1=[2,5,7,1]\n",
    "list1.sort()#update value in list1 as well.\n",
    "list1.reverse()#after sort it will reverse the list1 and print list1\n",
    "print(list1)\n"
   ]
  },
  {
   "cell_type": "code",
   "execution_count": 9,
   "metadata": {},
   "outputs": [
    {
     "name": "stdout",
     "output_type": "stream",
     "text": [
      "['apple', 'ball', 'cat', 'dog']\n"
     ]
    }
   ],
   "source": [
    "#append function\n",
    "a=[\"apple\",\"ball\",\"cat\"]\n",
    "a.append(\"dog\")\n",
    "print(a)\n",
    "\n"
   ]
  },
  {
   "cell_type": "code",
   "execution_count": 13,
   "metadata": {},
   "outputs": [
    {
     "name": "stdout",
     "output_type": "stream",
     "text": [
      "how many times?\n",
      "2\n",
      "enter your name?\n",
      "bibek\n",
      "enter your age?\n",
      "12\n",
      "enter your weight?\n",
      "45\n",
      "enter your name?\n",
      "binaya\n",
      "enter your age?\n",
      "11\n",
      "enter your weight?\n",
      "35\n",
      "bibek 12 45\n",
      "binaya 11 35\n",
      "\n"
     ]
    }
   ],
   "source": [
    "store=\"\"\n",
    "n=int(input(\"how many times?\\n\"))\n",
    "for num in range(n):\n",
    "    name=input(\"enter your name?\\n\")\n",
    "    age=int(input(\"enter your age?\\n\"))\n",
    "    weight=int(input(\"enter your weight?\\n\"))\n",
    "    last=f\"{name} {age} {weight}\\n\"\n",
    "    store+=last\n",
    "print(store)"
   ]
  },
  {
   "cell_type": "code",
   "execution_count": 21,
   "metadata": {},
   "outputs": [
    {
     "name": "stdout",
     "output_type": "stream",
     "text": [
      "how many times?\n",
      "2\n",
      "enter your name?\n",
      "carlos\n",
      "enter your age?\n",
      "12\n",
      "enter your weight?\n",
      "12\n",
      "enter your name?\n",
      "bibek\n",
      "enter your age?\n",
      "11\n",
      "enter your weight?\n",
      "11\n",
      "['carlos 12 12', 'bibek 11 11']\n"
     ]
    }
   ],
   "source": [
    "store=[]\n",
    "n=int(input(\"how many times?\\n\"))\n",
    "for num in range(n):\n",
    "    name=input(\"enter your name?\\n\")\n",
    "    age=int(input(\"enter your age?\\n\"))\n",
    "    weight=int(input(\"enter your weight?\\n\"))\n",
    "    last=f\"{name} {age} {weight}\"\n",
    "    store.append(last)\n",
    "print(store)"
   ]
  },
  {
   "cell_type": "code",
   "execution_count": 5,
   "metadata": {},
   "outputs": [
    {
     "name": "stdout",
     "output_type": "stream",
     "text": [
      "['ball', 'cat', 'dog']\n"
     ]
    }
   ],
   "source": [
    "#del function in python\n",
    "\n",
    "a=[\"apple\",\"ball\",\"cat\",\"dog\"]\n",
    "del a[0]\n",
    "print(a)\n",
    "del a#power full function even delete variable \n",
    "print(a)\n"
   ]
  },
  {
   "cell_type": "code",
   "execution_count": 7,
   "metadata": {},
   "outputs": [
    {
     "name": "stdout",
     "output_type": "stream",
     "text": [
      "['cat', 'dog']\n"
     ]
    }
   ],
   "source": [
    "#deleting value in range:\n",
    "a=[\"apple\",\"ball\",\"cat\",\"dog\"]\n",
    "del a[0:2]\n",
    "print(a)\n"
   ]
  },
  {
   "cell_type": "code",
   "execution_count": 10,
   "metadata": {},
   "outputs": [
    {
     "name": "stdout",
     "output_type": "stream",
     "text": [
      "['apple', 'cat', 'dog']\n"
     ]
    }
   ],
   "source": [
    "#using remove function\n",
    "a=[\"apple\",\"ball\",\"cat\",\"dog\"]\n",
    "a.remove(a[1])#mutuble function \n",
    "print(a)"
   ]
  },
  {
   "cell_type": "code",
   "execution_count": 11,
   "metadata": {},
   "outputs": [
    {
     "name": "stdout",
     "output_type": "stream",
     "text": [
      "[]\n"
     ]
    }
   ],
   "source": [
    "#using clear function\n",
    "a=[\"apple\",\"ball\",\"cat\",\"dog\"]\n",
    "a.clear()#it will clear all the list element in list\n",
    "print(a)"
   ]
  },
  {
   "cell_type": "code",
   "execution_count": 3,
   "metadata": {},
   "outputs": [
    {
     "name": "stdout",
     "output_type": "stream",
     "text": [
      "ball\n",
      "['apple', 'cat', 'dog']\n"
     ]
    }
   ],
   "source": [
    "#using pop function\n",
    "a=[\"apple\",\"ball\",\"cat\",\"dog\"]\n",
    "print(a.pop(1))\n",
    "print(a)"
   ]
  },
  {
   "cell_type": "code",
   "execution_count": 2,
   "metadata": {},
   "outputs": [
    {
     "name": "stdout",
     "output_type": "stream",
     "text": [
      "yes 2\n"
     ]
    }
   ],
   "source": [
    "#use of in method in list and print that value.\n",
    "a=[\"apple\",\"ball\",\"cat\",\"dog\",\"apple\"]\n",
    "if \"apple\" in a:\n",
    "    print(\"yes\",a.count(\"apple\"))\n",
    "else:\n",
    "    print(\"no\")\n"
   ]
  },
  {
   "cell_type": "code",
   "execution_count": 4,
   "metadata": {},
   "outputs": [
    {
     "data": {
      "text/plain": [
       "3"
      ]
     },
     "execution_count": 4,
     "metadata": {},
     "output_type": "execute_result"
    }
   ],
   "source": [
    "a=[\"apple\",\"ball\",\"cat\",\"dog\",\"apple\"]\n",
    "a.index(\"dog\")\n"
   ]
  },
  {
   "cell_type": "code",
   "execution_count": 6,
   "metadata": {},
   "outputs": [
    {
     "name": "stdout",
     "output_type": "stream",
     "text": [
      "['ball', 'cat', 'dog', 'apple']\n"
     ]
    }
   ],
   "source": [
    "a=[\"apple\",\"ball\",\"cat\",\"dog\",\"apple\"]\n",
    "a.remove(\"apple\")\n",
    "print(a)"
   ]
  },
  {
   "cell_type": "code",
   "execution_count": 9,
   "metadata": {},
   "outputs": [
    {
     "name": "stdout",
     "output_type": "stream",
     "text": [
      "enter x= apple\n",
      "['apple', 'ball', 'cat', 'dog', 'apple']\n"
     ]
    }
   ],
   "source": [
    "a=[\"apple\",\"ball\",\"cat\",\"dog\",\"apple\"]\n",
    "#a=[eval(e) for e in input(\"enter list element:\").split(\",\")]\n",
    "x=input(\"enter x= \")\n",
    "num=a.count(\"x\")\n",
    "for i in range(num):\n",
    "    a.remove(x)\n",
    "print(a)\n"
   ]
  },
  {
   "cell_type": "code",
   "execution_count": 16,
   "metadata": {},
   "outputs": [
    {
     "ename": "IndexError",
     "evalue": "list index out of range",
     "output_type": "error",
     "traceback": [
      "\u001b[1;31m---------------------------------------------------------------------------\u001b[0m",
      "\u001b[1;31mIndexError\u001b[0m                                Traceback (most recent call last)",
      "\u001b[1;32m<ipython-input-16-b2dc60b81ed7>\u001b[0m in \u001b[0;36m<module>\u001b[1;34m\u001b[0m\n\u001b[0;32m      4\u001b[0m        [4,\"ram\",23,\"india\"]]\n\u001b[0;32m      5\u001b[0m \u001b[1;32mfor\u001b[0m \u001b[0mnum\u001b[0m \u001b[1;32min\u001b[0m \u001b[0mrange\u001b[0m\u001b[1;33m(\u001b[0m\u001b[0mlen\u001b[0m\u001b[1;33m(\u001b[0m\u001b[0mlist1\u001b[0m\u001b[1;33m)\u001b[0m\u001b[1;33m)\u001b[0m\u001b[1;33m:\u001b[0m\u001b[1;33m\u001b[0m\u001b[1;33m\u001b[0m\u001b[0m\n\u001b[1;32m----> 6\u001b[1;33m     \u001b[1;32mif\u001b[0m \u001b[1;34m\"ram\"\u001b[0m \u001b[1;32min\u001b[0m \u001b[0mlist1\u001b[0m\u001b[1;33m[\u001b[0m\u001b[0mnum\u001b[0m\u001b[1;33m]\u001b[0m\u001b[1;33m[\u001b[0m\u001b[1;36m1\u001b[0m\u001b[1;33m]\u001b[0m\u001b[1;33m:\u001b[0m\u001b[1;33m\u001b[0m\u001b[1;33m\u001b[0m\u001b[0m\n\u001b[0m\u001b[0;32m      7\u001b[0m         \u001b[1;32mdel\u001b[0m \u001b[0mlist1\u001b[0m\u001b[1;33m[\u001b[0m\u001b[0mnum\u001b[0m\u001b[1;33m]\u001b[0m\u001b[1;33m\u001b[0m\u001b[1;33m\u001b[0m\u001b[0m\n\u001b[0;32m      8\u001b[0m \u001b[0mprint\u001b[0m\u001b[1;33m(\u001b[0m\u001b[0mlist1\u001b[0m\u001b[1;33m)\u001b[0m\u001b[1;33m\u001b[0m\u001b[1;33m\u001b[0m\u001b[0m\n",
      "\u001b[1;31mIndexError\u001b[0m: list index out of range"
     ]
    }
   ],
   "source": [
    "list1=[[1,\"ram\",78,\"patan\"],\n",
    "      [2,\"bibek\",78,\"gaindakot\"],\n",
    "       [3,\"carlos\",66,\"nepal\"],\n",
    "       [4,\"ram\",23,\"india\"]]\n",
    "for num in range(len(list1)):\n",
    "    if \"ram\" in list1[num][1]:\n",
    "        del list1[num]\n",
    "print(list1)\n",
    "\n",
    "\n",
    "\n",
    "#error"
   ]
  },
  {
   "cell_type": "code",
   "execution_count": 3,
   "metadata": {},
   "outputs": [
    {
     "name": "stdout",
     "output_type": "stream",
     "text": [
      "[[1, 'ram', 78, 'patan'], [2, 'bibek', 78, 'gaindakot'], [3, 'carlos', 66, 'nepal'], [4, 'ram', 23, 'india']]\n"
     ]
    }
   ],
   "source": [
    "list1=[[1,78,\"patan\"],\n",
    "      [2,\"bibek\",78,\"gaindakot\"],\n",
    "       [3,\"carlos\",66,\"nepal\"],\n",
    "       [4,\"ram\",23,\"india\"]]\n",
    "list1[0].insert(1,\"ram\")\n",
    "print(list1)\n"
   ]
  },
  {
   "cell_type": "code",
   "execution_count": 14,
   "metadata": {},
   "outputs": [
    {
     "name": "stdout",
     "output_type": "stream",
     "text": [
      "enter x = a\n",
      "['apple', 'ball', 'cat', 'dog', 'apple']\n",
      "['apple', 'ball', 'cat', 'dog', 'apple']\n"
     ]
    }
   ],
   "source": [
    "list1=[\"a\",\"b\",\"c\",\"a\"]\n",
    "x=input(\"enter x = \")\n",
    "n=list1.count(x)\n",
    "for i in range(n):\n",
    "    list1.remove(x)\n",
    "    print(a)\n",
    "\n",
    "#error"
   ]
  },
  {
   "cell_type": "code",
   "execution_count": 19,
   "metadata": {},
   "outputs": [
    {
     "name": "stdout",
     "output_type": "stream",
     "text": [
      "enter the number:c\n",
      "indes value of c is: 2\n"
     ]
    }
   ],
   "source": [
    "#printiing index value\n",
    "list1=[\"a\",\"b\",\"c\",\"d\",\"b\"]\n",
    "x=input(\"enter the number:\")\n",
    "for num in range(len(list1)):\n",
    "    if list1[num]==x:\n",
    "        print(f\"indes value of {x} is:\",num)#string formating\n"
   ]
  },
  {
   "cell_type": "code",
   "execution_count": 22,
   "metadata": {},
   "outputs": [
    {
     "name": "stdout",
     "output_type": "stream",
     "text": [
      "enter index value:3\n",
      "enter what value you want to replace?zz\n",
      "['a', 'b', 'c', 'zz', 'd', 'b']\n"
     ]
    }
   ],
   "source": [
    "#inserting new elemnts in list \n",
    "list1=[\"a\",\"b\",\"c\",\"d\",\"b\"]\n",
    "index=int(input(\"enter index value:\"))\n",
    "string=input(\"enter what value you want to replace?\")\n",
    "list1.insert(index,string)#index=index value   and string.\n",
    "print(list1)\n"
   ]
  },
  {
   "cell_type": "code",
   "execution_count": 24,
   "metadata": {},
   "outputs": [
    {
     "name": "stdout",
     "output_type": "stream",
     "text": [
      "[[], [], [], []]\n",
      "4\n",
      "<class 'list'>\n"
     ]
    }
   ],
   "source": [
    "list1=[[],[],[],[]]#2-D list or list inside list\n",
    "print(list1)\n",
    "print(len(list1))\n",
    "print(type(list1))"
   ]
  },
  {
   "cell_type": "code",
   "execution_count": 30,
   "metadata": {},
   "outputs": [
    {
     "name": "stdout",
     "output_type": "stream",
     "text": [
      "[[1, 2, 3], [4, 5, 6], [7, 8, 9]]\n",
      "[1, 2, 3]\n",
      "[7, 8, 9]\n",
      "6\n",
      "2\n",
      "[[1, 2, 3], [4, 5, 6], [7, 8, 9], [10, 11, 12]]\n",
      "[[1, 2, 3], [4, 5, 6], [7, 8, 9], [10, 11, 12], [10, 10, 10]]\n"
     ]
    }
   ],
   "source": [
    "#list1=[[1,2,3],[4,5,6],[7,8,9]] both are same\n",
    "list1=[[1,2,3],\n",
    "      [4,5,6],\n",
    "      [7,8,9]]\n",
    "print(list1)\n",
    "print(list1[0])\n",
    "print(list1[2])\n",
    "print(list1[1][2])\n",
    "print(list1[0][1])\n",
    "list1.insert(3,[10,11,12])\n",
    "print(list1)\n",
    "list1.append([10,10,10])\n",
    "print(list1)"
   ]
  },
  {
   "cell_type": "code",
   "execution_count": 33,
   "metadata": {},
   "outputs": [
    {
     "name": "stdout",
     "output_type": "stream",
     "text": [
      "[[1, 2, 3], [4, 5, 6], [7, 8, 9], [10, 12, 12]]\n"
     ]
    }
   ],
   "source": [
    "list1=[[1,2,3],[4,5,6],[7,8,9]]\n",
    "list2=[[10,12,12]]\n",
    "print(list1+list2)"
   ]
  },
  {
   "cell_type": "code",
   "execution_count": 33,
   "metadata": {},
   "outputs": [
    {
     "name": "stdout",
     "output_type": "stream",
     "text": [
      "how many times?2\n",
      "enter your name?\n",
      "bibek\n",
      "enter your age?\n",
      "23\n",
      "enter your address?\n",
      "nepal\n",
      "enter your name?\n",
      "carlos\n",
      "enter your age?\n",
      "22\n",
      "enter your address?\n",
      "berlin\n",
      "[['bibek', 23, 'nepal'], ['carlos', 22, 'berlin']]\n"
     ]
    }
   ],
   "source": [
    "list1=[]\n",
    "num=int(input(\"how many times?\"))\n",
    "for i in range(num):\n",
    "    name=input(\"enter your name?\\n\")\n",
    "    age=int(input(\"enter your age?\\n\"))\n",
    "    add=input(\"enter your address?\\n\")\n",
    "    store=[name,age,add]\n",
    "    list1.insert(i,store)#using insert function\n",
    "print(list1)"
   ]
  },
  {
   "cell_type": "code",
   "execution_count": null,
   "metadata": {},
   "outputs": [],
   "source": [
    "list1=[]\n",
    "num=int(input(\"how many times?\"))\n",
    "for i in range(num):\n",
    "    name=input(\"enter your name?\\n\")\n",
    "    age=int(input(\"enter your age?\\n\"))\n",
    "    add=input(\"enter your address?\\n\")\n",
    "    store=[name,age,add]#using append function\n",
    "    list1.append(store)\n",
    "print(list1)\n"
   ]
  },
  {
   "cell_type": "code",
   "execution_count": 3,
   "metadata": {},
   "outputs": [
    {
     "name": "stdout",
     "output_type": "stream",
     "text": [
      "how many times?2\n",
      "enter your name?\n",
      "Bibek\n",
      "enter your age?\n",
      "20\n",
      "enter your address?\n",
      "gaindakot\n",
      "enter your name?\n",
      "nanda\n",
      "enter your age?\n",
      "25\n",
      "enter your address?\n",
      "myanmar\n",
      "Bibek 20 gaindakot\n",
      "nanda 25 myanmar\n",
      "\n"
     ]
    }
   ],
   "source": [
    "list1=\"\"\n",
    "num=int(input(\"how many times?\"))\n",
    "for i in range(num):\n",
    "    name=input(\"enter your name?\\n\")\n",
    "    age=int(input(\"enter your age?\\n\"))\n",
    "    add=input(\"enter your address?\\n\")\n",
    "    store=f\"{name} {age} {add}\\n\"\n",
    "    list1=list1+store\n",
    "print(list1)"
   ]
  },
  {
   "cell_type": "code",
   "execution_count": 13,
   "metadata": {},
   "outputs": [
    {
     "name": "stdout",
     "output_type": "stream",
     "text": [
      "how many times?2\n",
      "enter your name?\n",
      "sdf\n",
      "enter your age?\n",
      "12\n",
      "enter your address?\n",
      "dsf\n",
      "enter your name?\n",
      "ewr\n",
      "enter your age?\n",
      "23\n",
      "enter your address?\n",
      "dsvds\n",
      "[['sdf', 12, 'dsf'], ['ewr', 23, 'dsvds']]\n"
     ]
    }
   ],
   "source": [
    "list1=[]\n",
    "num=int(input(\"how many times?\"))\n",
    "for i in range(num):\n",
    "    name=input(\"enter your name?\\n\")\n",
    "    age=int(input(\"enter your age?\\n\"))\n",
    "    add=input(\"enter your address?\\n\")\n",
    "    store=[[name,age, add]]\n",
    "    list1=list1+store#normal method\n",
    "print(list1)"
   ]
  },
  {
   "cell_type": "code",
   "execution_count": 23,
   "metadata": {},
   "outputs": [
    {
     "name": "stdout",
     "output_type": "stream",
     "text": [
      "how many times?2\n",
      "enter your name?\n",
      "bibek\n",
      "enter your age?\n",
      "12\n",
      "enter your address?\n",
      "nepal\n",
      "enter your name?\n",
      "nanda\n",
      "enter your age?\n",
      "435\n",
      "enter your address?\n",
      "myanmar\n",
      "[[1, 'bibek', 12, 'nepal'], [2, 'nanda', 435, 'myanmar']]\n",
      "enter the roll number?2\n",
      "[2, 'nanda', 435, 'myanmar']\n",
      "1\n",
      "[[1, 'carlos', 12, 'nepal'], [2, 'nanda', 435, 'myanmar']]\n"
     ]
    }
   ],
   "source": [
    "#printion id as well .\n",
    "list1=[]\n",
    "num=int(input(\"how many times?\"))\n",
    "for i in range(1,num+1):\n",
    "    name=input(\"enter your name?\\n\")\n",
    "    age=int(input(\"enter your age?\\n\"))\n",
    "    add=input(\"enter your address?\\n\")\n",
    "    store=[i,name,age, add]\n",
    "    list1.append(store)\n",
    "print(list1)\n",
    "x=int(input(\"enter the roll number?\"))\n",
    "print(list1[x-1])#printing a value using roll number \n",
    "print(list1[0][0])\n",
    "list1[0][1]=\"carlos\"#change the particular index value \n",
    "print(list1)"
   ]
  },
  {
   "cell_type": "code",
   "execution_count": 24,
   "metadata": {},
   "outputs": [
    {
     "name": "stdout",
     "output_type": "stream",
     "text": [
      "how many times?2\n",
      "enter your name?\n",
      "bibek\n",
      "enter your age?\n",
      "23\n",
      "enter your address?\n",
      "nepal\n",
      "enter your name?\n",
      "nanda\n",
      "enter your age?\n",
      "435\n",
      "enter your address?\n",
      "myanmar\n",
      "[[1, 'bibek', 23, 'nepal'], [2, 'nanda', 435, 'myanmar']]\n",
      "[[1, 23, 'nepal'], [2, 'nanda', 435, 'myanmar']]\n"
     ]
    }
   ],
   "source": [
    "list1=[]\n",
    "num=int(input(\"how many times?\"))\n",
    "for i in range(1,num+1):\n",
    "    name=input(\"enter your name?\\n\")\n",
    "    age=int(input(\"enter your age?\\n\"))\n",
    "    add=input(\"enter your address?\\n\")\n",
    "    store=[i,name,age, add]\n",
    "    list1.append(store)\n",
    "print(list1)\n",
    "del list1[0][1]#del keyword delete its value permanently\n",
    "print(list1)"
   ]
  },
  {
   "cell_type": "code",
   "execution_count": 26,
   "metadata": {},
   "outputs": [
    {
     "name": "stdout",
     "output_type": "stream",
     "text": [
      "how many times?2\n",
      "enter your name?\n",
      "bibek\n",
      "enter your age?\n",
      "23\n",
      "enter your address?\n",
      "sdf\n",
      "enter your name?\n",
      "sda\n",
      "enter your age?\n",
      "34\n",
      "enter your address?\n",
      "dfsg\n",
      "[[1, 'bibek', 23, 'sdf'], [2, 'sda', 34, 'dfsg']]\n"
     ]
    },
    {
     "ename": "ValueError",
     "evalue": "list.remove(x): x not in list",
     "output_type": "error",
     "traceback": [
      "\u001b[1;31m---------------------------------------------------------------------------\u001b[0m",
      "\u001b[1;31mValueError\u001b[0m                                Traceback (most recent call last)",
      "\u001b[1;32m<ipython-input-26-646b93ff78da>\u001b[0m in \u001b[0;36m<module>\u001b[1;34m\u001b[0m\n\u001b[0;32m      8\u001b[0m     \u001b[0mlist1\u001b[0m\u001b[1;33m.\u001b[0m\u001b[0mappend\u001b[0m\u001b[1;33m(\u001b[0m\u001b[0mstore\u001b[0m\u001b[1;33m)\u001b[0m\u001b[1;33m\u001b[0m\u001b[1;33m\u001b[0m\u001b[0m\n\u001b[0;32m      9\u001b[0m \u001b[0mprint\u001b[0m\u001b[1;33m(\u001b[0m\u001b[0mlist1\u001b[0m\u001b[1;33m)\u001b[0m\u001b[1;33m\u001b[0m\u001b[1;33m\u001b[0m\u001b[0m\n\u001b[1;32m---> 10\u001b[1;33m \u001b[0mlist1\u001b[0m\u001b[1;33m.\u001b[0m\u001b[0mremove\u001b[0m\u001b[1;33m(\u001b[0m\u001b[0mlist1\u001b[0m\u001b[1;33m[\u001b[0m\u001b[1;36m0\u001b[0m\u001b[1;33m]\u001b[0m\u001b[1;33m[\u001b[0m\u001b[1;36m1\u001b[0m\u001b[1;33m]\u001b[0m\u001b[1;33m)\u001b[0m\u001b[1;31m#del keyword delete its value permanently\u001b[0m\u001b[1;33m\u001b[0m\u001b[1;33m\u001b[0m\u001b[0m\n\u001b[0m\u001b[0;32m     11\u001b[0m \u001b[0mprint\u001b[0m\u001b[1;33m(\u001b[0m\u001b[0mlist1\u001b[0m\u001b[1;33m)\u001b[0m\u001b[1;33m\u001b[0m\u001b[1;33m\u001b[0m\u001b[0m\n\u001b[0;32m     12\u001b[0m \u001b[1;33m\u001b[0m\u001b[0m\n",
      "\u001b[1;31mValueError\u001b[0m: list.remove(x): x not in list"
     ]
    }
   ],
   "source": [
    "list1=[]\n",
    "num=int(input(\"how many times?\"))\n",
    "for i in range(1,num+1):\n",
    "    name=input(\"enter your name?\\n\")\n",
    "    age=int(input(\"enter your age?\\n\"))\n",
    "    add=input(\"enter your address?\\n\")\n",
    "    store=[i,name,age, add]\n",
    "    list1.append(store)\n",
    "print(list1)\n",
    "list1.remove(list1[0][1])#del keyword delete its value permanently\n",
    "print(list1)\n",
    "\n"
   ]
  },
  {
   "cell_type": "code",
   "execution_count": 29,
   "metadata": {},
   "outputs": [
    {
     "name": "stdout",
     "output_type": "stream",
     "text": [
      "how many times?2\n",
      "enter your name?\n",
      "bibek\n",
      "enter your age?\n",
      "34\n",
      "enter your address?\n",
      "gaindakot\n",
      "enter your name?\n",
      "nanda\n",
      "enter your age?\n",
      "34\n",
      "enter your address?\n",
      "youngen\n",
      "[[1, 'bibek', 34, 'gaindakot'], [2, 'nanda', 34, 'youngen']]\n",
      "enter your country ?nepal\n",
      "enter your country ?myanmar\n",
      "[[1, 'bibek', 'nepal', 34, 'gaindakot'], [2, 'nanda', 'myanmar', 34, 'youngen']]\n"
     ]
    }
   ],
   "source": [
    "#adding country in a list\n",
    "list1=[]\n",
    "num=int(input(\"how many times?\"))\n",
    "for i in range(1,num+1):\n",
    "    name=input(\"enter your name?\\n\")\n",
    "    age=int(input(\"enter your age?\\n\"))\n",
    "    add=input(\"enter your address?\\n\")\n",
    "    store=[i,name,age, add]\n",
    "    list1.append(store)\n",
    "print(list1)\n",
    "for num in range(len(list1)):\n",
    "    country=input(\"enter your country ?\")\n",
    "    list1[num].insert(2,country)\n",
    "print(list1)\n",
    "\n"
   ]
  },
  {
   "cell_type": "code",
   "execution_count": 8,
   "metadata": {},
   "outputs": [
    {
     "name": "stdout",
     "output_type": "stream",
     "text": [
      "how many times?2\n",
      "enter your name?\n",
      "carlos\n",
      "enter your age?\n",
      "23\n",
      "enter your address?\n",
      "gaindakot\n",
      "enter your name?\n",
      "carlos\n",
      "enter your age?\n",
      "34\n",
      "enter your address?\n",
      "nepal\n",
      "[[1, 'carlos', 23, 'gaindakot'], [2, 'carlos', 34, 'nepal']]\n",
      "enter what you want to search?CARlos\n",
      "yes\n",
      "[1, 'carlos', 23, 'gaindakot']\n",
      "yes\n",
      "[2, 'carlos', 34, 'nepal']\n"
     ]
    }
   ],
   "source": [
    "#checking something is present or not.\n",
    "list1=[]\n",
    "num=int(input(\"how many times?\"))\n",
    "for i in range(1,num+1):\n",
    "    name=input(\"enter your name?\\n\").lower()\n",
    "    age=int(input(\"enter your age?\\n\"))\n",
    "    add=input(\"enter your address?\\n\")\n",
    "    store=[i,name,age, add]\n",
    "    list1.append(store)\n",
    "print(list1)\n",
    "search=input(\"enter what you want to search?\").lower()\n",
    "for num in range(len(list1)):\n",
    "    if search in list1[num][1]:\n",
    "        print(\"yes\")\n",
    "        print(list1[num])"
   ]
  },
  {
   "cell_type": "code",
   "execution_count": 12,
   "metadata": {},
   "outputs": [
    {
     "name": "stdout",
     "output_type": "stream",
     "text": [
      "how many times?2\n",
      "enter your name?\n",
      "bibek\n",
      "enter your age?\n",
      "34\n",
      "enter your address?\n",
      "sdf\n",
      "enter your name?\n",
      "bibek\n",
      "enter your age?\n",
      "45\n",
      "enter your address?\n",
      "sdaf\n",
      "[[1, 'bibek', 34, 'sdf'], [2, 'bibek', 45, 'sdaf']]\n",
      "enter what you want to search?BIBEK\n",
      "2\n"
     ]
    }
   ],
   "source": [
    "#checking something is present or not.\n",
    "list1=[]\n",
    "num=int(input(\"how many times?\"))\n",
    "for i in range(1,num+1):\n",
    "    name=input(\"enter your name?\\n\").lower()\n",
    "    age=int(input(\"enter your age?\\n\"))\n",
    "    add=input(\"enter your address?\\n\")\n",
    "    store=[i,name,age, add]\n",
    "    list1.append(store)\n",
    "print(list1)\n",
    "sum=0\n",
    "search=input(\"enter what you want to search?\").lower()\n",
    "for num in range(len(list1)):\n",
    "    if search in list1[num][1]:\n",
    "        x=list1[num].count(search)\n",
    "        sum=sum+x\n",
    "print(sum)"
   ]
  },
  {
   "cell_type": "code",
   "execution_count": 16,
   "metadata": {},
   "outputs": [
    {
     "name": "stdout",
     "output_type": "stream",
     "text": [
      "[[2, 'bibek', 78, 'gaindakot'], [3, 'carlos', 66, 'nepal']]\n"
     ]
    }
   ],
   "source": [
    "#removing a lsit value .\n",
    "list1=[[1,\"ram\",78,\"patan\"],\n",
    "      [2,\"bibek\",78,\"gaindakot\"],\n",
    "       [3,\"carlos\",66,\"nepal\"],\n",
    "       [4,\"ram\",23,\"india\"]]\n",
    "for num in range(len(list1)-1):\n",
    "    if \"ram\" in list1[num][1]:\n",
    "        del list1[num]\n",
    "print(list1)"
   ]
  },
  {
   "cell_type": "code",
   "execution_count": 9,
   "metadata": {},
   "outputs": [
    {
     "name": "stdout",
     "output_type": "stream",
     "text": [
      " Enter Number of students:1\n",
      "enter marks of DAA= \n",
      "1\n",
      "enter marks of CG= \n",
      "11\n",
      "enter marks of IOT= \n",
      "1\n",
      "enter marks of OS= \n",
      "1\n",
      "enter marks AIML= \n",
      "1\n",
      "enter marks ST= \n",
      "1\n"
     ]
    },
    {
     "ename": "TypeError",
     "evalue": "int() argument must be a string, a bytes-like object or a number, not 'list'",
     "output_type": "error",
     "traceback": [
      "\u001b[1;31m---------------------------------------------------------------------------\u001b[0m",
      "\u001b[1;31mTypeError\u001b[0m                                 Traceback (most recent call last)",
      "\u001b[1;32m<ipython-input-9-63c59b2a7635>\u001b[0m in \u001b[0;36m<module>\u001b[1;34m\u001b[0m\n\u001b[0;32m     11\u001b[0m     \u001b[0mstore\u001b[0m\u001b[1;33m=\u001b[0m\u001b[1;33m[\u001b[0m\u001b[0mi\u001b[0m\u001b[1;33m,\u001b[0m\u001b[0mDAA\u001b[0m\u001b[1;33m,\u001b[0m\u001b[0mCG\u001b[0m\u001b[1;33m,\u001b[0m\u001b[0mIOT\u001b[0m\u001b[1;33m,\u001b[0m\u001b[0mOS\u001b[0m\u001b[1;33m,\u001b[0m\u001b[0mAIML\u001b[0m\u001b[1;33m,\u001b[0m\u001b[0mST\u001b[0m\u001b[1;33m]\u001b[0m\u001b[1;33m\u001b[0m\u001b[1;33m\u001b[0m\u001b[0m\n\u001b[0;32m     12\u001b[0m     \u001b[0mlist1\u001b[0m\u001b[1;33m.\u001b[0m\u001b[0mappend\u001b[0m\u001b[1;33m(\u001b[0m\u001b[0mstore\u001b[0m\u001b[1;33m)\u001b[0m\u001b[1;33m\u001b[0m\u001b[1;33m\u001b[0m\u001b[0m\n\u001b[1;32m---> 13\u001b[1;33m     \u001b[0msum\u001b[0m\u001b[1;33m=\u001b[0m\u001b[0msum\u001b[0m\u001b[1;33m+\u001b[0m\u001b[0mint\u001b[0m\u001b[1;33m(\u001b[0m\u001b[0mstore\u001b[0m\u001b[1;33m)\u001b[0m\u001b[1;33m-\u001b[0m\u001b[0mnum\u001b[0m\u001b[1;33m\u001b[0m\u001b[1;33m\u001b[0m\u001b[0m\n\u001b[0m\u001b[0;32m     14\u001b[0m     \u001b[0mprint\u001b[0m\u001b[1;33m(\u001b[0m\u001b[0msum\u001b[0m\u001b[1;33m)\u001b[0m\u001b[1;33m\u001b[0m\u001b[1;33m\u001b[0m\u001b[0m\n\u001b[0;32m     15\u001b[0m \u001b[0mprint\u001b[0m\u001b[1;33m(\u001b[0m\u001b[0mlist1\u001b[0m\u001b[1;33m)\u001b[0m\u001b[1;33m\u001b[0m\u001b[1;33m\u001b[0m\u001b[0m\n",
      "\u001b[1;31mTypeError\u001b[0m: int() argument must be a string, a bytes-like object or a number, not 'list'"
     ]
    }
   ],
   "source": [
    "list1=[]\n",
    "sum=0\n",
    "num=int(input(\" Enter Number of students:\"))\n",
    "for i in range(1,num+1):\n",
    "    DAA=int(input(\"enter marks of DAA= \\n\"))\n",
    "    CG=int(input(\"enter marks of CG= \\n\"))\n",
    "    IOT=int(input(\"enter marks of IOT= \\n\"))\n",
    "    OS=int(input(\"enter marks of OS= \\n\"))\n",
    "    AIML=int(input(\"enter marks AIML= \\n\"))\n",
    "    ST=int(input(\"enter marks ST= \\n\"))\n",
    "    store=[i,DAA,CG,IOT,OS,AIML,ST]\n",
    "    list1.append(store)\n",
    "    sum=sum+int(store)-num\n",
    "    print(sum)\n",
    "print(list1)\n",
    "\n"
   ]
  },
  {
   "cell_type": "code",
   "execution_count": 8,
   "metadata": {},
   "outputs": [
    {
     "name": "stdout",
     "output_type": "stream",
     "text": [
      "enter the value of n= \n",
      "2\n",
      "enter value in list:1\n",
      "enter value in list:1\n",
      "[]\n",
      "sum is: 2\n"
     ]
    }
   ],
   "source": [
    "#program to calculate sum of all the element in list.\n",
    "list1=[]\n",
    "sum=0#set sum as 0\n",
    "n=int(input(\"enter the value of n= \\n\"))\n",
    "for num in range(n):\n",
    "    x=int(input(\"enter value in list:\"))\n",
    "    list1=list1+[x]\n",
    "    sum=sum+x #sum+=x\n",
    "print(list1)\n",
    "print(\"sum is:\",sum)\n"
   ]
  },
  {
   "cell_type": "code",
   "execution_count": null,
   "metadata": {},
   "outputs": [],
   "source": []
  }
 ],
 "metadata": {
  "kernelspec": {
   "display_name": "Python 3",
   "language": "python",
   "name": "python3"
  },
  "language_info": {
   "codemirror_mode": {
    "name": "ipython",
    "version": 3
   },
   "file_extension": ".py",
   "mimetype": "text/x-python",
   "name": "python",
   "nbconvert_exporter": "python",
   "pygments_lexer": "ipython3",
   "version": "3.8.3"
  }
 },
 "nbformat": 4,
 "nbformat_minor": 4
}
