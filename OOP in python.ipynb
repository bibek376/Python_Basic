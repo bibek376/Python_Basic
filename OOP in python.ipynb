{
 "cells": [
  {
   "cell_type": "code",
   "execution_count": 3,
   "metadata": {},
   "outputs": [
    {
     "name": "stdout",
     "output_type": "stream",
     "text": [
      "hello\n"
     ]
    }
   ],
   "source": [
    " class python:\n",
    "        def hello(self):\n",
    "            print(\"hello\")\n",
    "obj=python()\n",
    "obj.hello()"
   ]
  },
  {
   "cell_type": "code",
   "execution_count": 4,
   "metadata": {},
   "outputs": [
    {
     "name": "stdout",
     "output_type": "stream",
     "text": [
      "area is : 30\n"
     ]
    }
   ],
   "source": [
    "class python:\n",
    "    def hello(self):\n",
    "        l=5\n",
    "        b=6\n",
    "        print(\"area is :\",l*b)\n",
    "obj=python()\n",
    "obj.hello()"
   ]
  },
  {
   "cell_type": "code",
   "execution_count": 8,
   "metadata": {},
   "outputs": [
    {
     "name": "stdout",
     "output_type": "stream",
     "text": [
      "enter the l=3\n",
      "enter the b=4\n",
      "area is : 12\n"
     ]
    }
   ],
   "source": [
    "class python:\n",
    "    def hello(self,x,y):\n",
    "        print(\"area is :\",l*b)\n",
    "obj=python()\n",
    "l=int(input('enter the l='))\n",
    "b=int(input('enter the b='))\n",
    "obj.hello(l,b)"
   ]
  },
  {
   "cell_type": "code",
   "execution_count": 10,
   "metadata": {},
   "outputs": [
    {
     "name": "stdout",
     "output_type": "stream",
     "text": [
      "enter the value of l:4\n",
      "enter the value if b:5\n",
      "enter the value of h:6\n",
      "area is: 20\n",
      "volume is: 120\n"
     ]
    }
   ],
   "source": [
    "#one class multiple method\n",
    "class python:#class\n",
    "    def area(self,l,b):#method\n",
    "        print(\"area is:\",l*b)\n",
    "    def volume(self,l,b,h):#method\n",
    "        print(\"volume is:\",l*b*h)\n",
    "obj=python()#object\n",
    "l=int(input(\"enter the value of l:\"))\n",
    "b=int(input(\"enter the value if b:\"))\n",
    "h=int(input(\"enter the value of h:\"))\n",
    "obj.area(l,b)\n",
    "obj.volume(l,b,h)"
   ]
  },
  {
   "cell_type": "code",
   "execution_count": 12,
   "metadata": {},
   "outputs": [
    {
     "name": "stdout",
     "output_type": "stream",
     "text": [
      "enter the value of l:2\n",
      "enter the value if b:3\n",
      "enter the value of h:4\n",
      "area is: 6\n",
      "volume is: 24\n"
     ]
    }
   ],
   "source": [
    "#two or more class\n",
    "class python:#class\n",
    "    def area(self,l,b):#method\n",
    "        print(\"area is:\",l*b)\n",
    "class code:#method        \n",
    "    def volume(self,l,b,h):\n",
    "        print(\"volume is:\",l*b*h)\n",
    "obj1=python()\n",
    "obj2=code()\n",
    "l=int(input(\"enter the value of l:\"))\n",
    "b=int(input(\"enter the value if b:\"))\n",
    "h=int(input(\"enter the value of h:\"))\n",
    "obj1.area(l,b)\n",
    "obj2.volume(l,b,h)"
   ]
  },
  {
   "cell_type": "code",
   "execution_count": 14,
   "metadata": {},
   "outputs": [
    {
     "name": "stdout",
     "output_type": "stream",
     "text": [
      "enter the value of l:4\n",
      "enter the value of b:5\n",
      "area is: 20\n"
     ]
    }
   ],
   "source": [
    "#__init__ function()\n",
    "class python:#class\n",
    "    def __init__ (self,l,b):\n",
    "        self.l=l\n",
    "        self.b=b\n",
    "    def cls(self):\n",
    "        a=self.l*self.b\n",
    "        print(\"area is:\",a)\n",
    "l=int(input(\"enter the value of l:\"))\n",
    "b=int(input(\"enter the value of b:\"))\n",
    "obj=python(l,b)\n",
    "obj.cls()"
   ]
  },
  {
   "cell_type": "code",
   "execution_count": 16,
   "metadata": {},
   "outputs": [
    {
     "name": "stdout",
     "output_type": "stream",
     "text": [
      "enter the l=2\n",
      "enter the b=3\n",
      "enter the h=4\n",
      "area is: 6\n",
      "volume is: 24\n"
     ]
    }
   ],
   "source": [
    "#two method in single class \n",
    "class cal():\n",
    "    def __init__ (self,l,b,h):\n",
    "        self.l=l\n",
    "        self.b=b\n",
    "        self.h=h\n",
    "    def area(self):#method\n",
    "        a=self.l*self.b\n",
    "        print(\"area is:\",a)\n",
    "    def volume(self):#method\n",
    "        v=self.l*self.b*self.h\n",
    "        print(\"volume is:\",v)\n",
    "l=int(input(\"enter the l=\"))\n",
    "b=int(input(\"enter the b=\"))\n",
    "h=int(input(\"enter the h=\"))\n",
    "obj=cal(l,b,h)#object\n",
    "obj.area()\n",
    "obj.volume()"
   ]
  },
  {
   "cell_type": "code",
   "execution_count": 2,
   "metadata": {},
   "outputs": [
    {
     "name": "stdout",
     "output_type": "stream",
     "text": [
      "enter the value of l:2\n",
      "enter the value of b:3\n",
      "enter the value of h:4\n",
      "area is: 6\n",
      "volume is: 24\n"
     ]
    }
   ],
   "source": [
    "#area and volume in two class using init function\n",
    "class area:\n",
    "    def __init__ (self,l,b):\n",
    "        self.l=l\n",
    "        self.b=b\n",
    "    def area1(self):\n",
    "        print(\"area is:\",self.l*self.b)\n",
    "class volume:\n",
    "    def __init__(self,l,b,h):\n",
    "         self.l=l\n",
    "         self.b=b  \n",
    "         self.h=h\n",
    "    def volume1(self):\n",
    "        print(\"volume is:\",self.l*self.b*self.h)\n",
    "l=int(input(\"enter the value of l:\"))\n",
    "b=int(input(\"enter the value of b:\"))\n",
    "h=int(input(\"enter the value of h:\"))\n",
    "obj1=area(l,b)\n",
    "obj1.area1()\n",
    "obj2=volume(l,b,h)\n",
    "obj2.volume1()"
   ]
  },
  {
   "cell_type": "code",
   "execution_count": 5,
   "metadata": {},
   "outputs": [
    {
     "name": "stdout",
     "output_type": "stream",
     "text": [
      "enter the value of l:2\n",
      "enter the value of b:3\n",
      "enter the value of h:4\n",
      "area is: 6\n",
      "volume is: 24\n"
     ]
    }
   ],
   "source": [
    "#area and volume in two class using init function\n",
    "class area:\n",
    "    def __init__ (self,x,y):\n",
    "        self.x=x\n",
    "        self.y=y\n",
    "    def area1(self):\n",
    "        print(\"area is:\",self.x*self.y)\n",
    "class volume:\n",
    "    def __init__(self,l,b,h):\n",
    "         self.l=l\n",
    "         self.b=b  \n",
    "         self.h=h\n",
    "    def volume1(this):\n",
    "        print(\"volume is:\",this.l*this.b*this.h)\n",
    "l=int(input(\"enter the value of l:\"))\n",
    "b=int(input(\"enter the value of b:\"))\n",
    "h=int(input(\"enter the value of h:\"))\n",
    "obj1=area(l,b)\n",
    "obj1.area1()\n",
    "obj2=volume(l,b,h)\n",
    "obj2.volume1()"
   ]
  },
  {
   "cell_type": "code",
   "execution_count": 1,
   "metadata": {},
   "outputs": [
    {
     "name": "stdout",
     "output_type": "stream",
     "text": [
      "enter the value of l:5\n",
      "enter the value of b:6\n",
      "area is = 30\n",
      "(5, 6)\n"
     ]
    }
   ],
   "source": [
    "#__str()__function()\n",
    "#it is mainly used for defining the class value ,and it is always return type.\n",
    "class python:\n",
    "    def __init__ (self,l,b):\n",
    "        self.l=l\n",
    "        self.b=b\n",
    "    def cal(self):\n",
    "        a=self.l*self.b\n",
    "        print(\"area is =\",a)\n",
    "    def __str__ (self):\n",
    "        return f\"{self.l,self.b}\"#always in string format\n",
    "l=int(input(\"enter the value of l:\"))\n",
    "b=int(input(\"enter the value of b:\"))\n",
    "obj=python(l,b)\n",
    "obj.cal()\n",
    "print(obj)"
   ]
  },
  {
   "cell_type": "code",
   "execution_count": 3,
   "metadata": {},
   "outputs": [
    {
     "name": "stdout",
     "output_type": "stream",
     "text": [
      "enter the value of l:5\n",
      "enter the value of b:6\n",
      "area is : 30\n",
      "{'length': 5, 'breadth': 6}\n"
     ]
    }
   ],
   "source": [
    "#__repr__() function()\n",
    "class python:\n",
    "    def __init__ (self,l,b):\n",
    "        self.l=l\n",
    "        self.b=b\n",
    "    def area(self):\n",
    "        a=self.l*self.b\n",
    "        print(\"area is :\",a)\n",
    "    def __repr__ (self):\n",
    "        return {\"length\":self.l,\"breadth\":self.b}#always in dict format and return type.\n",
    "l=int(input(\"enter the value of l:\"))\n",
    "b=int(input(\"enter the value of b:\"))\n",
    "obj=python(l,b)\n",
    "obj.area()\n",
    "print(obj.__repr__())#calling method of repr function"
   ]
  },
  {
   "cell_type": "code",
   "execution_count": 5,
   "metadata": {},
   "outputs": [
    {
     "name": "stdout",
     "output_type": "stream",
     "text": [
      "(8, 8)\n"
     ]
    }
   ],
   "source": [
    "#operator overloading()\n",
    "class point:\n",
    "    def __init__ (self,x=0,y=0):\n",
    "        self.x=x\n",
    "        self.y=y\n",
    "    def __str__ (self):\n",
    "        return f\"{self.x,self.y}\"\n",
    "    def __add__ (self,other):\n",
    "        x=self.x+other.x\n",
    "        y=self.y+other.y\n",
    "        return point(x,y)\n",
    "p1=point(4,5)\n",
    "p2=point(4,3)\n",
    "print(p1+p2)"
   ]
  },
  {
   "cell_type": "code",
   "execution_count": 6,
   "metadata": {},
   "outputs": [
    {
     "name": "stdout",
     "output_type": "stream",
     "text": [
      "(10, 10)\n"
     ]
    }
   ],
   "source": [
    "#operator overloading()\n",
    "class python:\n",
    "    def __init__ (self,x=0,y=0):\n",
    "        self.x=x\n",
    "        self.y=y\n",
    "    def __str__ (self):\n",
    "        return f\"{self.x,self.y}\"\n",
    "    def __add__ (self,other):\n",
    "        x=self.x+other.x\n",
    "        y=self.y+other.y\n",
    "        return python(x,y)\n",
    "p1=python(4,5)\n",
    "p2=python(4,3)\n",
    "p3=python(2,2)\n",
    "print(p1+p2+p3)"
   ]
  },
  {
   "cell_type": "code",
   "execution_count": 8,
   "metadata": {},
   "outputs": [
    {
     "name": "stdout",
     "output_type": "stream",
     "text": [
      "8\n",
      "total=8\n"
     ]
    }
   ],
   "source": [
    "#operator overloading()\n",
    "class python:\n",
    "    def __init__ (self,x=0):\n",
    "        self.x=x\n",
    "    def __str__ (self):\n",
    "        return f\"total={self.x}\"\n",
    "    def __add__ (self,other):\n",
    "        x=self.x+other.x\n",
    "        print(x)\n",
    "        return python(x)\n",
    "p1=python(4)\n",
    "p2=python(4)\n",
    "print(p1+p2)"
   ]
  },
  {
   "cell_type": "code",
   "execution_count": 4,
   "metadata": {},
   "outputs": [
    {
     "name": "stdout",
     "output_type": "stream",
     "text": [
      "bibek 20\n"
     ]
    }
   ],
   "source": [
    "class person:#class \n",
    "    def main(self,name,age):#method and name--->attribute\n",
    "        print(name,age)\n",
    "obj=person()#object\n",
    "obj.main(\"bibek\",20)\n",
    "        "
   ]
  },
  {
   "cell_type": "code",
   "execution_count": 10,
   "metadata": {},
   "outputs": [
    {
     "name": "stdout",
     "output_type": "stream",
     "text": [
      "enter the l=4\n",
      "enter the b=5\n",
      "enter the h=6\n",
      "area is: 20\n",
      "volume is: 120\n"
     ]
    }
   ],
   "source": [
    "class cube:#class\n",
    "    def area(self,l,b):#object or l,b attribute and method\n",
    "        print(\"area is:\",l*b)\n",
    "    def volume(self,l,b,h):#method\n",
    "        print(\"volume is:\",l*b*h)\n",
    "l=int(input(\"enter the l=\"))\n",
    "b=int(input(\"enter the b=\"))\n",
    "h=int(input(\"enter the h=\"))\n",
    "obj=cube()#object\n",
    "obj.area(l,b)\n",
    "obj.volume(l,b,h)"
   ]
  },
  {
   "cell_type": "code",
   "execution_count": 13,
   "metadata": {},
   "outputs": [
    {
     "name": "stdout",
     "output_type": "stream",
     "text": [
      "area is: 12\n",
      "volume is: 60\n"
     ]
    }
   ],
   "source": [
    "class area:#class 1\n",
    "    def cal1(self,l,b):#method\n",
    "        print(\"area is:\",l*b)\n",
    "class volume:#class 2\n",
    "    def cal2(self,l,b,h):#method 2\n",
    "        print(\"volume is:\",l*b*h)\n",
    "obj1=area()#object of  class area\n",
    "obj1.cal1(3,4)\n",
    "obj2=volume()#object of class volume\n",
    "obj2.cal2(3,4,5)\n",
    "        "
   ]
  },
  {
   "cell_type": "code",
   "execution_count": 16,
   "metadata": {},
   "outputs": [
    {
     "name": "stdout",
     "output_type": "stream",
     "text": [
      "bibek\n",
      "20\n"
     ]
    }
   ],
   "source": [
    "class main:\n",
    "    def __init__(self,name,age):\n",
    "        self.name=name\n",
    "        self.age=age\n",
    "    def cat(self):\n",
    "        pass\n",
    "obj=main(\"bibek\",20)\n",
    "print(obj.name)\n",
    "print(obj.age)"
   ]
  },
  {
   "cell_type": "code",
   "execution_count": 20,
   "metadata": {},
   "outputs": [
    {
     "name": "stdout",
     "output_type": "stream",
     "text": [
      "area is: 30\n",
      "area is: 210\n"
     ]
    }
   ],
   "source": [
    "class cal:#class first\n",
    "    def __init__(self,l,b,h):#init function\n",
    "        self.l=l\n",
    "        self.b=b\n",
    "        self.h=h\n",
    "    def area(self):#method 1\n",
    "        print(\"area is:\",self.l*self.b)\n",
    "    def volume(self):#method 2\n",
    "        print(\"area is:\",self.l*self.b*self.h)\n",
    "obj=cal(5,6,7)#object\n",
    "obj.area()\n",
    "obj.volume()"
   ]
  },
  {
   "cell_type": "code",
   "execution_count": 23,
   "metadata": {},
   "outputs": [
    {
     "name": "stdout",
     "output_type": "stream",
     "text": [
      "area is: 20\n",
      "hello\n",
      "volume is: 6\n"
     ]
    }
   ],
   "source": [
    "class area:#class 1\n",
    "    var1=\"hello\"#class variable\n",
    "    def __init__(self,l,b):\n",
    "        self.l=l\n",
    "        self.b=b\n",
    "    def cal1(self):#method 1\n",
    "        print(\"area is:\",self.l*self.b)\n",
    "        print(area.var1)\n",
    "class volume:#class 2\n",
    "    def __init__(self,l,b,h):\n",
    "        self.l=l\n",
    "        self.b=b\n",
    "        self.h=h\n",
    "    def cal2(self):#method 2\n",
    "        print(\"volume is:\",self.l*self.b*self.h)       \n",
    "obj1=area(4,5)#calling object\n",
    "obj1.cal1()\n",
    "obj2=volume(1,2,3)#calliing object\n",
    "obj2.cal2()"
   ]
  },
  {
   "cell_type": "code",
   "execution_count": 31,
   "metadata": {},
   "outputs": [
    {
     "name": "stdout",
     "output_type": "stream",
     "text": [
      "area is: 30\n",
      "(5,6)\n"
     ]
    }
   ],
   "source": [
    "class area:\n",
    "    def __init__(self,l,b):\n",
    "        self.l=l\n",
    "        self.b=b\n",
    "    def cal(self):\n",
    "        print(\"area is:\",self.l*self.b)\n",
    "    def __str__(self):\n",
    "        return f\"({self.l},{self.b})\"\n",
    "obj=area(5,6)\n",
    "obj.cal()\n",
    "print(obj)\n"
   ]
  },
  {
   "cell_type": "code",
   "execution_count": 32,
   "metadata": {},
   "outputs": [
    {
     "name": "stdout",
     "output_type": "stream",
     "text": [
      "enter l=4\n",
      "enter b=5\n",
      "enter h=6\n",
      "volume is: 120\n",
      "(4,5,6)\n"
     ]
    }
   ],
   "source": [
    "#repr use for creating a output for user.\n",
    "class volume:\n",
    "    def __init__(self,l,b,h):\n",
    "        self.l=l\n",
    "        self.b=b\n",
    "        self.h=h\n",
    "    def cal(self):\n",
    "        print(\"volume is:\",self.l*self.b*self.h)\n",
    "    def __str__(self):#str method \n",
    "        return f\"({self.l},{self.b},{self.h})\"#always return type.\n",
    "l=int(input(\"enter l=\"))\n",
    "b=int(input(\"enter b=\"))\n",
    "h=int(input(\"enter h=\"))\n",
    "obj=volume(l,b,h)\n",
    "obj.cal()\n",
    "print(obj)"
   ]
  },
  {
   "cell_type": "code",
   "execution_count": 41,
   "metadata": {},
   "outputs": [
    {
     "name": "stdout",
     "output_type": "stream",
     "text": [
      "area is: 30\n",
      "{'length': 5, 'breadth': 6}\n"
     ]
    }
   ],
   "source": [
    "#repr is used for remove the unambigous in code.\n",
    "class area:\n",
    "    def __init__(self,l,b):\n",
    "        self.l=l\n",
    "        self.b=b\n",
    "    def cal(self):\n",
    "        print(\"area is:\",self.l*self.b)\n",
    "    def __repr__(self):\n",
    "        return {\"length\":self.l,\"breadth\":self.b}\n",
    "obj=area(5,6)\n",
    "obj.cal()\n",
    "print(obj.__repr__())"
   ]
  },
  {
   "cell_type": "code",
   "execution_count": 50,
   "metadata": {},
   "outputs": [
    {
     "name": "stdout",
     "output_type": "stream",
     "text": [
      "(8,10)\n"
     ]
    }
   ],
   "source": [
    "#operator overloading.\n",
    "class cal:\n",
    "    def __init__(self,x,y):\n",
    "        self.x=x\n",
    "        self.y=y\n",
    "    def __add__(self,this):\n",
    "        x=self.x+this.x\n",
    "        y=self.y+this.y\n",
    "        return cal(x,y)\n",
    "    def __str__(self):\n",
    "        return f\"({self.x},{self.y})\"\n",
    "obj1=cal(3,4)\n",
    "obj2=cal(5,6)\n",
    "print(obj1+obj2)"
   ]
  },
  {
   "cell_type": "code",
   "execution_count": 56,
   "metadata": {},
   "outputs": [
    {
     "name": "stdout",
     "output_type": "stream",
     "text": [
      "hi i am dog:\n",
      "playing a game:\n"
     ]
    }
   ],
   "source": [
    "#single inheritance.\n",
    "\n",
    "# class <base class name>:\n",
    "#     --------\n",
    "#     -------\n",
    "# class <name of class>(<base class name>):\n",
    "#     ------\n",
    "#     ------\n",
    "#     ------\n",
    "\n",
    "\n",
    "# #program without inheritance.\n",
    "# class dog:\n",
    "#     def sound(self):\n",
    "#         print(\"bow,bow\")\n",
    "# class human:\n",
    "#     def sound(self):\n",
    "#         print(\"bow,bow\")\n",
    "#     def play(self):\n",
    "#         print(\"playing game:\")\n",
    "# obj=human()\n",
    "# obj.sound()\n",
    "# obj.play()\n",
    "\n",
    "#same program with inheritance\n",
    "\n",
    "class dog:\n",
    "    def sound(self):\n",
    "        print(\"hi i am dog:\")\n",
    "class human(dog):\n",
    "    def play(self):\n",
    "        print(\"playing a game:\")\n",
    "obj=human()\n",
    "obj.sound()\n",
    "obj.play()"
   ]
  },
  {
   "cell_type": "code",
   "execution_count": 57,
   "metadata": {},
   "outputs": [
    {
     "name": "stdout",
     "output_type": "stream",
     "text": [
      "hello i am bibek\n"
     ]
    }
   ],
   "source": [
    "#single inheritance\n",
    "class cat:\n",
    "    def __init__(self,name):\n",
    "        self.name=name\n",
    "class human(cat):\n",
    "    def car(self):\n",
    "        print(f\"hello i am {self.name}\")\n",
    "obj=human(\"bibek\")\n",
    "obj.car()"
   ]
  },
  {
   "cell_type": "code",
   "execution_count": 61,
   "metadata": {},
   "outputs": [
    {
     "name": "stdout",
     "output_type": "stream",
     "text": [
      "hi my name is bibek  i am 23 years old.my roll_no is 6728 and i got 700$\n"
     ]
    }
   ],
   "source": [
    "#multilevel inheritance\n",
    "\n",
    "# class <base class 1>:\n",
    "#     ------\n",
    "#     ------\n",
    "#     ------\n",
    "# class <derived class 1 name>(<base class 1>):\n",
    "#     ------\n",
    "#     ------\n",
    "#     ------\n",
    "# class <derived class 2 name>(<derived class 1 name>):\n",
    "#     ------\n",
    "#     ------\n",
    "#     ------\n",
    "\n",
    "\n",
    "class main:\n",
    "    def __init__(self,name,age):\n",
    "        self.name=name\n",
    "        self.age=age\n",
    "class student(main):\n",
    "    def __init__(self,roll_no):\n",
    "        self.roll_no=roll_no\n",
    "class employee(student):\n",
    "    def __init__(self,name,age,roll_no,salary):\n",
    "        main.__init__(self,name,age)\n",
    "        student.__init__(self,roll_no)\n",
    "        self.salary=salary\n",
    "    def person(self):\n",
    "        print(f\"hi my name is {self.name}  i am {self.age} years old.my roll_no is {self.roll_no} and i got {self.salary}$\")\n",
    "obj=employee(\"bibek\",23,6728,700)\n",
    "obj.person()"
   ]
  },
  {
   "cell_type": "code",
   "execution_count": 63,
   "metadata": {},
   "outputs": [
    {
     "name": "stdout",
     "output_type": "stream",
     "text": [
      "hi my name is bibek,i got 800,i live in gaindakot and my number is 9863680379\n"
     ]
    }
   ],
   "source": [
    "#multiple inheritance\n",
    "\n",
    "# class <base class name 1>:\n",
    "#     ------\n",
    "#     ------\n",
    "#     ------\n",
    "# class <base class name 2>:\n",
    "#     -----\n",
    "#     -----\n",
    "#     -----\n",
    "# class <derived class name>(<base class name 1>,<base class name 2>):\n",
    "#     ------\n",
    "#     ------\n",
    "#     ------\n",
    "\n",
    "\n",
    "class student:\n",
    "    def __init__(self,name):\n",
    "        self.name=name\n",
    "class employee:\n",
    "    def __init__(self,salary,add):\n",
    "        self.salary=salary\n",
    "        self.add=add\n",
    "class derive(student,employee):\n",
    "    def __init__(self,name,salary,add,phone):\n",
    "        student.__init__(self,name)\n",
    "        employee.__init__(self,salary,add)\n",
    "        self.phone=phone\n",
    "    def final(self):\n",
    "        print(f\"hi my name is {self.name},i got {self.salary},i live in {self.add} and my number is {self.phone}\")\n",
    "obj=derive(\"bibek\",800,\"gaindakot\",9863680379)\n",
    "obj.final()"
   ]
  },
  {
   "cell_type": "code",
   "execution_count": 3,
   "metadata": {},
   "outputs": [
    {
     "name": "stdout",
     "output_type": "stream",
     "text": [
      "hello my name is bibek i am 17 yrs old. and i am from gaindakot\n"
     ]
    }
   ],
   "source": [
    "#use of super() function\n",
    "#super function is mainly used for accesing the data from parent class.\n",
    "class student:\n",
    "    def __init__(self,name,age):\n",
    "        self.name=name\n",
    "        self.age=age\n",
    "class person(student):\n",
    "    def __init__(self,name,age,add):\n",
    "        super().__init__(name,age)\n",
    "        self.add=add\n",
    "    def final(self):\n",
    "        print(f\"hello my name is {self.name} i am {self.age} yrs old. and i am from {self.add}\")\n",
    "obj=person(\"bibek\",17,\"gaindakot\")\n",
    "obj.final()"
   ]
  },
  {
   "cell_type": "code",
   "execution_count": 11,
   "metadata": {},
   "outputs": [
    {
     "name": "stdout",
     "output_type": "stream",
     "text": [
      "hi i am bibek i am 23 years old.\n"
     ]
    },
    {
     "data": {
      "text/plain": [
       "'hi i am bibek i am 23 years old.'"
      ]
     },
     "execution_count": 11,
     "metadata": {},
     "output_type": "execute_result"
    }
   ],
   "source": [
    "#use of super() function\n",
    "\n",
    "class profile:\n",
    "    def __init__(self,name,age):\n",
    "        self.name=name\n",
    "        self.age=age\n",
    "    def info(self):\n",
    "        return f\"hi i am {self.name} i am {self.age} years old.\"\n",
    "class final(profile):\n",
    "    def last(self):\n",
    "        print(super().info())\n",
    "obj=final(\"bibek\",23)\n",
    "obj.last()\n",
    "obj.info()"
   ]
  },
  {
   "cell_type": "code",
   "execution_count": 9,
   "metadata": {},
   "outputs": [
    {
     "name": "stdout",
     "output_type": "stream",
     "text": [
      "bibek\n",
      "12\n",
      "gaindakot\n"
     ]
    }
   ],
   "source": [
    "class person:\n",
    "    def __init__(self,name,age,add):\n",
    "        self.name=name#public\n",
    "        self._age=age#procted\n",
    "        self.__add=add#private\n",
    "obj=person(\"bibek\",12,\"gaindakot\")\n",
    "print(obj.name)#calling public\n",
    "print(obj._age)#calling procted\n",
    "print(obj._person__add)#calling private"
   ]
  },
  {
   "cell_type": "code",
   "execution_count": 14,
   "metadata": {},
   "outputs": [
    {
     "name": "stdout",
     "output_type": "stream",
     "text": [
      "hello i am bibek. i am 21 years old . i live in gaindakot uid is 18bcs6728\n"
     ]
    }
   ],
   "source": [
    "class person:\n",
    "    def __init__(self,name,age,add):\n",
    "        self.name=name#public\n",
    "        self._age=age#procted\n",
    "        self.__add=add#private\n",
    "class student(person):\n",
    "    def __init__(self,name,age,add,uid):\n",
    "        super().__init__(name,age,add)\n",
    "        self.uid=uid\n",
    "    def main(self):\n",
    "        print(f\"hello i am {self.name}. i am {self._age} years old . i live in {self._person__add} uid is {self.uid}\")\n",
    "        \n",
    "obj=student(\"bibek\",21,\"gaindakot\",\"18bcs6728\")\n",
    "obj.main()   "
   ]
  },
  {
   "cell_type": "code",
   "execution_count": 29,
   "metadata": {},
   "outputs": [
    {
     "name": "stdout",
     "output_type": "stream",
     "text": [
      "hello i am bibek. i am 21 years old . i live in gaindakot uid is 18bcs6728\n"
     ]
    }
   ],
   "source": [
    "#accessing a private data using super function.\n",
    "class person:\n",
    "    def __init__(self,name,age,add):\n",
    "        self.name=name#public\n",
    "        self._age=age#procted\n",
    "        self.__add=add#private\n",
    "    def start(self):\n",
    "        return self.__add\n",
    "class student(person):\n",
    "    def __init__(self,name,age,add,uid):\n",
    "        person.__init__(self,name,age,add)\n",
    "        self.uid=uid\n",
    "    def main(self):\n",
    "        print(f\"hello i am {self.name}. i am {self._age} years old . i live in {super().start()} uid is {self.uid}\")\n",
    "        \n",
    "obj=student(\"bibek\",21,\"gaindakot\",\"18bcs6728\")\n",
    "obj.main() "
   ]
  },
  {
   "cell_type": "code",
   "execution_count": 28,
   "metadata": {},
   "outputs": [
    {
     "name": "stdout",
     "output_type": "stream",
     "text": [
      "hello i am bibek, i am 23 years old. and i am from ('bibek', 23, 'nepal')\n",
      "('bibek', 23, 'nepal')\n",
      "bibek\n"
     ]
    }
   ],
   "source": [
    "#using  super function().\n",
    "class profile:\n",
    "    def __init__(self,name,age,add):\n",
    "        self.name=name#public\n",
    "        self._age=age#procted\n",
    "        self.__add=add#private\n",
    "    def profile(self):\n",
    "        return self.name,self._age,self.__add\n",
    "class hr(profile):\n",
    "    def hr(self):\n",
    "        print(f\"hello i am {self.name}, i am {self._age} years old. and i am from {super().profile()}\")\n",
    "obj=hr(\"bibek\",23,\"nepal\")\n",
    "obj.hr()\n",
    "print(obj.profile())\n",
    "print(obj.name)"
   ]
  },
  {
   "cell_type": "code",
   "execution_count": 38,
   "metadata": {},
   "outputs": [
    {
     "name": "stdout",
     "output_type": "stream",
     "text": [
      "hello i am bibek i am 14 years old. i live in gaindakot my roll number is 18bcs6728\n"
     ]
    }
   ],
   "source": [
    "#multiple inheritance\n",
    "class profile:\n",
    "    def __init__(self,name,age,add):\n",
    "        self.name=name\n",
    "        self._age=age\n",
    "        self.__add=add\n",
    "    def x1(self):\n",
    "        return self.__add\n",
    "class student:\n",
    "    def __init__(self,rollno):\n",
    "        self._rollno=rollno\n",
    "class person(profile,student):\n",
    "    def __init__(self,name,age,add,rollno):\n",
    "        profile.__init__(self,name,age,add)\n",
    "        student.__init__(self,rollno)\n",
    "    def final(self):\n",
    "        print(f\"hello i am {self.name} i am {self._age} years old. i live in {super().x1()} my roll number is {self._rollno}\")\n",
    "obj=person(\"bibek\",14,\"gaindakot\",\"18bcs6728\")\n",
    "obj.final()"
   ]
  },
  {
   "cell_type": "code",
   "execution_count": 40,
   "metadata": {},
   "outputs": [
    {
     "name": "stdout",
     "output_type": "stream",
     "text": [
      "bow bow\n",
      "maow maow\n"
     ]
    }
   ],
   "source": [
    "#polymorphism \n",
    "#poly=many\n",
    "#morphism=different shape\n",
    "class dog:\n",
    "    def sound(self):\n",
    "        print(\"bow bow\")\n",
    "class cat:\n",
    "    def sound(self):\n",
    "        print(\"maow maow\")\n",
    "def makingsound(self):\n",
    "    self.sound()\n",
    "obj_dog=dog()\n",
    "obj_cat=cat()\n",
    "makingsound(obj_dog)\n",
    "makingsound(obj_cat)"
   ]
  },
  {
   "cell_type": "code",
   "execution_count": 45,
   "metadata": {},
   "outputs": [
    {
     "name": "stdout",
     "output_type": "stream",
     "text": [
      "parrot can not swim:\n",
      "parrot can fly:\n"
     ]
    }
   ],
   "source": [
    "#polymorphism\n",
    "class parrot:\n",
    "    def swim(self):\n",
    "        print(\"parrot can not swim:\")\n",
    "    def fly(self):\n",
    "        print(\"parrot can fly:\")\n",
    "class penguin:\n",
    "    def swim(self):\n",
    "        print(\"penguin can swim:\")\n",
    "    def fly(self):\n",
    "        print(\"penguin can not fly:\")\n",
    "        \n",
    "def makingswim(self):\n",
    "    self.swim()\n",
    "    self.fly()\n",
    "obj_parrot=parrot()\n",
    "obj_penguin=penguin()\n",
    "makingswim(obj_parrot)                     "
   ]
  },
  {
   "cell_type": "code",
   "execution_count": null,
   "metadata": {},
   "outputs": [],
   "source": []
  }
 ],
 "metadata": {
  "kernelspec": {
   "display_name": "Python 3",
   "language": "python",
   "name": "python3"
  },
  "language_info": {
   "codemirror_mode": {
    "name": "ipython",
    "version": 3
   },
   "file_extension": ".py",
   "mimetype": "text/x-python",
   "name": "python",
   "nbconvert_exporter": "python",
   "pygments_lexer": "ipython3",
   "version": "3.8.3"
  }
 },
 "nbformat": 4,
 "nbformat_minor": 4
}
