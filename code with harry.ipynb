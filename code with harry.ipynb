{
 "cells": [
  {
   "cell_type": "code",
   "execution_count": 1,
   "metadata": {},
   "outputs": [
    {
     "name": "stdout",
     "output_type": "stream",
     "text": [
      "hello\n"
     ]
    }
   ],
   "source": [
    "#multiline comment.\n",
    "\"\"\"hello\n",
    "world\n",
    "hello\"\"\"\n",
    "print(\"hello\")"
   ]
  },
  {
   "cell_type": "code",
   "execution_count": 2,
   "metadata": {},
   "outputs": [
    {
     "name": "stdout",
     "output_type": "stream",
     "text": [
      "olleh\n"
     ]
    }
   ],
   "source": [
    "x=\"hello\"\n",
    "print(x[::-1])"
   ]
  },
  {
   "cell_type": "code",
   "execution_count": 6,
   "metadata": {},
   "outputs": [
    {
     "name": "stdout",
     "output_type": "stream",
     "text": [
      "[1, 2, 4]\n",
      "[1, 2, 3, 4]\n"
     ]
    }
   ],
   "source": [
    "x=[1,2,3,4]\n",
    "y=x.copy()\n",
    "del x[2]\n",
    "print(x)\n",
    "print(y)\n",
    "\n"
   ]
  },
  {
   "cell_type": "code",
   "execution_count": 9,
   "metadata": {},
   "outputs": [
    {
     "name": "stdout",
     "output_type": "stream",
     "text": [
      "welcome to dictionaty:\n",
      "enter what you want to search?\n",
      "cat\n",
      "maow\n"
     ]
    }
   ],
   "source": [
    "print(\"welcome to dictionaty:\")\n",
    "dict1={\"apple\":\"fruits\",\n",
    "       \"ball\":\"playing object\",\n",
    "       \"cat\":\"maow\",\n",
    "       \"dog\":\"vow-vow\",\n",
    "       \"elephant\":\"large animal\"}\n",
    "search=input(\"enter what you want to search?\\n\")\n",
    "print(dict1[search])"
   ]
  },
  {
   "cell_type": "code",
   "execution_count": 16,
   "metadata": {},
   "outputs": [
    {
     "name": "stdout",
     "output_type": "stream",
     "text": [
      "enter your age?\n",
      "71\n",
      "can not drive\n"
     ]
    }
   ],
   "source": [
    "age=int(input(\"enter your age?\\n\"))\n",
    "if age<5 or age>70:\n",
    "    print(\"can not drive\")\n",
    "elif age<18:\n",
    "    print(\"sorry\")\n",
    "elif age==18:\n",
    "    print(\"think\")\n",
    "else:\n",
    "    print(\" yes you can.!\")\n"
   ]
  },
  {
   "cell_type": "code",
   "execution_count": 14,
   "metadata": {},
   "outputs": [
    {
     "name": "stdout",
     "output_type": "stream",
     "text": [
      "enter number 1:34\n",
      "enter number 2:2\n",
      "enter your choice{+,-,/,*}/\n",
      "17.0\n"
     ]
    }
   ],
   "source": [
    "#faulty calculator\n",
    "num1=int(input(\"enter number 1:\"))\n",
    "num2=int(input(\"enter number 2:\"))\n",
    "choice=input(\"enter your choice{+,-,/,*}\")\n",
    "if choice==\"*\":\n",
    "    if num1==45 and num2==3:\n",
    "        print(\"555\")\n",
    "    else:\n",
    "        print(num1*num2)\n",
    "elif choice==\"+\":\n",
    "    if num1==56 and num2==9:\n",
    "        print(\"77\")\n",
    "    else:\n",
    "        print(num1+num2)\n",
    "elif choice==\"/\":\n",
    "    if num1==56 and num2==6:\n",
    "        print(\"4\")\n",
    "    else:\n",
    "        print(num1/num2)\n",
    "elif choice==\"-\":\n",
    "    print(num1-num2)"
   ]
  },
  {
   "cell_type": "code",
   "execution_count": 24,
   "metadata": {},
   "outputs": [
    {
     "name": "stdout",
     "output_type": "stream",
     "text": [
      "turn left: 5\n",
      "turn left: 4\n",
      "turn left: 3\n",
      "turn left: 2\n",
      "turn left: 1\n"
     ]
    }
   ],
   "source": [
    "for i in range(1,6):\n",
    "    print(\"turn left:\",6-i )\n"
   ]
  },
  {
   "cell_type": "code",
   "execution_count": 30,
   "metadata": {},
   "outputs": [
    {
     "name": "stdout",
     "output_type": "stream",
     "text": [
      "enter the number from user?\n",
      "15\n",
      "congratilutions:\n"
     ]
    }
   ],
   "source": [
    "#guessing a number\n",
    "actual_number=15\n",
    "x=int(input(\"enter the number from user?\\n\"))\n",
    "for i in range(6):\n",
    "    if actual_number==x:\n",
    "        print(\"congratilutions:\")\n",
    "        break\n",
    "    elif actual_number!=x:\n",
    "        print(\"try again:\")\n",
    "#print(\"turn left\",6-i)\n",
    "\n",
    "\n"
   ]
  },
  {
   "cell_type": "code",
   "execution_count": null,
   "metadata": {},
   "outputs": [
    {
     "name": "stdout",
     "output_type": "stream",
     "text": [
      "enter the number?\n",
      "7\n",
      "congratulations.\n",
      "enter the number?\n",
      "7\n",
      "congratulations.\n",
      "enter the number?\n",
      "4\n",
      "try again!\n",
      "enter the number?\n",
      "7\n",
      "congratulations.\n"
     ]
    }
   ],
   "source": [
    "num=7\n",
    "for i in range(6):\n",
    "    x=int(input(\"enter the number?\\n\"))    \n",
    "    if num==x:\n",
    "        print((\"congratulations.\"))\n",
    "        break\n",
    "    else:\n",
    "        print(\"try again!\")\n",
    "        \n",
    "\n",
    "\n",
    "\n",
    "\n",
    "\n"
   ]
  },
  {
   "cell_type": "code",
   "execution_count": null,
   "metadata": {},
   "outputs": [],
   "source": [
    "#program to guess the number from the user.\n",
    "num=7\n",
    "for i in range(1,6):\n",
    "    x=int(input(\"enter the number?\\n\"))    \n",
    "    if num==x:\n",
    "        print(\"congratulations.\")\n",
    "        break\n",
    "    else:\n",
    "        print(\"try again!\")\n",
    "        print(\"attempt left= \",5-i)#5-(1,2,3,4,5)\n",
    "        \n",
    "\n"
   ]
  },
  {
   "cell_type": "code",
   "execution_count": 12,
   "metadata": {},
   "outputs": [
    {
     "name": "stdout",
     "output_type": "stream",
     "text": [
      "S.N.,Contract No,Stock Symbol,Buyer Broker,Seller Broker,Quantity,Rate,Amount\n",
      "\n",
      "\n",
      "\n"
     ]
    }
   ],
   "source": [
    "#to read a data in already existing file. \n",
    "x=open(\"final.csv\",\"r\")#by difult it is r.\n",
    "print(x.readline())\n",
    "print(x.readline())\n",
    "#y=x.read()\n",
    "#print(y)\n",
    "x.close()"
   ]
  },
  {
   "cell_type": "code",
   "execution_count": 16,
   "metadata": {},
   "outputs": [
    {
     "name": "stdout",
     "output_type": "stream",
     "text": [
      "16\n"
     ]
    }
   ],
   "source": [
    "#creating and writing in file.\n",
    "f=open(\"abc.txt\",\"w\")\n",
    "x=f.write(\"hello i am bibek\")\n",
    "print(x)\n",
    "f.close()"
   ]
  },
  {
   "cell_type": "code",
   "execution_count": 23,
   "metadata": {},
   "outputs": [
    {
     "name": "stdout",
     "output_type": "stream",
     "text": [
      "16\n"
     ]
    }
   ],
   "source": [
    "#appending a file method.\n",
    "f=open(\"abc.txt\",\"a\")\n",
    "x=f.write(\"hello i am bibek\")\n",
    "print(x)\n",
    "f.close()"
   ]
  },
  {
   "cell_type": "code",
   "execution_count": 28,
   "metadata": {},
   "outputs": [
    {
     "name": "stdout",
     "output_type": "stream",
     "text": [
      "hello i am bibekhello i am bibekhello i am bibekhello i am bibek/nhello i am bibek/nhello i am bibek/nhello i am bibekhello i am bibekthank you:thank you:\n"
     ]
    }
   ],
   "source": [
    "#read and write mode at once\n",
    "f=open(\"abc.txt\",\"r+\")\n",
    "print(f.read())\n",
    "#print(f.write(\"thank you:\"))\n",
    "f.close()"
   ]
  },
  {
   "cell_type": "code",
   "execution_count": 29,
   "metadata": {},
   "outputs": [
    {
     "name": "stdout",
     "output_type": "stream",
     "text": [
      "hello i am bibekhello i am bibekhello i am bibekhello i am bibek/nhello i am bibek/nhello i am bibek/nhello i am bibekhello i am bibekthank you:thank you:\n"
     ]
    }
   ],
   "source": [
    "with open(\"abc.txt\",\"r\") as f:\n",
    "    print(f.read())"
   ]
  },
  {
   "cell_type": "code",
   "execution_count": null,
   "metadata": {},
   "outputs": [],
   "source": []
  }
 ],
 "metadata": {
  "kernelspec": {
   "display_name": "Python 3",
   "language": "python",
   "name": "python3"
  },
  "language_info": {
   "codemirror_mode": {
    "name": "ipython",
    "version": 3
   },
   "file_extension": ".py",
   "mimetype": "text/x-python",
   "name": "python",
   "nbconvert_exporter": "python",
   "pygments_lexer": "ipython3",
   "version": "3.8.3"
  }
 },
 "nbformat": 4,
 "nbformat_minor": 4
}
