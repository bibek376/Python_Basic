{
 "cells": [
  {
   "cell_type": "code",
   "execution_count": 1,
   "metadata": {},
   "outputs": [
    {
     "name": "stdout",
     "output_type": "stream",
     "text": [
      "file is created:\n"
     ]
    }
   ],
   "source": [
    "#creating a csv file.\n",
    "try:\n",
    "    z=open(\"carlos.csv\",\"x\")\n",
    "    z.close()\n",
    "    print(\"file is created:\")\n",
    "except:\n",
    "    print(\"exist!\")"
   ]
  },
  {
   "cell_type": "code",
   "execution_count": 13,
   "metadata": {},
   "outputs": [
    {
     "name": "stdout",
     "output_type": "stream",
     "text": [
      "enter how many times?5\n",
      "enter your name?bibek\n",
      "math = 12\n",
      "phy =11\n",
      "che =12\n",
      "enter your name?bikash\n",
      "math = 1\n",
      "phy =11\n",
      "che =12\n",
      "enter your name?carlos\n",
      "math = 12\n",
      "phy =12\n",
      "che =12\n",
      "enter your name?binaya\n",
      "math = 13\n",
      "phy =13\n",
      "che =13\n",
      "enter your name?santosh\n",
      "math = 23\n",
      "phy =12\n",
      "che =11\n",
      "1,bibek,12,11,12\n",
      "2,bikash,1,11,12\n",
      "3,carlos,12,12,12\n",
      "4,binaya,13,13,13\n",
      "5,santosh,23,12,11\n",
      "\n"
     ]
    }
   ],
   "source": [
    "info=\"\"\n",
    "n=int(input(\"enter how many times?\"))\n",
    "for num in range(1,n+1):\n",
    "    name=input(\"enter your name?\")\n",
    "    math=int(input(\"math = \"))\n",
    "    phy=int(input(\"phy =\"))\n",
    "    che=int(input(\"che =\"))\n",
    "    total=f\"{num},{name},{math},{phy},{che}\\n\"\n",
    "    info+=total\n",
    "print(info)\n",
    "z=open(\"carlos1.csv\",\"a\")\n",
    "z.write(info)\n",
    "z.close()"
   ]
  },
  {
   "cell_type": "code",
   "execution_count": 14,
   "metadata": {},
   "outputs": [
    {
     "name": "stdout",
     "output_type": "stream",
     "text": [
      "       SN     NAME  MATH  PHY  CH\n",
      "0       1    bibek    12   11  12\n",
      "1       2   bikash     1   11  12\n",
      "2       3   carlos    12   12  12\n",
      "3       4   binaya    13   13  13\n",
      "4       5  santosh    23   12  11\n"
     ]
    }
   ],
   "source": [
    "import pandas as pd\n",
    "data=pd.read_csv(\"carlos1.csv\")#reading a file data\n",
    "print(data)"
   ]
  },
  {
   "cell_type": "code",
   "execution_count": 15,
   "metadata": {},
   "outputs": [
    {
     "name": "stdout",
     "output_type": "stream",
     "text": [
      "       SN    NAME  MATH  PHY  CH\n",
      "0       1   bibek    12   11  12\n",
      "1       2  bikash     1   11  12\n"
     ]
    }
   ],
   "source": [
    "import pandas as pd\n",
    "data=pd.read_csv(\"carlos1.csv\",nrows=2)#show only particular output\n",
    "print(data)"
   ]
  },
  {
   "cell_type": "code",
   "execution_count": 19,
   "metadata": {},
   "outputs": [
    {
     "name": "stdout",
     "output_type": "stream",
     "text": [
      "       NAME  MATH  PHY  CH\n",
      "SN                        \n",
      "1     bibek    12   11  12\n",
      "2    bikash     1   11  12\n",
      "3    carlos    12   12  12\n",
      "4    binaya    13   13  13\n",
      "5   santosh    23   12  11\n"
     ]
    }
   ],
   "source": [
    "import pandas as pd\n",
    "data=pd.read_csv(\"carlos1.csv\",index_col=\"SN\")#setting SN as global variable. \n",
    "print(data)"
   ]
  },
  {
   "cell_type": "code",
   "execution_count": 2,
   "metadata": {},
   "outputs": [
    {
     "name": "stdout",
     "output_type": "stream",
     "text": [
      "      NAME  MATH  PHY  CH\n",
      "SN                       \n",
      "1    bibek    12   11  12\n",
      "2   bikash     1   11  12\n",
      "3   carlos    12   12  12\n"
     ]
    }
   ],
   "source": [
    "#head() function\n",
    "import pandas as pd\n",
    "data=pd.read_csv(\"carlos1.csv\",index_col=\"SN\")#setting SN as global variable. \n",
    "print(data.head(3)) "
   ]
  },
  {
   "cell_type": "code",
   "execution_count": 3,
   "metadata": {},
   "outputs": [
    {
     "name": "stdout",
     "output_type": "stream",
     "text": [
      "       NAME  MATH  PHY  CH\n",
      "SN                        \n",
      "4    binaya    13   13  13\n",
      "5   santosh    23   12  11\n"
     ]
    }
   ],
   "source": [
    "#head() function\n",
    "import pandas as pd\n",
    "data=pd.read_csv(\"carlos1.csv\",index_col=\"SN\")#setting SN as global variable. \n",
    "print(data.tail(2))"
   ]
  },
  {
   "cell_type": "code",
   "execution_count": 6,
   "metadata": {},
   "outputs": [
    {
     "name": "stdout",
     "output_type": "stream",
     "text": [
      "      NAME  MATH  PHY  CH\n",
      "SN                       \n",
      "2   bikash     1   11  12\n",
      "3   carlos    12   12  12\n",
      "4   binaya    13   13  13\n"
     ]
    }
   ],
   "source": [
    "#extract value in any positions.\n",
    "import pandas as pd\n",
    "data=pd.read_csv(\"carlos1.csv\",index_col=\"SN\")\n",
    "print(data.loc[\"2\":\"4\"])"
   ]
  },
  {
   "cell_type": "code",
   "execution_count": 12,
   "metadata": {},
   "outputs": [
    {
     "name": "stdout",
     "output_type": "stream",
     "text": [
      "        SN  MATH  PHY  CH\n",
      "NAME                     \n",
      "bikash   2     1   11  12\n",
      "carlos   3    12   12  12\n",
      "binaya   4    13   13  13\n"
     ]
    }
   ],
   "source": [
    "import pandas as pd\n",
    "x=pd.read_csv(\"carlos1.csv\",index_col=\"NAME\")\n",
    "print(x.loc[\"bikash\":\"binaya\"])"
   ]
  },
  {
   "cell_type": "code",
   "execution_count": 17,
   "metadata": {},
   "outputs": [
    {
     "name": "stdout",
     "output_type": "stream",
     "text": [
      "SN\n",
      "1    False\n",
      "2     True\n",
      "3    False\n",
      "4    False\n",
      "5    False\n",
      "Name: NAME, dtype: bool\n"
     ]
    }
   ],
   "source": [
    "#extract value in any positions.\n",
    "import pandas as pd\n",
    "data=pd.read_csv(\"carlos1.csv\",index_col=\"SN\")\n",
    "print(data[\"NAME\"]==\"bikash\")"
   ]
  },
  {
   "cell_type": "code",
   "execution_count": 35,
   "metadata": {},
   "outputs": [
    {
     "name": "stdout",
     "output_type": "stream",
     "text": [
      "x\n"
     ]
    }
   ],
   "source": [
    "#extract value in any positions.\n",
    "import pandas as pd\n",
    "data=pd.read_csv(\"carlos1.csv\",index_col=\"SN\")\n",
    "print(data[data[\"NAME\"]==\"bikash\"])"
   ]
  },
  {
   "cell_type": "code",
   "execution_count": 21,
   "metadata": {},
   "outputs": [
    {
     "name": "stdout",
     "output_type": "stream",
     "text": [
      "       NAME  MATH  PHY  CH\n",
      "SN                        \n",
      "1     bibek    12   11  12\n",
      "3    carlos    12   12  12\n",
      "4    binaya    13   13  13\n",
      "5   santosh    23   12  11\n"
     ]
    }
   ],
   "source": [
    "print(data[data[\"MATH\"]>10])"
   ]
  },
  {
   "cell_type": "code",
   "execution_count": 29,
   "metadata": {},
   "outputs": [
    {
     "name": "stdout",
     "output_type": "stream",
     "text": [
      "      NAME  MATH  PHY  CH\n",
      "SN                       \n",
      "4   binaya    13   13  13\n"
     ]
    }
   ],
   "source": [
    "print(data[(data[\"MATH\"]>10) & (data[\"PHY\"]>12)])"
   ]
  },
  {
   "cell_type": "code",
   "execution_count": 32,
   "metadata": {},
   "outputs": [
    {
     "name": "stdout",
     "output_type": "stream",
     "text": [
      "       NAME  MATH  PHY  CH\n",
      "SN                        \n",
      "1     bibek    12   11  12\n",
      "3    carlos    12   12  12\n",
      "4    binaya    13   13  13\n",
      "5   santosh    23   12  11\n"
     ]
    }
   ],
   "source": [
    "print(data[(data[\"MATH\"]>10) | (data[\"PHY\"]>12)])"
   ]
  },
  {
   "cell_type": "code",
   "execution_count": 34,
   "metadata": {},
   "outputs": [],
   "source": [
    "#it will copy the from one file to another. \n",
    "data.to_csv(\"copy.csv\")"
   ]
  },
  {
   "cell_type": "code",
   "execution_count": 7,
   "metadata": {},
   "outputs": [
    {
     "name": "stdout",
     "output_type": "stream",
     "text": [
      "   S.N    name    add  age\n",
      "0    1   bibek  nepal   13\n",
      "1    2  carlos  china   56\n",
      "     Unnamed: 0    name    add  age\n",
      "S.N                                \n",
      "1             0   bibek  nepal   13\n",
      "2             1  carlos  china   56\n"
     ]
    }
   ],
   "source": [
    "#datraframe()\n",
    "import pandas as pd\n",
    "info={\"S.N\":[1,2],\"name\":[\"bibek\",\"carlos\"],\"add\":[\"nepal\",\"china\"],\"age\":[13,56]}\n",
    "#print(info)\n",
    "df=pd.DataFrame(info)\n",
    "print(df)\n",
    "df.to_csv(\"xyz.csv\")\n",
    "import pandas as pd\n",
    "df=pd.read_csv(\"xyz.csv\",index_col=\"S.N\")\n",
    "print(df)"
   ]
  },
  {
   "cell_type": "code",
   "execution_count": 4,
   "metadata": {},
   "outputs": [
    {
     "ename": "NameError",
     "evalue": "name 'df' is not defined",
     "output_type": "error",
     "traceback": [
      "\u001b[1;31m---------------------------------------------------------------------------\u001b[0m",
      "\u001b[1;31mNameError\u001b[0m                                 Traceback (most recent call last)",
      "\u001b[1;32m<ipython-input-4-224926cfd2fb>\u001b[0m in \u001b[0;36m<module>\u001b[1;34m\u001b[0m\n\u001b[1;32m----> 1\u001b[1;33m \u001b[0mdf\u001b[0m\u001b[1;33m.\u001b[0m\u001b[0mto_csv\u001b[0m\u001b[1;33m(\u001b[0m\u001b[1;34m\"xyz.csv\"\u001b[0m\u001b[1;33m)\u001b[0m\u001b[1;33m\u001b[0m\u001b[1;33m\u001b[0m\u001b[0m\n\u001b[0m",
      "\u001b[1;31mNameError\u001b[0m: name 'df' is not defined"
     ]
    }
   ],
   "source": []
  },
  {
   "cell_type": "code",
   "execution_count": null,
   "metadata": {},
   "outputs": [],
   "source": []
  },
  {
   "cell_type": "code",
   "execution_count": 43,
   "metadata": {},
   "outputs": [
    {
     "name": "stdout",
     "output_type": "stream",
     "text": [
      "        0\n",
      "0   Geeks\n",
      "1     For\n",
      "2   Geeks\n",
      "3      is\n",
      "4  portal\n",
      "5     for\n",
      "6   Geeks\n"
     ]
    }
   ],
   "source": [
    "import pandas as pd\n",
    " \n",
    "# list of strings\n",
    "lst = ['Geeks', 'For', 'Geeks', 'is', \n",
    "            'portal', 'for', 'Geeks']\n",
    " \n",
    "# Calling DataFrame constructor on list\n",
    "df = pd.DataFrame(lst)\n",
    "print(df)"
   ]
  },
  {
   "cell_type": "code",
   "execution_count": 5,
   "metadata": {},
   "outputs": [
    {
     "name": "stdout",
     "output_type": "stream",
     "text": [
      "how many you  want?6\n",
      "enter your name?bibek\n",
      "enter your age?23\n",
      "enter your address?nepal\n",
      "enter salary?500\n",
      "enter your name?nanda\n",
      "enter your age?25\n",
      "enter your address?barma\n",
      "enter salary?267\n",
      "enter your name?shubham\n",
      "enter your age?26\n",
      "enter your address?nepal\n",
      "enter salary?360\n",
      "enter your name?sovit\n",
      "enter your age?26\n",
      "enter your address?bhutan\n",
      "enter salary?500\n",
      "enter your name?kelvin\n",
      "enter your age?28\n",
      "enter your address?malawi\n",
      "enter salary?450\n",
      "enter your name?shyrans\n",
      "enter your age?27\n",
      "enter your address?nepal\n",
      "enter salary?400\n",
      "1,bibek,23,nepal,500\n",
      "2,nanda,25,barma,267\n",
      "3,shubham,26,nepal,360\n",
      "4,sovit,26,bhutan,500\n",
      "5,kelvin,28,malawi,450\n",
      "6,shyrans,27,nepal,400\n",
      "\n"
     ]
    }
   ],
   "source": [
    "#creating a csv file.\n",
    "with open(\"abc.csv\",\"w+\") as f:\n",
    "    f.read()\n",
    "n=int(input(\"how many you  want?\"))\n",
    "info=\"\"\n",
    "for i in range(1,n+1):\n",
    "    name=input(\"enter your name?\")\n",
    "    age=int(input(\"enter your age?\"))\n",
    "    add=input(\"enter your address?\")\n",
    "    salary=int(input(\"enter salary?\"))\n",
    "    x=f\"{i},{name},{age},{add},{salary}\\n\"\n",
    "    info+=x\n",
    "print(info)\n",
    "with open(\"abc.csv\",\"a\") as f:\n",
    "    f.write(info)"
   ]
  },
  {
   "cell_type": "code",
   "execution_count": 9,
   "metadata": {},
   "outputs": [
    {
     "name": "stdout",
     "output_type": "stream",
     "text": [
      "   S.N     NAME  AGE COUNTRY  SALARY($)\n",
      "0    1    bibek   23   nepal        500\n",
      "1    2    nanda   25   barma        267\n",
      "2    3  shubham   26   nepal        360\n",
      "3    4    sovit   26  bhutan        500\n",
      "4    5   kelvin   28  malawi        450\n",
      "5    6  shyrans   27   nepal        400\n"
     ]
    }
   ],
   "source": [
    "import pandas as pd\n",
    "df=pd.read_csv(\"abc.csv\")\n",
    "print(df)"
   ]
  },
  {
   "cell_type": "code",
   "execution_count": 14,
   "metadata": {},
   "outputs": [
    {
     "name": "stdout",
     "output_type": "stream",
     "text": [
      "   S.N   NAME  AGE COUNTRY  SALARY($)\n",
      "0    1  bibek   23   nepal        500\n",
      "1    2  nanda   25   barma        267\n"
     ]
    }
   ],
   "source": [
    "import pandas as pd\n",
    "data_frame=pd.read_csv(\"abc.csv\",nrows=2)\n",
    "print(data_frame)"
   ]
  },
  {
   "cell_type": "code",
   "execution_count": 16,
   "metadata": {},
   "outputs": [
    {
     "name": "stdout",
     "output_type": "stream",
     "text": [
      "        NAME  AGE COUNTRY  SALARY($)\n",
      "S.N                                 \n",
      "1      bibek   23   nepal        500\n",
      "2      nanda   25   barma        267\n",
      "3    shubham   26   nepal        360\n",
      "4      sovit   26  bhutan        500\n",
      "5     kelvin   28  malawi        450\n",
      "6    shyrans   27   nepal        400\n"
     ]
    }
   ],
   "source": [
    "import pandas as pd\n",
    "data_frame=pd.read_csv(\"abc.csv\",index_col=\"S.N\")\n",
    "print(data_frame)"
   ]
  },
  {
   "cell_type": "code",
   "execution_count": 20,
   "metadata": {},
   "outputs": [
    {
     "name": "stdout",
     "output_type": "stream",
     "text": [
      "        NAME  AGE COUNTRY  SALARY($)\n",
      "S.N                                 \n",
      "1      bibek   23   nepal        500\n",
      "2      nanda   25   barma        267\n",
      "3    shubham   26   nepal        360\n",
      "4      sovit   26  bhutan        500\n"
     ]
    }
   ],
   "source": [
    "import pandas as pd\n",
    "df=pd.read_csv(\"abc.csv\",index_col=\"S.N\")\n",
    "print(df.head(4))"
   ]
  },
  {
   "cell_type": "code",
   "execution_count": 21,
   "metadata": {},
   "outputs": [
    {
     "name": "stdout",
     "output_type": "stream",
     "text": [
      "        NAME  AGE COUNTRY  SALARY($)\n",
      "S.N                                 \n",
      "5     kelvin   28  malawi        450\n",
      "6    shyrans   27   nepal        400\n"
     ]
    }
   ],
   "source": [
    "import pandas as pd\n",
    "df=pd.read_csv(\"abc.csv\",index_col=\"S.N\")\n",
    "print(df.tail(2))"
   ]
  },
  {
   "cell_type": "code",
   "execution_count": 22,
   "metadata": {},
   "outputs": [
    {
     "name": "stdout",
     "output_type": "stream",
     "text": [
      "        NAME  AGE COUNTRY  SALARY($)\n",
      "S.N                                 \n",
      "2      nanda   25   barma        267\n",
      "3    shubham   26   nepal        360\n",
      "4      sovit   26  bhutan        500\n",
      "5     kelvin   28  malawi        450\n"
     ]
    }
   ],
   "source": [
    "import pandas as pd\n",
    "df=pd.read_csv(\"abc.csv\",index_col=\"S.N\")\n",
    "print(df.loc['2':'5'])"
   ]
  },
  {
   "cell_type": "code",
   "execution_count": 28,
   "metadata": {},
   "outputs": [
    {
     "name": "stdout",
     "output_type": "stream",
     "text": [
      "     S.N     NAME COUNTRY  SALARY($)\n",
      "AGE                                 \n",
      "23     1    bibek   nepal        500\n",
      "25     2    nanda   barma        267\n",
      "26     3  shubham   nepal        360\n",
      "26     4    sovit  bhutan        500\n",
      "28     5   kelvin  malawi        450\n",
      "27     6  shyrans   nepal        400\n",
      "     S.N     NAME COUNTRY  SALARY($)\n",
      "AGE                                 \n",
      "25     2    nanda   barma        267\n",
      "26     3  shubham   nepal        360\n",
      "26     4    sovit  bhutan        500\n"
     ]
    }
   ],
   "source": [
    "import pandas as pd\n",
    "df=pd.read_csv(\"abc.csv\",index_col=\"AGE\")\n",
    "print(df)\n",
    "print(df.loc[25:26])"
   ]
  },
  {
   "cell_type": "code",
   "execution_count": 1,
   "metadata": {},
   "outputs": [
    {
     "name": "stdout",
     "output_type": "stream",
     "text": [
      "        NAME  AGE COUNTRY  SALARY($)\n",
      "S.N                                 \n",
      "1      bibek   23   nepal        500\n",
      "2      nanda   25   barma        267\n",
      "3    shubham   26   nepal        360\n",
      "4      sovit   26  bhutan        500\n",
      "5     kelvin   28  malawi        450\n",
      "6    shyrans   27   nepal        400\n",
      "      NAME  AGE COUNTRY  SALARY($)\n",
      "S.N                               \n",
      "4    sovit   26  bhutan        500\n"
     ]
    }
   ],
   "source": [
    "import pandas as pd\n",
    "df=pd.read_csv(\"abc.csv\",index_col=\"S.N\")\n",
    "print(df)\n",
    "print(df[df[\"NAME\"]==\"sovit\"])\n"
   ]
  },
  {
   "cell_type": "code",
   "execution_count": 8,
   "metadata": {},
   "outputs": [
    {
     "name": "stdout",
     "output_type": "stream",
     "text": [
      "        NAME  AGE COUNTRY  SALARY($)\n",
      "S.N                                 \n",
      "1      bibek   23   nepal        500\n",
      "2      nanda   25   barma        267\n",
      "3    shubham   26   nepal        360\n",
      "4      sovit   26  bhutan        500\n",
      "5     kelvin   28  malawi        450\n",
      "6    shyrans   27   nepal        400\n",
      "        NAME  AGE COUNTRY  SALARY($)\n",
      "S.N                                 \n",
      "3    shubham   26   nepal        360\n",
      "4      sovit   26  bhutan        500\n",
      "5     kelvin   28  malawi        450\n",
      "6    shyrans   27   nepal        400\n",
      "        NAME  AGE COUNTRY  SALARY($)\n",
      "S.N                                 \n",
      "2      nanda   25   barma        267\n",
      "3    shubham   26   nepal        360\n",
      "4      sovit   26  bhutan        500\n",
      "6    shyrans   27   nepal        400\n",
      "        NAME  AGE COUNTRY  SALARY($)\n",
      "S.N                                 \n",
      "1      bibek   23   nepal        500\n",
      "2      nanda   25   barma        267\n",
      "3    shubham   26   nepal        360\n",
      "4      sovit   26  bhutan        500\n",
      "5     kelvin   28  malawi        450\n",
      "6    shyrans   27   nepal        400\n"
     ]
    }
   ],
   "source": [
    "print(df)\n",
    "print(df[df['AGE']>25])\n",
    "print(df[(df['AGE']>24) & (df['AGE']<28)])\n",
    "print(df[(df['AGE']>24) | (df['AGE']<28)])"
   ]
  },
  {
   "cell_type": "code",
   "execution_count": 18,
   "metadata": {},
   "outputs": [
    {
     "data": {
      "text/html": [
       "<div>\n",
       "<style scoped>\n",
       "    .dataframe tbody tr th:only-of-type {\n",
       "        vertical-align: middle;\n",
       "    }\n",
       "\n",
       "    .dataframe tbody tr th {\n",
       "        vertical-align: top;\n",
       "    }\n",
       "\n",
       "    .dataframe thead th {\n",
       "        text-align: right;\n",
       "    }\n",
       "</style>\n",
       "<table border=\"1\" class=\"dataframe\">\n",
       "  <thead>\n",
       "    <tr style=\"text-align: right;\">\n",
       "      <th></th>\n",
       "      <th>S.N</th>\n",
       "      <th>NAME</th>\n",
       "      <th>ADD</th>\n",
       "    </tr>\n",
       "  </thead>\n",
       "  <tbody>\n",
       "    <tr>\n",
       "      <th>0</th>\n",
       "      <td>1</td>\n",
       "      <td>bibek</td>\n",
       "      <td>gaindakot</td>\n",
       "    </tr>\n",
       "    <tr>\n",
       "      <th>1</th>\n",
       "      <td>2</td>\n",
       "      <td>nanda</td>\n",
       "      <td>yungan</td>\n",
       "    </tr>\n",
       "    <tr>\n",
       "      <th>2</th>\n",
       "      <td>3</td>\n",
       "      <td>shubham</td>\n",
       "      <td>lahan</td>\n",
       "    </tr>\n",
       "  </tbody>\n",
       "</table>\n",
       "</div>"
      ],
      "text/plain": [
       "   S.N     NAME        ADD\n",
       "0    1    bibek  gaindakot\n",
       "1    2    nanda     yungan\n",
       "2    3  shubham      lahan"
      ]
     },
     "execution_count": 18,
     "metadata": {},
     "output_type": "execute_result"
    }
   ],
   "source": [
    "import pandas as pd\n",
    "info={\"S.N\":[1,2,3],\"NAME\":['bibek','nanda','shubham'],\"ADD\":['gaindakot','yungan','lahan']}\n",
    "df=pd.DataFrame(info)\n",
    "df"
   ]
  },
  {
   "cell_type": "code",
   "execution_count": 19,
   "metadata": {},
   "outputs": [],
   "source": [
    "df.to_csv('data.csv')"
   ]
  },
  {
   "cell_type": "code",
   "execution_count": 20,
   "metadata": {},
   "outputs": [
    {
     "name": "stdout",
     "output_type": "stream",
     "text": [
      "     Unnamed: 0     NAME        ADD\n",
      "S.N                                \n",
      "1             0    bibek  gaindakot\n",
      "2             1    nanda     yungan\n",
      "3             2  shubham      lahan\n"
     ]
    }
   ],
   "source": [
    "import pandas as pd\n",
    "df=pd.read_csv(\"data.csv\",index_col=\"S.N\")\n",
    "print(df)"
   ]
  },
  {
   "cell_type": "code",
   "execution_count": 16,
   "metadata": {},
   "outputs": [],
   "source": [
    "import csv\n",
    "fil=[4,\"carlos\",\"china\"]\n",
    "with open(\"data.csv\" ,\"a\") as f:\n",
    "    writer = csv.writer(f)\n",
    "    writer.writerow(fil)"
   ]
  },
  {
   "cell_type": "code",
   "execution_count": 25,
   "metadata": {},
   "outputs": [
    {
     "name": "stdout",
     "output_type": "stream",
     "text": [
      "enter S.N=1\n",
      "enter name:fad\n",
      "enter your age?12\n",
      "enter S.N=2\n",
      "enter name:asfd\n",
      "enter your age?23\n"
     ]
    }
   ],
   "source": [
    "import csv\n",
    "with open(\"data.csv\",\"a\") as f:\n",
    "    x=csv.writer(f)\n",
    "    for i in range(1,3):\n",
    "        sn=int(input(\"enter S.N=\"))\n",
    "        name=input(\"enter name:\")\n",
    "        age=int(input(\"enter your age?\"))\n",
    "        info=[{sn},{name},{age}]\n",
    "        x.writerow(info)"
   ]
  },
  {
   "cell_type": "code",
   "execution_count": 37,
   "metadata": {},
   "outputs": [
    {
     "name": "stdout",
     "output_type": "stream",
     "text": [
      "   Unnamed: 0  S.N      NAME         ADD\n",
      "0           0    1     bibek   gaindakot\n",
      "1           1    2     nanda      yungan\n",
      "2           2    3   shubham       lahan\n",
      "3           0    4    bibek1  gaindakot1\n",
      "4           1    5    nanda1     yungan1\n",
      "5           2    6  shubham1      lahan1\n",
      "6           0    7    bibek2  gaindakot2\n",
      "7           1    8    nanda2     yungan2\n",
      "8           2    9  shubham2      lahan2\n"
     ]
    }
   ],
   "source": [
    "import pandas as pd\n",
    "info1={\"S.N\":[1,2,3],\"NAME\":['bibek','nanda','shubham'],\"ADD\":['gaindakot','yungan','lahan']}\n",
    "df1=pd.DataFrame(info1)\n",
    "info2={\"S.N\":[4,5,6],\"NAME\":['bibek1','nanda1','shubham1'],\"ADD\":['gaindakot1','yungan1','lahan1']}\n",
    "df2=pd.DataFrame(info2)\n",
    "info3={\"S.N\":[7,8,9],\"NAME\":['bibek2','nanda2','shubham2'],\"ADD\":['gaindakot2','yungan2','lahan2']}\n",
    "df3=pd.DataFrame(info3)\n",
    "df=pd.concat([df1,df2,df3])\n",
    "df.to_csv(\"datafrmae.csv\")\n",
    "x=pd.read_csv(\"datafrmae.csv\")\n",
    "print(x)\n"
   ]
  },
  {
   "cell_type": "code",
   "execution_count": null,
   "metadata": {},
   "outputs": [],
   "source": []
  },
  {
   "cell_type": "code",
   "execution_count": null,
   "metadata": {},
   "outputs": [],
   "source": []
  }
 ],
 "metadata": {
  "kernelspec": {
   "display_name": "Python 3",
   "language": "python",
   "name": "python3"
  },
  "language_info": {
   "codemirror_mode": {
    "name": "ipython",
    "version": 3
   },
   "file_extension": ".py",
   "mimetype": "text/x-python",
   "name": "python",
   "nbconvert_exporter": "python",
   "pygments_lexer": "ipython3",
   "version": "3.8.3"
  }
 },
 "nbformat": 4,
 "nbformat_minor": 4
}
