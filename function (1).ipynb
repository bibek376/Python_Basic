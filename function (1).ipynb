{
 "cells": [
  {
   "cell_type": "code",
   "execution_count": null,
   "metadata": {},
   "outputs": [],
   "source": [
    "#types of function,there are 4 types of function\n",
    "1>function without argument and no return type\n",
    "2>function with argument and no return type\n",
    "3>function without argument and return type\n",
    "4>function with argument and return type\n"
   ]
  },
  {
   "cell_type": "code",
   "execution_count": 6,
   "metadata": {},
   "outputs": [
    {
     "name": "stdout",
     "output_type": "stream",
     "text": [
      "40\n"
     ]
    }
   ],
   "source": [
    "#example of normal function\n",
    "a=20\n",
    "def sum():\n",
    "    global a\n",
    "    a=2*a\n",
    "    print(a)\n",
    "sum()"
   ]
  },
  {
   "cell_type": "code",
   "execution_count": 2,
   "metadata": {},
   "outputs": [
    {
     "name": "stdout",
     "output_type": "stream",
     "text": [
      "enter the l= 2\n",
      "enter the b= 3\n",
      "enter the h= 4\n",
      "volume is: 24\n"
     ]
    }
   ],
   "source": [
    "#function without argument and without return type\n",
    "def volume():\n",
    "    l=int(input(\"enter the l= \"))\n",
    "    b=int(input(\"enter the b= \"))\n",
    "    h=int(input(\"enter the h= \"))\n",
    "    v=l*b*h\n",
    "    print(\"volume is:\",v)\n",
    "volume()"
   ]
  },
  {
   "cell_type": "code",
   "execution_count": null,
   "metadata": {},
   "outputs": [],
   "source": [
    "l=int(input(\"enter the l =\"))\n",
    "b=int(input(\"enter the b =\"))\n",
    "def area():\n",
    "     global a\n",
    "     a=l*b\n",
    "     print(\"area is \",a)\n",
    "area()\n",
    "print(a+5)\n",
    "        \n",
    "                    "
   ]
  },
  {
   "cell_type": "code",
   "execution_count": 4,
   "metadata": {},
   "outputs": [
    {
     "name": "stdout",
     "output_type": "stream",
     "text": [
      "enter the height =2\n",
      "enter the length =3\n",
      "enter the breadth =4\n",
      "volume is: 24\n",
      "area is: 12\n"
     ]
    }
   ],
   "source": [
    "def volume():\n",
    "    global l,b\n",
    "    h=int(input(\"enter the height =\"))\n",
    "    l=int(input(\"enter the length =\"))\n",
    "    b=int(input(\"enter the breadth =\"))\n",
    "    v=l*b*h\n",
    "    print(\"volume is:\",v)\n",
    "def area():\n",
    "    a=l*b\n",
    "    print(\"area is:\",a)\n",
    "volume()\n",
    "area()"
   ]
  },
  {
   "cell_type": "code",
   "execution_count": 7,
   "metadata": {},
   "outputs": [
    {
     "name": "stdout",
     "output_type": "stream",
     "text": [
      "hello\n"
     ]
    }
   ],
   "source": [
    "#function with argument and no return type.\n",
    "def example(a):\n",
    "    print(a)\n",
    "example(\"hello\")\n",
    "    \n",
    "    \n",
    "    \n",
    "    "
   ]
  },
  {
   "cell_type": "code",
   "execution_count": 3,
   "metadata": {},
   "outputs": [
    {
     "name": "stdout",
     "output_type": "stream",
     "text": [
      "hello,world\n"
     ]
    }
   ],
   "source": [
    "def hello(x):\n",
    "    print(x)\n",
    "\n",
    "hello(\"hello,world\")\n"
   ]
  },
  {
   "cell_type": "code",
   "execution_count": 10,
   "metadata": {},
   "outputs": [
    {
     "name": "stdout",
     "output_type": "stream",
     "text": [
      "enter the length: =3\n",
      "enter the breadth: =4\n",
      "12\n"
     ]
    }
   ],
   "source": [
    "def area(x,y):\n",
    "    a=x*y\n",
    "    print(a)\n",
    "l=int(input(\"enter the length: =\"))\n",
    "b=int(input(\"enter the breadth: =\"))\n",
    "area(l,b)\n",
    "    "
   ]
  },
  {
   "cell_type": "code",
   "execution_count": 13,
   "metadata": {},
   "outputs": [
    {
     "name": "stdout",
     "output_type": "stream",
     "text": [
      "enter the value of l =4\n",
      "enter the value of b =5\n",
      "area is : 20\n",
      "enter the value of h:3\n",
      "volume is: 60\n"
     ]
    }
   ],
   "source": [
    "def area(l,b):\n",
    "    global a\n",
    "    a=l*b\n",
    "    print(\"area is :\",a)\n",
    "l=int(input(\"enter the value of l =\"))\n",
    "b=int(input(\"enter the value of b =\"))\n",
    "area(l,b)\n",
    "def volume(x,y):\n",
    "    v=a*h\n",
    "    print(\"volume is:\",v)\n",
    "h=int(input(\"enter the value of h:\"))\n",
    "volume(a,h)"
   ]
  },
  {
   "cell_type": "code",
   "execution_count": 32,
   "metadata": {},
   "outputs": [
    {
     "name": "stdout",
     "output_type": "stream",
     "text": [
      "l= 2\n",
      "b= 3\n",
      "area is: 6\n"
     ]
    }
   ],
   "source": [
    "#function with argument and return type:\n",
    "def area(x,y):\n",
    "    a=l*b\n",
    "    return a\n",
    "l=int(input(\"l= \"))\n",
    "b=int(input(\"b= \"))\n",
    "z=area(l,b)\n",
    "print(\"area is:\",z)\n",
    "\n"
   ]
  },
  {
   "cell_type": "code",
   "execution_count": 23,
   "metadata": {},
   "outputs": [
    {
     "name": "stdout",
     "output_type": "stream",
     "text": [
      "l=2\n",
      "b= 3\n",
      "area is:\n",
      "area is:\n",
      "h= 4\n",
      "volume is:\n"
     ]
    },
    {
     "data": {
      "text/plain": [
       "24"
      ]
     },
     "execution_count": 23,
     "metadata": {},
     "output_type": "execute_result"
    }
   ],
   "source": [
    "def area(x,y):\n",
    "    global a\n",
    "    a=l*b\n",
    "    print(\"area is:\")\n",
    "    return a\n",
    "l=int(input(\"l=\"))\n",
    "b=int(input(\"b= \"))\n",
    "area(l,b)\n",
    "def volume(c,d):\n",
    "    v=a*h\n",
    "    print(\"volume is:\")\n",
    "    return v\n",
    "h=int(input(\"h= \"))\n",
    "volume(a,h)\n",
    "\n",
    "\n",
    "\n"
   ]
  },
  {
   "cell_type": "code",
   "execution_count": 34,
   "metadata": {},
   "outputs": [
    {
     "name": "stdout",
     "output_type": "stream",
     "text": [
      "200\n"
     ]
    },
    {
     "data": {
      "text/plain": [
       "20"
      ]
     },
     "execution_count": 34,
     "metadata": {},
     "output_type": "execute_result"
    }
   ],
   "source": [
    "def multiple(x,y):\n",
    "    a=l*b\n",
    "    return a\n",
    "l=4\n",
    "b=5\n",
    "h=10\n",
    "x=multiple(x,y)\n",
    "v=x*h\n",
    "print(v)\n",
    "multiple(l,b)\n",
    "\n",
    "\n"
   ]
  },
  {
   "cell_type": "code",
   "execution_count": 37,
   "metadata": {},
   "outputs": [
    {
     "name": "stdout",
     "output_type": "stream",
     "text": [
      "area is: 20\n",
      "volume is: 200\n"
     ]
    }
   ],
   "source": [
    "def multiple(x,y,z):\n",
    "    a=l*b\n",
    "    v=l*b*h\n",
    "    return a,v\n",
    "l=4\n",
    "b=5\n",
    "h=10\n",
    "multiple(l,b,h)\n",
    "c=multiple(x,y,z)\n",
    "a,v=c\n",
    "print(\"area is:\",a)\n",
    "print(\"volume is:\",v)\n",
    "\n"
   ]
  },
  {
   "cell_type": "code",
   "execution_count": 39,
   "metadata": {},
   "outputs": [
    {
     "data": {
      "text/plain": [
       "20"
      ]
     },
     "execution_count": 39,
     "metadata": {},
     "output_type": "execute_result"
    }
   ],
   "source": [
    "#fumction without argument with return type.\n",
    "\n",
    "def without_argument():\n",
    "    a=5\n",
    "    b=4\n",
    "    return a*b\n",
    "without_argument()\n",
    "\n",
    "\n"
   ]
  },
  {
   "cell_type": "code",
   "execution_count": 42,
   "metadata": {},
   "outputs": [
    {
     "name": "stdout",
     "output_type": "stream",
     "text": [
      "enter your age12\n"
     ]
    },
    {
     "data": {
      "text/plain": [
       "'hi my name is bibek age is: 12'"
      ]
     },
     "execution_count": 42,
     "metadata": {},
     "output_type": "execute_result"
    }
   ],
   "source": [
    "def xyz():\n",
    "    x=\"hi my name is bibek\"\n",
    "    age=int(input(\"enter your age\"))\n",
    "    return x + \" age is: \"+str(age)\n",
    "xyz()"
   ]
  },
  {
   "cell_type": "code",
   "execution_count": 44,
   "metadata": {},
   "outputs": [
    {
     "name": "stdout",
     "output_type": "stream",
     "text": [
      "enter your name: bibek rawat\n",
      "enter your age: 19\n"
     ]
    },
    {
     "data": {
      "text/plain": [
       "'my name is bibek rawat and i am 19 years old'"
      ]
     },
     "execution_count": 44,
     "metadata": {},
     "output_type": "execute_result"
    }
   ],
   "source": [
    "def abc():\n",
    "    name=input(\"enter your name: \")\n",
    "    age=int(input(\"enter your age: \"))\n",
    "    return \"my name is \"+name+\" and i am \"+str(age)+\" years old\"\n",
    "abc()"
   ]
  },
  {
   "cell_type": "code",
   "execution_count": 7,
   "metadata": {},
   "outputs": [
    {
     "name": "stdout",
     "output_type": "stream",
     "text": [
      "area is: 20\n",
      "volume is: 120\n"
     ]
    }
   ],
   "source": [
    "def area():\n",
    "    global a\n",
    "    a=l*b\n",
    "    return a\n",
    "l=4\n",
    "b=5\n",
    "area()\n",
    "print(\"area is:\",area())\n",
    "def volume():\n",
    "    v=a*h\n",
    "    return v\n",
    "h=6\n",
    "volume()\n",
    "print(\"volume is:\",volume())"
   ]
  },
  {
   "cell_type": "code",
   "execution_count": null,
   "metadata": {},
   "outputs": [],
   "source": []
  }
 ],
 "metadata": {
  "kernelspec": {
   "display_name": "Python 3",
   "language": "python",
   "name": "python3"
  },
  "language_info": {
   "codemirror_mode": {
    "name": "ipython",
    "version": 3
   },
   "file_extension": ".py",
   "mimetype": "text/x-python",
   "name": "python",
   "nbconvert_exporter": "python",
   "pygments_lexer": "ipython3",
   "version": "3.8.3"
  }
 },
 "nbformat": 4,
 "nbformat_minor": 4
}
