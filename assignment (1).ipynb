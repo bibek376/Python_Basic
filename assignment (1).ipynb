{
 "cells": [
  {
   "cell_type": "code",
   "execution_count": 16,
   "metadata": {},
   "outputs": [
    {
     "name": "stdout",
     "output_type": "stream",
     "text": [
      "enter your password ?dfbasd\n"
     ]
    }
   ],
   "source": [
    "import re\n",
    "x=input(\"enter your password ?\")\n",
    "flag=0\n",
    "while True:\n",
    "    if (len(x)<6 or len(x)>20):\n",
    "        flag=-1\n",
    "        break\n",
    "    elif  not re.search(\"[a-z]\",x):\n",
    "        flag=-1\n",
    "        break\n",
    "    elif not re.search(\"[0-9]\",x):\n",
    "        flag=-1\n",
    "        break\n",
    "    elif not re.search(\"[A-Z]\",x):\n",
    "        flag=-1\n",
    "        break\n",
    "    elif not re.search(\"[$#@%]\",x):\n",
    "        flag=-1\n",
    "        break\n",
    "    elif not re.search(\"\\s\",x):\n",
    "        flag=-1\n",
    "        break\n",
    "    else:\n",
    "        flag=0\n",
    "        print(\"valid password:\")\n",
    "        break\n",
    "if False:\n",
    "    flag=-1\n",
    "    print(\"not valid password:\")\n"
   ]
  },
  {
   "cell_type": "code",
   "execution_count": 6,
   "metadata": {},
   "outputs": [
    {
     "name": "stdout",
     "output_type": "stream",
     "text": [
      "enter the value of x:5\n",
      " first 5 fibonacci series are:\n",
      "0\n",
      "1\n",
      "1\n",
      "2\n",
      "3\n"
     ]
    }
   ],
   "source": [
    "#fibonacci series\n",
    "n1=0\n",
    "n2=1\n",
    "x=int(input(\"enter the value of x:\"))\n",
    "print(f\" first {x} fibonacci series are:\")\n",
    "print(n1)#printing first value\n",
    "print(n2)#printing second value\n",
    "for num in range(2,x):\n",
    "    sum=n1+n2\n",
    "    print(sum)\n",
    "    n1=n2\n",
    "    n2=sum"
   ]
  },
  {
   "cell_type": "code",
   "execution_count": 14,
   "metadata": {},
   "outputs": [
    {
     "name": "stdout",
     "output_type": "stream",
     "text": [
      "enter x= 2\n",
      "enter y= 12\n",
      "prime number is: 2\n",
      "prime number is: 3\n",
      "normal number is: 4\n",
      "prime number is: 5\n",
      "normal number is: 6\n",
      "prime number is: 7\n",
      "normal number is: 8\n",
      "normal number is: 9\n",
      "normal number is: 10\n",
      "prime number is: 11\n",
      "normal number is: 12\n"
     ]
    }
   ],
   "source": [
    "#prime or composite\n",
    "x=int(input(\"enter x= \"))\n",
    "y=int(input(\"enter y= \"))\n",
    "for num in range(x,y+1):\n",
    "    for i in range(2,num):\n",
    "        if num%i==0:\n",
    "            print(\"normal number is:\",num)\n",
    "            break\n",
    "    else:\n",
    "        print(\"prime number is:\",num)"
   ]
  },
  {
   "cell_type": "code",
   "execution_count": 11,
   "metadata": {},
   "outputs": [
    {
     "name": "stdout",
     "output_type": "stream",
     "text": [
      "[[2, 'bibek', 78, 'gaindakot'], [3, 'carlos', 66, 'nepal']]\n"
     ]
    }
   ],
   "source": [
    "#removing a lsit value .\n",
    "list1=[[1,\"ram\",78,\"patan\"],\n",
    "      [2,\"bibek\",78,\"gaindakot\"],\n",
    "       [3,\"carlos\",66,\"nepal\"],\n",
    "       [4,\"ram\",23,\"india\"]]\n",
    "for num in range(len(list1)-1):\n",
    "    if \"ram\" in list1[num][1]:\n",
    "        del list1[num]\n",
    "print(list1)\n",
    "\n"
   ]
  },
  {
   "cell_type": "code",
   "execution_count": 10,
   "metadata": {},
   "outputs": [
    {
     "name": "stdout",
     "output_type": "stream",
     "text": [
      " Enter Number of students:2\n",
      "enter marks of DAA= \n",
      "11\n",
      "enter marks of CG= \n",
      "11\n",
      "enter marks of IOT= \n",
      "11\n",
      "enter marks of OS= \n",
      "11\n",
      "enter marks AIML= \n",
      "11\n",
      "enter marks ST= \n",
      "11\n",
      "enter marks of DAA= \n",
      "11\n",
      "enter marks of CG= \n",
      "11\n",
      "enter marks of IOT= \n",
      "11\n",
      "enter marks of OS= \n",
      "11\n",
      "enter marks AIML= \n",
      "11\n",
      "enter marks ST= \n",
      "11\n",
      "[[11, 11, 11, 11, 11, 11], [11, 11, 11, 11, 11, 11]]\n",
      "22\n"
     ]
    }
   ],
   "source": [
    "#marksheet\n",
    "list1=[]\n",
    "sum=0\n",
    "num=int(input(\" Enter Number of students:\"))\n",
    "for i in range(num):\n",
    "    DAA=int(input(\"enter marks of DAA= \\n\"))\n",
    "    CG=int(input(\"enter marks of CG= \\n\"))\n",
    "    IOT=int(input(\"enter marks of IOT= \\n\"))\n",
    "    OS=int(input(\"enter marks of OS= \\n\"))\n",
    "    AIML=int(input(\"enter marks AIML= \\n\"))\n",
    "    ST=int(input(\"enter marks ST= \\n\"))\n",
    "    store=[[DAA,CG,IOT,OS,AIML,ST]]# i refers to roll number.\n",
    "    list1=list1+store\n",
    "    sum=sum+list1[0][i]\n",
    "print(list1)\n",
    "print(sum)\n"
   ]
  },
  {
   "cell_type": "markdown",
   "metadata": {},
   "source": [
    "# b=[]\n",
    "a=((1,'ram'),(2,'shyam'))\n",
    "n=len(a)\n",
    "for i in range(n):\n",
    "    b.append(list(a[i]))\n",
    "b"
   ]
  },
  {
   "cell_type": "code",
   "execution_count": null,
   "metadata": {},
   "outputs": [],
   "source": []
  },
  {
   "cell_type": "code",
   "execution_count": 11,
   "metadata": {},
   "outputs": [
    {
     "name": "stdout",
     "output_type": "stream",
     "text": [
      "enter x= 2\n",
      "enter y= 12\n",
      "2\n",
      "3\n",
      "number 4\n",
      "5\n",
      "number 6\n",
      "7\n",
      "number 8\n",
      "number 9\n",
      "number 10\n",
      "11\n",
      "number 12\n"
     ]
    }
   ],
   "source": [
    "x=int(input(\"enter x= \"))\n",
    "y=int(input(\"enter y= \"))\n",
    "for num in range(x,y+1):\n",
    "    for i in range(2,num):\n",
    "        if num%i==0:\n",
    "            print(\"number\",num)\n",
    "            break\n",
    "    else:\n",
    "        print(num)"
   ]
  },
  {
   "cell_type": "code",
   "execution_count": 4,
   "metadata": {},
   "outputs": [
    {
     "ename": "AttributeError",
     "evalue": "'list' object has no attribute 'update'",
     "output_type": "error",
     "traceback": [
      "\u001b[1;31m---------------------------------------------------------------------------\u001b[0m",
      "\u001b[1;31mAttributeError\u001b[0m                            Traceback (most recent call last)",
      "\u001b[1;32m<ipython-input-4-54f1a8e96d40>\u001b[0m in \u001b[0;36m<module>\u001b[1;34m\u001b[0m\n\u001b[0;32m      3\u001b[0m \u001b[0mn\u001b[0m\u001b[1;33m=\u001b[0m\u001b[0mlen\u001b[0m\u001b[1;33m(\u001b[0m\u001b[0ma\u001b[0m\u001b[1;33m)\u001b[0m\u001b[1;33m\u001b[0m\u001b[1;33m\u001b[0m\u001b[0m\n\u001b[0;32m      4\u001b[0m \u001b[1;32mfor\u001b[0m \u001b[0mi\u001b[0m \u001b[1;32min\u001b[0m \u001b[0mrange\u001b[0m\u001b[1;33m(\u001b[0m\u001b[0mn\u001b[0m\u001b[1;33m)\u001b[0m\u001b[1;33m:\u001b[0m\u001b[1;33m\u001b[0m\u001b[1;33m\u001b[0m\u001b[0m\n\u001b[1;32m----> 5\u001b[1;33m     \u001b[0mb\u001b[0m\u001b[1;33m.\u001b[0m\u001b[0mupdate\u001b[0m\u001b[1;33m(\u001b[0m\u001b[0mlist\u001b[0m\u001b[1;33m(\u001b[0m\u001b[0ma\u001b[0m\u001b[1;33m[\u001b[0m\u001b[0mi\u001b[0m\u001b[1;33m]\u001b[0m\u001b[1;33m)\u001b[0m\u001b[1;33m)\u001b[0m\u001b[1;33m\u001b[0m\u001b[1;33m\u001b[0m\u001b[0m\n\u001b[0m\u001b[0;32m      6\u001b[0m \u001b[0ma\u001b[0m\u001b[1;33m\u001b[0m\u001b[1;33m\u001b[0m\u001b[0m\n",
      "\u001b[1;31mAttributeError\u001b[0m: 'list' object has no attribute 'update'"
     ]
    }
   ],
   "source": [
    "b=[]\n",
    "a=((1,'ram'),(2,'shyam'))\n",
    "n=len(a)\n",
    "for i in range(n):\n",
    "    b.update(list(a[i]))\n",
    "a"
   ]
  },
  {
   "cell_type": "code",
   "execution_count": 19,
   "metadata": {},
   "outputs": [
    {
     "data": {
      "text/plain": [
       "[{1, 'ram'}, {2, 'shyam'}]"
      ]
     },
     "execution_count": 19,
     "metadata": {},
     "output_type": "execute_result"
    }
   ],
   "source": [
    "b=[]\n",
    "a=((1,'ram'),(2,'shyam'))\n",
    "for i in range(len(a)):\n",
    "    b.append(set(a[i]))\n",
    "    #b.update(a[i][2],\"nepal\")\n",
    "b\n",
    "\n",
    "\n"
   ]
  },
  {
   "cell_type": "code",
   "execution_count": 7,
   "metadata": {},
   "outputs": [
    {
     "name": "stdout",
     "output_type": "stream",
     "text": [
      "22\n"
     ]
    }
   ],
   "source": [
    "sum=0\n",
    "x=[3,6,8,1,4]\n",
    "for i in range(len(x)):\n",
    "    sum=sum+x[i]\n",
    "print(sum)\n",
    "\n"
   ]
  },
  {
   "cell_type": "code",
   "execution_count": 2,
   "metadata": {},
   "outputs": [
    {
     "name": "stdout",
     "output_type": "stream",
     "text": [
      "enter how many times you want to execute the loop?\n",
      "4\n",
      "enter the value of x:5\n",
      "enter the value of x:10\n",
      "enter the value of x:20\n",
      "enter the value of x:40\n",
      "75\n"
     ]
    }
   ],
   "source": [
    "\"\"\"Accept number from user and calculate the sum of all number between 1 and\n",
    "given number.\"\"\"\n",
    "num=int(input(\"enter how many times you want to execute the loop?\\n\"))\n",
    "sum=0\n",
    "for i in range(num):\n",
    "    x=int(input(\"enter the value of x:\"))\n",
    "    sum=sum+x\n",
    "print(sum)\n"
   ]
  },
  {
   "cell_type": "code",
   "execution_count": 8,
   "metadata": {},
   "outputs": [
    {
     "name": "stdout",
     "output_type": "stream",
     "text": [
      "15\n",
      "55\n",
      "75\n",
      "150\n",
      "out of limit.\n"
     ]
    }
   ],
   "source": [
    "\"\"\"Given a list iterate it and display numbers which are divisible by 5 and if you\n",
    "find number greater than 150 stop the loop iteration. list1 = [12, 15, 32, 42,\n",
    "55, 75, 122, 132, 150, 180, 200]\"\"\"\n",
    "\n",
    "\n",
    "list1 = [12, 15, 32, 42,55, 75, 122, 132, 150, 180, 200]\n",
    "index=0\n",
    "for index in range(len(list1)):\n",
    "    if list1[index]>150:\n",
    "        print(\"out of limit.\")\n",
    "        break\n",
    "    elif list1[index]%5==0:\n",
    "        print(list1[index])\n",
    "        "
   ]
  },
  {
   "cell_type": "code",
   "execution_count": 10,
   "metadata": {},
   "outputs": [
    {
     "name": "stdout",
     "output_type": "stream",
     "text": [
      "enter how many number you want ?\n",
      "10\n",
      "fibonacci series are:\n",
      "0\n",
      "1\n",
      "1\n",
      "2\n",
      "3\n",
      "5\n",
      "8\n",
      "13\n",
      "21\n",
      "34\n"
     ]
    }
   ],
   "source": [
    "#Display Fibonacci series up to 10 terms\n",
    "num=int(input(\"enter how many number you want ?\\n\"))\n",
    "print(\"fibonacci series are:\")\n",
    "n1=0\n",
    "n2=1\n",
    "print(n1)\n",
    "print(n2)\n",
    "for num in range(2,num):\n",
    "    sum=n1+n2\n",
    "    print(sum)\n",
    "    n1=n2\n",
    "    n2=sum"
   ]
  },
  {
   "cell_type": "code",
   "execution_count": 4,
   "metadata": {},
   "outputs": [
    {
     "name": "stdout",
     "output_type": "stream",
     "text": [
      "how many?\n",
      "3\n",
      "['2', '22', '222']\n",
      "[2, 22, 222]\n",
      "required sum is: 246\n"
     ]
    }
   ],
   "source": [
    "#Find the sum of the series 2 +22 + 222 + 2222 + .. n terms\n",
    "list1=[]\n",
    "n=int(input(\"how many?\\n\"))\n",
    "for i in range(1,n+1):\n",
    "    x=\"2\"*i\n",
    "    list1.append(x)\n",
    "print(list1)\n",
    "for num in range(len(list1)):\n",
    "    list1[num]=int(list1[num])\n",
    "print(list1)\n",
    "print(\"required sum is:\",sum(list1))\n"
   ]
  },
  {
   "cell_type": "code",
   "execution_count": 35,
   "metadata": {},
   "outputs": [
    {
     "name": "stdout",
     "output_type": "stream",
     "text": [
      "2\n",
      "['bibek', 'carlos', 'cat']\n"
     ]
    }
   ],
   "source": [
    "#Remove empty strings from a list of strings\n",
    "#x=[eval(e) for e in input(\"enter the string\").split(',')]\n",
    "x=[\"bibek\",\"\",\"carlos\",\"\",\"cat\"]\n",
    "num=x.count(\"\")\n",
    "print(num)\n",
    "for i in range(num):\n",
    "    if \"\" in x:\n",
    "        x.remove(\"\")\n",
    "print(x)"
   ]
  },
  {
   "cell_type": "code",
   "execution_count": 8,
   "metadata": {},
   "outputs": [
    {
     "name": "stdout",
     "output_type": "stream",
     "text": [
      "6\n",
      "7\n",
      "8\n",
      "9\n"
     ]
    }
   ],
   "source": []
  },
  {
   "cell_type": "code",
   "execution_count": 26,
   "metadata": {},
   "outputs": [
    {
     "name": "stdout",
     "output_type": "stream",
     "text": [
      "['bibek', 'carlos']\n"
     ]
    }
   ],
   "source": []
  },
  {
   "cell_type": "code",
   "execution_count": 6,
   "metadata": {},
   "outputs": [
    {
     "name": "stdout",
     "output_type": "stream",
     "text": [
      "/*Jon is @developer & musician\n"
     ]
    }
   ],
   "source": [
    "\n"
   ]
  },
  {
   "cell_type": "code",
   "execution_count": 3,
   "metadata": {},
   "outputs": [
    {
     "name": "stdout",
     "output_type": "stream",
     "text": [
      "how many?\n",
      "3\n",
      "['2', '22', '222']\n",
      "[2, 22, 222]\n",
      "required sum is: 246\n"
     ]
    }
   ],
   "source": [
    "list1=[]\n",
    "n=int(input(\"how many?\\n\"))\n",
    "for i in range(1,n+1):\n",
    "    x=\"2\"*i\n",
    "    list1.append(x)\n",
    "print(list1)\n",
    "for num in range(len(list1)):\n",
    "    list1[num]=int(list1[num])\n",
    "print(list1)\n",
    "print(\"required sum is:\",sum(list1))"
   ]
  },
  {
   "cell_type": "code",
   "execution_count": 3,
   "metadata": {},
   "outputs": [
    {
     "name": "stdout",
     "output_type": "stream",
     "text": [
      "Jonisdeveloper&musician\n"
     ]
    }
   ],
   "source": [
    "#remove the unwanted special character.\n",
    "str1 = \"/*Jon is @developer & musician\"\n",
    "b=\"/* @\" \n",
    "for x in b:\n",
    "    str1=str1.replace(x,\"\")\n",
    "print(str1)\n"
   ]
  },
  {
   "cell_type": "code",
   "execution_count": 14,
   "metadata": {},
   "outputs": [
    {
     "name": "stdout",
     "output_type": "stream",
     "text": [
      "enter x= 2\n",
      "enter y= 10\n",
      "2\n",
      "3\n",
      "number 4\n",
      "5\n",
      "number 6\n",
      "7\n",
      "number 8\n",
      "number 9\n",
      "number 10\n"
     ]
    }
   ],
   "source": [
    "#Remove all composite no from any list and save only prime numbers\n",
    "x=int(input(\"enter x= \"))\n",
    "y=int(input(\"enter y= \"))\n",
    "for num in range(x,y+1):\n",
    "    for i in range(2,num):\n",
    "        if num%i==0:\n",
    "            print(\"number\",num)\n",
    "            break\n",
    "    else:\n",
    "        print(num)\n",
    "\n"
   ]
  },
  {
   "cell_type": "code",
   "execution_count": 7,
   "metadata": {},
   "outputs": [
    {
     "name": "stdout",
     "output_type": "stream",
     "text": [
      "<class 'dict'>\n"
     ]
    }
   ],
   "source": [
    "a={}\n",
    "print(type(a))"
   ]
  },
  {
   "cell_type": "code",
   "execution_count": 6,
   "metadata": {},
   "outputs": [
    {
     "name": "stdout",
     "output_type": "stream",
     "text": [
      "enter your email?\n",
      "bibekrawat223@gmail.com\n",
      "valid:\n"
     ]
    }
   ],
   "source": [
    "#Validate the given string is email or not\n",
    "import re\n",
    "regex = '^[a-z0-9]+[\\._]?[a-z0-9]+[@]\\w+[.]\\w{2,3}$'\n",
    "x=input(\"enter your email?\\n\")\n",
    "if (re.search(regex,x)):\n",
    "    print(\"valid:\")\n",
    "else:\n",
    "    print(\"invalid:\")"
   ]
  },
  {
   "cell_type": "code",
   "execution_count": 8,
   "metadata": {},
   "outputs": [
    {
     "name": "stdout",
     "output_type": "stream",
     "text": [
      "enter your name?\n",
      "bibek\n",
      "enter item name?\n",
      "copy\n",
      "enter the price?\n",
      "34\n",
      "enter item name?\n",
      "car\n",
      "enter the price?\n",
      "345\n",
      "enter item name?\n",
      "book\n",
      "enter the price?\n",
      "12\n",
      "{'bibek': ['book', 12]}\n"
     ]
    }
   ],
   "source": [
    "#billing system:\n",
    "data={}\n",
    "name=input(\"enter your name?\\n\")\n",
    "for i in range(3):\n",
    "    item_name=input(\"enter item name?\\n\")\n",
    "    price=int(input(\"enter the price?\\n\"))\n",
    "    data[name]=[item_name,price]\n",
    "print(data)\n",
    "\n",
    "\n",
    "\n"
   ]
  },
  {
   "cell_type": "code",
   "execution_count": null,
   "metadata": {},
   "outputs": [],
   "source": []
  }
 ],
 "metadata": {
  "kernelspec": {
   "display_name": "Python 3",
   "language": "python",
   "name": "python3"
  },
  "language_info": {
   "codemirror_mode": {
    "name": "ipython",
    "version": 3
   },
   "file_extension": ".py",
   "mimetype": "text/x-python",
   "name": "python",
   "nbconvert_exporter": "python",
   "pygments_lexer": "ipython3",
   "version": "3.8.3"
  }
 },
 "nbformat": 4,
 "nbformat_minor": 4
}
