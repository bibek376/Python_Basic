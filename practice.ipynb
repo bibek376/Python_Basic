{
 "cells": [
  {
   "cell_type": "code",
   "execution_count": 8,
   "metadata": {},
   "outputs": [
    {
     "name": "stdout",
     "output_type": "stream",
     "text": [
      "5 3.5 bibek\n",
      "a is <class 'int'>\n",
      "<class 'float'>\n",
      "<class 'str'>\n"
     ]
    }
   ],
   "source": [
    "#data type in python\n",
    "a=5\n",
    "b=3.5\n",
    "c=\"bibek\"\n",
    "print(a,b,c)\n",
    "print(\"a is\",type(a))\n",
    "print(type(b))\n",
    "print(type(c))"
   ]
  },
  {
   "cell_type": "code",
   "execution_count": 11,
   "metadata": {},
   "outputs": [
    {
     "name": "stdout",
     "output_type": "stream",
     "text": [
      "enter the value of x:5\n",
      "enter the value of y:2\n",
      "7\n",
      "3\n",
      "1\n",
      "10\n",
      "25\n",
      "2\n"
     ]
    }
   ],
   "source": [
    "#operator in python \n",
    "x=int(input(\"enter the value of x:\"))\n",
    "y=int(input(\"enter the value of y:\"))\n",
    "print(x+y)\n",
    "print(x-y)\n",
    "print(x%y)\n",
    "print(x*y)\n",
    "print(x**y)\n",
    "print(x//y)"
   ]
  },
  {
   "cell_type": "code",
   "execution_count": 13,
   "metadata": {},
   "outputs": [
    {
     "name": "stdout",
     "output_type": "stream",
     "text": [
      "enter the principle400\n",
      "enter the time1\n",
      "enter the rate5\n",
      "simple intrest is 20.0\n"
     ]
    }
   ],
   "source": [
    "#program to calculate simple intrest\n",
    "p=float(input(\"enter the principle\"))\n",
    "t=float(input(\"enter the time\"))\n",
    "r=float(input(\"enter the rate\"))\n",
    "simple_intrest=p*t*r/100\n",
    "print(\"simple intrest is\",simple_intrest)"
   ]
  },
  {
   "cell_type": "code",
   "execution_count": 29,
   "metadata": {},
   "outputs": [
    {
     "name": "stdout",
     "output_type": "stream",
     "text": [
      "bibek1 rawat\n"
     ]
    }
   ],
   "source": [
    "#string operations\n",
    "x='bibek'\n",
    "y=str( 1)\n",
    "z=\" rawat\"\n",
    "print(x+y+z)"
   ]
  },
  {
   "cell_type": "code",
   "execution_count": 34,
   "metadata": {},
   "outputs": [
    {
     "name": "stdout",
     "output_type": "stream",
     "text": [
      "bibek rawat\n",
      "bibek rawat\n",
      "bibek rawat\n",
      "bibek rawat\n",
      "\n"
     ]
    }
   ],
   "source": [
    "#string operations to print string in multiple times\n",
    "x=\"bibek rawat\\n\"\n",
    "print(x*4)"
   ]
  },
  {
   "cell_type": "code",
   "execution_count": 40,
   "metadata": {},
   "outputs": [
    {
     "name": "stdout",
     "output_type": "stream",
     "text": [
      "hello,world\n"
     ]
    },
    {
     "data": {
      "text/plain": [
       "'llo,worl'"
      ]
     },
     "execution_count": 40,
     "metadata": {},
     "output_type": "execute_result"
    }
   ],
   "source": [
    "#slicing operations in string\n",
    "x=\"hello,world\"\n",
    "print(x)\n",
    "x[0]\n",
    "x[5]\n",
    "x[0:6]\n",
    "x[1:9]\n",
    "x[2:10]\n"
   ]
  },
  {
   "cell_type": "code",
   "execution_count": 19,
   "metadata": {},
   "outputs": [
    {
     "name": "stdout",
     "output_type": "stream",
     "text": [
      "enter the name:Bibek rawat\n",
      "enter the age:19\n",
      "enter the  current address:gaindakot\n",
      "enter the contact number:9863680379\n",
      "enetr the uid:18BCS6728\n",
      "name is Bibek rawat and age is: 19 i live in gaindakot and my contact number is: 9863680379 uid is: 18BCS6728\n"
     ]
    }
   ],
   "source": [
    "#adding string and integer\n",
    "name=input(\"enter the name:\")\n",
    "age=int(input(\"enter the age:\"))\n",
    "address=input(\"enter the  current address:\")\n",
    "contact_no=int(input(\"enter the contact number:\"))\n",
    "uid=input(\"enetr the uid:\")\n",
    "x=\"name is \"+name+\" and age is: \"+str(age)+\" i live in \"+address+\" and my contact number is: \"+str(contact_no)+\" uid is: \"+uid\n",
    "print(x)"
   ]
  },
  {
   "cell_type": "code",
   "execution_count": null,
   "metadata": {},
   "outputs": [],
   "source": []
  }
 ],
 "metadata": {
  "kernelspec": {
   "display_name": "Python 3",
   "language": "python",
   "name": "python3"
  },
  "language_info": {
   "codemirror_mode": {
    "name": "ipython",
    "version": 3
   },
   "file_extension": ".py",
   "mimetype": "text/x-python",
   "name": "python",
   "nbconvert_exporter": "python",
   "pygments_lexer": "ipython3",
   "version": "3.8.3"
  }
 },
 "nbformat": 4,
 "nbformat_minor": 4
}
