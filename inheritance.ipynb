{
 "cells": [
  {
   "cell_type": "code",
   "execution_count": 7,
   "metadata": {},
   "outputs": [
    {
     "name": "stdout",
     "output_type": "stream",
     "text": [
      "hello my name is bibek. and i am 22 years old. i live in gaindakot\n",
      "None\n"
     ]
    }
   ],
   "source": [
    "class profile:\n",
    "    def __init__(self,name,age,add):\n",
    "        self.name=name\n",
    "        self.age=age\n",
    "        self.add=add\n",
    "class hr(profile):\n",
    "    def info(self):\n",
    "        print(f\"hello my name is {self.name}. and i am {self.age} years old. i live in {self.add}\")\n",
    "x=hr(\"bibek\",\"22\",\"gaindakot\")#creating a object.\n",
    "print(x.info())"
   ]
  },
  {
   "cell_type": "code",
   "execution_count": 18,
   "metadata": {},
   "outputs": [
    {
     "name": "stdout",
     "output_type": "stream",
     "text": [
      "hello my name is bibek. i am 12 years old. i am from gaindakot and number is 9863680379\n"
     ]
    }
   ],
   "source": [
    "class profile:\n",
    "    def __init__(self,name,age,add):\n",
    "        self.name=name\n",
    "        self.age=age\n",
    "        self.add=add\n",
    "class hr(profile):\n",
    "    def __init__(self,name,age,add,phone):\n",
    "        profile.__init__(self,name,age,add)#both class have init fun() to avoid overide it is use.\n",
    "        self.phone=phone\n",
    "    def info(self):\n",
    "        print(f\"hello my name is {self.name}. i am {self.age} years old. i am from {self.add} and number is {self.phone}\")\n",
    "obj=hr(\"bibek\",12,\"gaindakot\",9863680379)\n",
    "obj.info()"
   ]
  },
  {
   "cell_type": "code",
   "execution_count": 10,
   "metadata": {},
   "outputs": [
    {
     "name": "stdout",
     "output_type": "stream",
     "text": [
      "hello my name is bibek.i am 12 years old. and phone number is 9782366.\n"
     ]
    }
   ],
   "source": [
    "class profile:\n",
    "    def __init__(self,name):\n",
    "        self.name=name\n",
    "class status:\n",
    "    def __init__ (self,age):\n",
    "        self.age=age\n",
    "class main(profile,status):\n",
    "    def __init__ (self,name,age,phone):\n",
    "        profile.__init__(self,name)\n",
    "        status.__init__(self,age)\n",
    "        self.phone=phone\n",
    "    def info(self):\n",
    "        print(f\"hello my name is {self.name}.i am {self.age} years old. and phone number is {self.phone}.\")\n",
    "obj=main(\"bibek\",12,9782366)\n",
    "obj.info()        "
   ]
  },
  {
   "cell_type": "code",
   "execution_count": 16,
   "metadata": {},
   "outputs": [
    {
     "name": "stdout",
     "output_type": "stream",
     "text": [
      " class A:\n",
      "class B:\n",
      "class C:\n"
     ]
    }
   ],
   "source": [
    "class A:\n",
    "    print(\" class A:\")\n",
    "class B(A):\n",
    "    print(\"class B:\")\n",
    "class C(B):\n",
    "    print(\"class C:\")\n",
    "obj=C()\n",
    "#obj=A()\n",
    "#obj=B()"
   ]
  },
  {
   "cell_type": "code",
   "execution_count": 21,
   "metadata": {},
   "outputs": [
    {
     "name": "stdout",
     "output_type": "stream",
     "text": [
      "hello i am Bibek .i am 21 years old. my number is 9863680379\n"
     ]
    }
   ],
   "source": [
    "class A:\n",
    "    def __init__(self,name):\n",
    "        self.name=name\n",
    "class B(A):\n",
    "    def __init__(self,age):\n",
    "        self.age=age\n",
    "class C(B):\n",
    "    def __init__(self,name,age,phone):\n",
    "        A.__init__(self,name)\n",
    "        B.__init__(self,age)\n",
    "        self.phone=phone\n",
    "    def info(self):#method\n",
    "        print(f\"hello i am {self.name} .i am {self.age} years old. my number is {self.phone}\")\n",
    "obj=C(\"Bibek\",21,9863680379)\n",
    "obj.info()"
   ]
  },
  {
   "cell_type": "code",
   "execution_count": 2,
   "metadata": {},
   "outputs": [
    {
     "ename": "AttributeError",
     "evalue": "'tuple' object has no attribute 'info'",
     "output_type": "error",
     "traceback": [
      "\u001b[1;31m---------------------------------------------------------------------------\u001b[0m",
      "\u001b[1;31mAttributeError\u001b[0m                            Traceback (most recent call last)",
      "\u001b[1;32m<ipython-input-2-3baf9fde5569>\u001b[0m in \u001b[0;36m<module>\u001b[1;34m\u001b[0m\n\u001b[0;32m     13\u001b[0m         \u001b[0mprint\u001b[0m\u001b[1;33m(\u001b[0m\u001b[0msuper\u001b[0m\u001b[1;33m(\u001b[0m\u001b[1;33m)\u001b[0m\u001b[1;33m.\u001b[0m\u001b[0mage\u001b[0m\u001b[1;33m(\u001b[0m\u001b[1;33m)\u001b[0m\u001b[1;33m)\u001b[0m\u001b[1;33m\u001b[0m\u001b[1;33m\u001b[0m\u001b[0m\n\u001b[0;32m     14\u001b[0m \u001b[0mobj\u001b[0m\u001b[1;33m=\u001b[0m\u001b[1;33m(\u001b[0m\u001b[1;34m\"bibek\"\u001b[0m\u001b[1;33m,\u001b[0m\u001b[1;34m\"gaindakot\"\u001b[0m\u001b[1;33m,\u001b[0m\u001b[1;36m9863680379\u001b[0m\u001b[1;33m)\u001b[0m\u001b[1;33m\u001b[0m\u001b[1;33m\u001b[0m\u001b[0m\n\u001b[1;32m---> 15\u001b[1;33m \u001b[0mobj\u001b[0m\u001b[1;33m.\u001b[0m\u001b[0minfo\u001b[0m\u001b[1;33m(\u001b[0m\u001b[1;33m)\u001b[0m\u001b[1;33m\u001b[0m\u001b[1;33m\u001b[0m\u001b[0m\n\u001b[0m\u001b[0;32m     16\u001b[0m \u001b[0mobj\u001b[0m\u001b[1;33m.\u001b[0m\u001b[0mmy_age\u001b[0m\u001b[1;33m(\u001b[0m\u001b[1;33m)\u001b[0m\u001b[1;33m\u001b[0m\u001b[1;33m\u001b[0m\u001b[0m\n",
      "\u001b[1;31mAttributeError\u001b[0m: 'tuple' object has no attribute 'info'"
     ]
    }
   ],
   "source": [
    "#super()\n",
    "class profile:\n",
    "    def __init__(self,name,add,phone):\n",
    "        self.name=name\n",
    "        self.add=add\n",
    "        self.phone=phone\n",
    "        def age(self):\n",
    "            return 30\n",
    "class hr(profile):\n",
    "    def info(self):\n",
    "        print(f\"hello my name is {self.name}. i live in {self.add} and my number is {self.phone}\")\n",
    "    def my_age(self):\n",
    "        print(super().age())\n",
    "obj=(\"bibek\",\"gaindakot\",9863680379)\n",
    "obj.info()\n",
    "obj.my_age()\n"
   ]
  },
  {
   "cell_type": "code",
   "execution_count": 4,
   "metadata": {},
   "outputs": [
    {
     "ename": "AttributeError",
     "evalue": "'tuple' object has no attribute 'info'",
     "output_type": "error",
     "traceback": [
      "\u001b[1;31m---------------------------------------------------------------------------\u001b[0m",
      "\u001b[1;31mAttributeError\u001b[0m                            Traceback (most recent call last)",
      "\u001b[1;32m<ipython-input-4-518420f4c030>\u001b[0m in \u001b[0;36m<module>\u001b[1;34m\u001b[0m\n\u001b[0;32m     12\u001b[0m         \u001b[0mprint\u001b[0m\u001b[1;33m(\u001b[0m\u001b[0msuper\u001b[0m\u001b[1;33m(\u001b[0m\u001b[1;33m)\u001b[0m\u001b[1;33m.\u001b[0m\u001b[0minfo\u001b[0m\u001b[1;33m(\u001b[0m\u001b[1;33m)\u001b[0m\u001b[1;33m)\u001b[0m\u001b[1;33m\u001b[0m\u001b[1;33m\u001b[0m\u001b[0m\n\u001b[0;32m     13\u001b[0m \u001b[0mobj\u001b[0m\u001b[1;33m=\u001b[0m\u001b[1;33m(\u001b[0m\u001b[1;34m\"bibek\"\u001b[0m\u001b[1;33m,\u001b[0m\u001b[1;34m\"gaindakot\"\u001b[0m\u001b[1;33m,\u001b[0m\u001b[1;36m9863680379\u001b[0m\u001b[1;33m,\u001b[0m\u001b[1;36m14\u001b[0m\u001b[1;33m)\u001b[0m\u001b[1;33m\u001b[0m\u001b[1;33m\u001b[0m\u001b[0m\n\u001b[1;32m---> 14\u001b[1;33m \u001b[0mobj\u001b[0m\u001b[1;33m.\u001b[0m\u001b[0minfo\u001b[0m\u001b[1;33m(\u001b[0m\u001b[1;33m)\u001b[0m\u001b[1;33m\u001b[0m\u001b[1;33m\u001b[0m\u001b[0m\n\u001b[0m\u001b[0;32m     15\u001b[0m \u001b[0mobj\u001b[0m\u001b[1;33m.\u001b[0m\u001b[0mmy_script\u001b[0m\u001b[1;33m(\u001b[0m\u001b[1;33m)\u001b[0m\u001b[1;33m\u001b[0m\u001b[1;33m\u001b[0m\u001b[0m\n",
      "\u001b[1;31mAttributeError\u001b[0m: 'tuple' object has no attribute 'info'"
     ]
    }
   ],
   "source": [
    "#super()\n",
    "class profile:\n",
    "    def __init__(self,name,add,phone,age):\n",
    "        self.name=name\n",
    "        self.add=add\n",
    "        self.phone=phone\n",
    "        self.age=age\n",
    "    def info(self):\n",
    "            return f\"hello my name is {self.name}. i live in {self.add} and my number is {self.phone} and {self.age} years old.\"\n",
    "class hr(profile):\n",
    "    def my_script(self):\n",
    "        print(super().info())\n",
    "obj=(\"bibek\",\"gaindakot\",9863680379,14)\n",
    "obj.info()\n",
    "obj.my_script()"
   ]
  },
  {
   "cell_type": "code",
   "execution_count": 1,
   "metadata": {},
   "outputs": [
    {
     "name": "stdout",
     "output_type": "stream",
     "text": [
      "Hello, and welcome!\n"
     ]
    }
   ],
   "source": [
    "class Parent:\n",
    "  def __init__(self, txt):\n",
    "    self.message = txt\n",
    "\n",
    "  def printmessage(self):\n",
    "    print(self.message)\n",
    "\n",
    "class Child(Parent):\n",
    "  def __init__(self, txt):\n",
    "    super().__init__(txt)\n",
    "\n",
    "x = Child(\"Hello, and welcome!\")\n",
    "\n",
    "x.printmessage()"
   ]
  },
  {
   "cell_type": "code",
   "execution_count": 6,
   "metadata": {},
   "outputs": [
    {
     "name": "stdout",
     "output_type": "stream",
     "text": [
      "nepal\n"
     ]
    }
   ],
   "source": [
    "#public,private and procted in inheritance.\n",
    "#public data inheritance\n",
    "class profile:\n",
    "    def __init__(self,name,age,add):\n",
    "        self.name=name#public\n",
    "        self.age=age#public\n",
    "        self.add=add#public\n",
    "obj=profile(\"bibek\",12,\"nepal\")\n",
    "print(obj.add)"
   ]
  },
  {
   "cell_type": "code",
   "execution_count": 4,
   "metadata": {},
   "outputs": [
    {
     "name": "stdout",
     "output_type": "stream",
     "text": [
      "bibek\n"
     ]
    }
   ],
   "source": [
    "class profile:\n",
    "    def __init__(self,name,age,add):\n",
    "        self._name=name#procted\n",
    "        self._age=age#procted\n",
    "        self._add=add#procted\n",
    "obj=profile(\"bibek\",12,\"nepal\")\n",
    "print(obj._name)#calling procted\n",
    "        "
   ]
  },
  {
   "cell_type": "code",
   "execution_count": 12,
   "metadata": {},
   "outputs": [
    {
     "name": "stdout",
     "output_type": "stream",
     "text": [
      "bibek\n"
     ]
    }
   ],
   "source": [
    "class profile:\n",
    "    def __init__(self,name,age,add):\n",
    "        self.__name=name#private\n",
    "        self.__age=age#private\n",
    "        self.__add=add#private\n",
    "obj=profile(\"bibek\",12,\"nepal\")\n",
    "#print(obj.__name)#it will produce error\n",
    "print(obj._profile__name)"
   ]
  },
  {
   "cell_type": "code",
   "execution_count": 17,
   "metadata": {},
   "outputs": [
    {
     "name": "stdout",
     "output_type": "stream",
     "text": [
      "hello i am bibek, i am 23 years old. and i am from nepal\n",
      "('bibek', 23, 'nepal')\n",
      "bibek\n"
     ]
    }
   ],
   "source": [
    "class profile:\n",
    "    def __init__(self,name,age,add):\n",
    "        self.name=name#public\n",
    "        self._age=age#procted\n",
    "        self.__add=add#private\n",
    "    def profile(self):\n",
    "        return self.name,self._age,self.__add\n",
    "class hr(profile):\n",
    "    def hr(self):\n",
    "        print(f\"hello i am {self.name}, i am {self._age} years old. and i am from {self._profile__add}\")\n",
    "obj=hr(\"bibek\",23,\"nepal\")\n",
    "obj.hr()\n",
    "print(obj.profile())\n",
    "print(obj.name)"
   ]
  },
  {
   "cell_type": "code",
   "execution_count": 1,
   "metadata": {},
   "outputs": [
    {
     "name": "stdout",
     "output_type": "stream",
     "text": [
      "hello i am bibek, i am 23 years old. and i am from ('bibek', 23, 'nepal')\n",
      "('bibek', 23, 'nepal')\n",
      "bibek\n"
     ]
    }
   ],
   "source": [
    "#using  super function().\n",
    "class profile:\n",
    "    def __init__(self,name,age,add):\n",
    "        self.name=name#public\n",
    "        self._age=age#procted\n",
    "        self.__add=add#private\n",
    "    def profile(self):\n",
    "        return self.name,self._age,self.__add\n",
    "class hr(profile):\n",
    "    def hr(self):\n",
    "        print(f\"hello i am {self.name}, i am {self._age} years old. and i am from {super().profile()}\")\n",
    "obj=hr(\"bibek\",23,\"nepal\")\n",
    "obj.hr()\n",
    "print(obj.profile())\n",
    "print(obj.name)"
   ]
  },
  {
   "cell_type": "code",
   "execution_count": 24,
   "metadata": {},
   "outputs": [
    {
     "name": "stdout",
     "output_type": "stream",
     "text": [
      "bow,bow\n",
      "maow,maow\n"
     ]
    }
   ],
   "source": [
    "#ploymorphism\n",
    "#one name different work\n",
    "class dog:\n",
    "    def sound(self):\n",
    "        print(\"bow,bow\")\n",
    "class cat:\n",
    "    def sound(self):\n",
    "        print(\"maow,maow\")\n",
    "def making_sound(animal):\n",
    "    animal.sound()\n",
    "obj_dog=dog()\n",
    "obj_cat=cat()\n",
    "making_sound(obj_dog)\n",
    "making_sound(obj_cat)\n"
   ]
  },
  {
   "cell_type": "code",
   "execution_count": 27,
   "metadata": {},
   "outputs": [
    {
     "name": "stdout",
     "output_type": "stream",
     "text": [
      "parrot can not swim\n",
      "parrot can fly\n"
     ]
    }
   ],
   "source": [
    "class parrot:\n",
    "    def swim(self):\n",
    "        print(\"parrot can not swim\")\n",
    "    def fly(self):\n",
    "        print(\"parrot can fly\")\n",
    "class penguin:\n",
    "    def swim(self):\n",
    "        print(\"pengiun can swim\")\n",
    "    def fly(self):\n",
    "        print(\"pengiun can not swim\")\n",
    "def test(animal):\n",
    "    animal.swim()\n",
    "    animal.fly()\n",
    "obj_parrot=parrot()\n",
    "obj_penguin=penguin()\n",
    "test(obj_parrot)"
   ]
  },
  {
   "cell_type": "code",
   "execution_count": null,
   "metadata": {},
   "outputs": [],
   "source": []
  }
 ],
 "metadata": {
  "kernelspec": {
   "display_name": "Python 3",
   "language": "python",
   "name": "python3"
  },
  "language_info": {
   "codemirror_mode": {
    "name": "ipython",
    "version": 3
   },
   "file_extension": ".py",
   "mimetype": "text/x-python",
   "name": "python",
   "nbconvert_exporter": "python",
   "pygments_lexer": "ipython3",
   "version": "3.8.3"
  }
 },
 "nbformat": 4,
 "nbformat_minor": 4
}
