{
 "cells": [
  {
   "cell_type": "code",
   "execution_count": 3,
   "metadata": {},
   "outputs": [
    {
     "name": "stdout",
     "output_type": "stream",
     "text": [
      "hello world:\n",
      "hello world:\n",
      "hello world:\n",
      "hello world:\n",
      "hello world:\n"
     ]
    }
   ],
   "source": [
    "i=0\n",
    "while i<5:\n",
    "    print(\"hello world:\")\n",
    "    i+=1"
   ]
  },
  {
   "cell_type": "code",
   "execution_count": 6,
   "metadata": {},
   "outputs": [
    {
     "name": "stdout",
     "output_type": "stream",
     "text": [
      "enter the any value ?\n",
      "5\n",
      "5 X 1 = 5\n",
      "5 X 2 = 10\n",
      "5 X 3 = 15\n",
      "5 X 4 = 20\n",
      "5 X 5 = 25\n",
      "5 X 6 = 30\n",
      "5 X 7 = 35\n",
      "5 X 8 = 40\n",
      "5 X 9 = 45\n",
      "5 X 10 = 50\n"
     ]
    }
   ],
   "source": [
    "i=1\n",
    "num=int(input(\"enter the any value ?\\n\"))\n",
    "while i<11:\n",
    "    print(num,\"X\",i,\"=\",i*num)\n",
    "    i+=1\n",
    "    "
   ]
  },
  {
   "cell_type": "code",
   "execution_count": 8,
   "metadata": {},
   "outputs": [
    {
     "name": "stdout",
     "output_type": "stream",
     "text": [
      "enter how many value you want ?4\n",
      "enter number = \n",
      "1\n",
      "enter number = \n",
      "2\n",
      "enter number = \n",
      "3\n",
      "enter number = \n",
      "6\n",
      "sum is: 12\n"
     ]
    }
   ],
   "source": [
    "x=int(input(\"enter how many value you want ?\"))\n",
    "i=0\n",
    "sum=0\n",
    "while x>i:\n",
    "    y=int(input(\"enter number = \\n\"))\n",
    "    sum=sum+y\n",
    "    i+=1\n",
    "print(\"sum is:\",sum)\n",
    "    \n"
   ]
  },
  {
   "cell_type": "code",
   "execution_count": 3,
   "metadata": {},
   "outputs": [
    {
     "name": "stdout",
     "output_type": "stream",
     "text": [
      "how many ?\n",
      "5\n",
      "0\n",
      "1\n",
      "1\n",
      "2\n",
      "3\n"
     ]
    }
   ],
   "source": [
    "#fibonacci series\n",
    "x=int(input(\"how many ?\\n\"))\n",
    "n1=0\n",
    "n2=1\n",
    "print(n1)\n",
    "print(n2)\n",
    "for num in range(2,x):\n",
    "    sum=n1+n2\n",
    "    print(sum)\n",
    "    n1=n2\n",
    "    n2=sum\n",
    "    \n",
    "\n",
    "\n"
   ]
  },
  {
   "cell_type": "code",
   "execution_count": 13,
   "metadata": {},
   "outputs": [
    {
     "name": "stdout",
     "output_type": "stream",
     "text": [
      "enter first interval:2\n",
      "enter last interval:10\n",
      "prime number are: 3\n",
      "normal number are: 4\n",
      "prime number are: 4\n",
      "prime number are: 5\n",
      "prime number are: 5\n",
      "prime number are: 5\n",
      "normal number are: 6\n",
      "normal number are: 6\n",
      "prime number are: 6\n",
      "prime number are: 6\n",
      "prime number are: 7\n",
      "prime number are: 7\n",
      "prime number are: 7\n",
      "prime number are: 7\n",
      "prime number are: 7\n",
      "normal number are: 8\n",
      "prime number are: 8\n",
      "normal number are: 8\n",
      "prime number are: 8\n",
      "prime number are: 8\n",
      "prime number are: 8\n",
      "prime number are: 9\n",
      "normal number are: 9\n",
      "prime number are: 9\n",
      "prime number are: 9\n",
      "prime number are: 9\n",
      "prime number are: 9\n",
      "prime number are: 9\n",
      "normal number are: 10\n",
      "prime number are: 10\n",
      "prime number are: 10\n",
      "normal number are: 10\n",
      "prime number are: 10\n",
      "prime number are: 10\n",
      "prime number are: 10\n",
      "prime number are: 10\n"
     ]
    }
   ],
   "source": [
    "#prime composit\n",
    "x=int(input(\"enter first interval:\"))\n",
    "y=int(input(\"enter last interval:\"))\n",
    "for num in range(x,y+1):\n",
    "    for i in range(2,num):\n",
    "        if num%i!=0:\n",
    "            print(\"prime number are:\",num)\n",
    "            continue\n",
    "        elif num%i==0:\n",
    "            print(\"normal number are:\",num)\n"
   ]
  },
  {
   "cell_type": "code",
   "execution_count": 19,
   "metadata": {},
   "outputs": [
    {
     "name": "stdout",
     "output_type": "stream",
     "text": [
      "enter your password ?bibek\n"
     ]
    }
   ],
   "source": [
    "import re\n",
    "x=input(\"enter your password ?\")\n",
    "while True:\n",
    "    if (len(x)<6 or len(x)>20):\n",
    "        break\n",
    "    elif  not re.search(\"[a-z]\",x):\n",
    "        break\n",
    "    elif not re.search(\"[0-9]\",x):\n",
    "        break\n",
    "    elif not re.search(\"[A-Z]\",x):\n",
    "        break\n",
    "    elif not re.search(\"[$#@%]\",x):\n",
    "        break\n",
    "    elif not re.search(\"\\s\",x):\n",
    "        break\n",
    "    else:\n",
    "        print(\"valid password:\")\n",
    "        break\n",
    "if False:\n",
    "    print(\"not valid password:\")\n",
    "\n",
    "\n",
    "\n"
   ]
  },
  {
   "cell_type": "code",
   "execution_count": 4,
   "metadata": {},
   "outputs": [
    {
     "name": "stdout",
     "output_type": "stream",
     "text": [
      "enter the value of x:6\n",
      "factorial is 720\n"
     ]
    }
   ],
   "source": [
    "#factorial using while loop.\n",
    "x=int(input(\"enter the value of x:\"))\n",
    "fact=1\n",
    "while x>0:\n",
    "    fact=fact*x\n",
    "    x-=1#x=x-1\n",
    "print(\"factorial is\",fact)"
   ]
  },
  {
   "cell_type": "code",
   "execution_count": 6,
   "metadata": {},
   "outputs": [],
   "source": [
    "#pass condition \n",
    "\n",
    "def uses():\n",
    "    pass#it is used for future coding purpose and it will contain any memory location.\n",
    "uses()\n",
    "\n",
    "\n"
   ]
  },
  {
   "cell_type": "code",
   "execution_count": 2,
   "metadata": {},
   "outputs": [
    {
     "name": "stdout",
     "output_type": "stream",
     "text": [
      "enter the value of x:5\n",
      "5\n",
      "10\n",
      "15\n",
      "20\n",
      "25\n",
      "30\n",
      "35\n",
      "40\n",
      "45\n",
      "50\n"
     ]
    }
   ],
   "source": [
    "x=int(input(\"enter the value of x:\"))\n",
    "i=1\n",
    "while i<51:\n",
    "    i+=1\n",
    "    if i%x!=0:\n",
    "        continue\n",
    "    print(i)\n",
    "\n"
   ]
  },
  {
   "cell_type": "code",
   "execution_count": null,
   "metadata": {},
   "outputs": [],
   "source": []
  }
 ],
 "metadata": {
  "kernelspec": {
   "display_name": "Python 3",
   "language": "python",
   "name": "python3"
  },
  "language_info": {
   "codemirror_mode": {
    "name": "ipython",
    "version": 3
   },
   "file_extension": ".py",
   "mimetype": "text/x-python",
   "name": "python",
   "nbconvert_exporter": "python",
   "pygments_lexer": "ipython3",
   "version": "3.8.3"
  }
 },
 "nbformat": 4,
 "nbformat_minor": 4
}
