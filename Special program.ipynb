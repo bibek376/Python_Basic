{
 "cells": [
  {
   "cell_type": "code",
   "execution_count": 8,
   "metadata": {},
   "outputs": [
    {
     "name": "stdout",
     "output_type": "stream",
     "text": [
      "enter the number123\n",
      "123 is not a armstrong number:\n"
     ]
    }
   ],
   "source": [
    "#program to check the weather the given number is armstrong or not.\n",
    "x=int(input(\"enter the number\"))\n",
    "n=len(str(x))\n",
    "temp=x\n",
    "sum=0\n",
    "while temp>0:\n",
    "    digit=temp%10\n",
    "    sum=sum+digit**n\n",
    "    temp=temp//10\n",
    "if x==sum:\n",
    "    print(f\"{x} is armstrong number:\")\n",
    "else:\n",
    "    print(f\"{x} is not a armstrong number:\")"
   ]
  },
  {
   "cell_type": "code",
   "execution_count": 19,
   "metadata": {},
   "outputs": [
    {
     "name": "stdout",
     "output_type": "stream",
     "text": [
      "enter the first interval:1\n",
      "enter the second interval:500\n",
      "armstrong number series are:\n",
      "[1, 2, 3, 4, 5, 6, 7, 8, 9, 153, 370, 371, 407]\n"
     ]
    }
   ],
   "source": [
    "#armstrong number in given range.\n",
    "x=int(input(\"enter the first interval:\"))\n",
    "y=int(input(\"enter the second interval:\"))\n",
    "a=[]\n",
    "for i in range(x,y+1):\n",
    "    n=len(str(i))\n",
    "    temp=i\n",
    "    sum=0\n",
    "    while temp>0:\n",
    "        digit=temp%10\n",
    "        sum=sum+digit**n\n",
    "        temp=temp//10\n",
    "    if i==sum:\n",
    "        a.append(i)\n",
    "print(\"armstrong number series are:\")\n",
    "print(a)"
   ]
  },
  {
   "cell_type": "code",
   "execution_count": null,
   "metadata": {},
   "outputs": [],
   "source": []
  }
 ],
 "metadata": {
  "kernelspec": {
   "display_name": "Python 3",
   "language": "python",
   "name": "python3"
  },
  "language_info": {
   "codemirror_mode": {
    "name": "ipython",
    "version": 3
   },
   "file_extension": ".py",
   "mimetype": "text/x-python",
   "name": "python",
   "nbconvert_exporter": "python",
   "pygments_lexer": "ipython3",
   "version": "3.8.3"
  }
 },
 "nbformat": 4,
 "nbformat_minor": 4
}
