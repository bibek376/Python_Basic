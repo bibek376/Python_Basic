{
 "cells": [
  {
   "cell_type": "code",
   "execution_count": 2,
   "metadata": {},
   "outputs": [
    {
     "name": "stdout",
     "output_type": "stream",
     "text": [
      "enter the numbers ?\n",
      "5,1,1,1,1,1\n",
      "enter which element you want to search ?\n",
      "1\n",
      "1 2 3 4 5 "
     ]
    }
   ],
   "source": [
    "#to calculate the occurance of a elements\n",
    "list1=[eval(e) for e in input(\"enter the numbers ?\\n\").split(',')]\n",
    "x=int(input(\"enter which element you want to search ?\\n\"))\n",
    "index=0\n",
    "while len(list1)>index:\n",
    "    if list1[index]==x:\n",
    "        print(index,end=' ')\n",
    "    index+=1\n",
    "    "
   ]
  },
  {
   "cell_type": "code",
   "execution_count": 4,
   "metadata": {},
   "outputs": [
    {
     "name": "stdout",
     "output_type": "stream",
     "text": [
      "how many times you want to print ?\n",
      "2\n",
      "enter your name ?\n",
      "aa\n",
      "enter your phone number ?\n",
      "11\n",
      "enter your name ?\n",
      "bb\n",
      "enter your phone number ?\n",
      "22\n",
      "bb   22\n",
      "aa   11\n",
      "\n"
     ]
    }
   ],
   "source": [
    "num=int(input(\"how many times you want to print ?\\n\"))\n",
    "string=\"\"\n",
    "for i in range(num):\n",
    "    name=input(\"enter your name ?\\n\")\n",
    "    phone_number=int(input(\"enter your phone number ?\\n\"))\n",
    "    x=f\"{name}   {phone_number}\\n\"#use of string formating\n",
    "    string=x+string\n",
    "print(string)"
   ]
  },
  {
   "cell_type": "code",
   "execution_count": 8,
   "metadata": {},
   "outputs": [
    {
     "name": "stdout",
     "output_type": "stream",
     "text": [
      "1\n",
      "2\n",
      "fizz\n",
      "4\n",
      "bizz\n",
      "fizz\n",
      "7\n",
      "8\n",
      "fizz\n",
      "bizz\n",
      "11\n",
      "fizz\n",
      "13\n",
      "14\n",
      "fizzbuzz\n",
      "16\n",
      "17\n",
      "fizz\n",
      "19\n",
      "bizz\n",
      "fizz\n",
      "22\n",
      "23\n",
      "fizz\n",
      "bizz\n",
      "26\n",
      "fizz\n",
      "28\n",
      "29\n",
      "fizzbuzz\n",
      "31\n",
      "32\n",
      "fizz\n",
      "34\n",
      "bizz\n",
      "fizz\n",
      "37\n",
      "38\n",
      "fizz\n",
      "bizz\n",
      "41\n",
      "fizz\n",
      "43\n",
      "44\n",
      "fizzbuzz\n",
      "46\n",
      "47\n",
      "fizz\n",
      "49\n",
      "bizz\n"
     ]
    }
   ],
   "source": [
    "#Write a Python program which iterates the integers from 1 to 50.\n",
    "#For multiples of three print \"Fizz\" instead of the number and for the multiples of five print \"Buzz\".\n",
    "#For numbers which are multiples of both three and five print \"FizzBuzz\".\n",
    "\n",
    "for num in range(1,51):\n",
    "    if num%3==0 and num%5==0:\n",
    "        print(\"fizzbuzz\")\n",
    "        continue\n",
    "    elif num%3==0:\n",
    "        print(\"fizz\")\n",
    "        continue\n",
    "    elif num%5==0:\n",
    "        print(\"bizz\")\n",
    "        continue\n",
    "    print(num)\n",
    "\n"
   ]
  },
  {
   "cell_type": "code",
   "execution_count": 11,
   "metadata": {},
   "outputs": [
    {
     "name": "stdout",
     "output_type": "stream",
     "text": [
      "how many times?\n",
      "2\n",
      "enter any:\n",
      "qq\n",
      "QQ\n",
      "enter any:\n",
      "xx\n",
      "XX\n"
     ]
    }
   ],
   "source": [
    "num=int(input(\"how many times?\\n\"))\n",
    "for x in range(num):\n",
    "    string=input(\"enter any:\\n\")\n",
    "    print(string.upper())\n",
    "\n",
    "\n"
   ]
  },
  {
   "cell_type": "code",
   "execution_count": 5,
   "metadata": {},
   "outputs": [
    {
     "name": "stdout",
     "output_type": "stream",
     "text": [
      "enter value.\n",
      "2,5,10,30,9\n",
      "5\n",
      "10\n",
      "30\n"
     ]
    }
   ],
   "source": [
    "x=[eval(e) for e in input(\"enter value.\\n\").split(',')]\n",
    "for num in x:\n",
    "    if num%5==0:\n",
    "        print(num)\n",
    "        \n",
    "\n",
    "\n"
   ]
  },
  {
   "cell_type": "code",
   "execution_count": 19,
   "metadata": {},
   "outputs": [
    {
     "name": "stdout",
     "output_type": "stream",
     "text": [
      "enter any string:\n",
      "python 3.2\n",
      "number of digit: 2\n",
      "number of letter: 6\n"
     ]
    }
   ],
   "source": [
    "#program for count a letters and digit\n",
    "x=input(\"enter any string:\\n\")\n",
    "count1=0\n",
    "count2=0\n",
    "for y in x:\n",
    "    if y.isdigit():#function for calculating a digit\n",
    "        count1+=1\n",
    "    elif y.isalpha():#function for calculating a letters\n",
    "        count2+=1\n",
    "print(\"number of digit:\",count1)\n",
    "print(\"number of letter:\",count2)\n"
   ]
  },
  {
   "cell_type": "code",
   "execution_count": null,
   "metadata": {},
   "outputs": [],
   "source": []
  }
 ],
 "metadata": {
  "kernelspec": {
   "display_name": "Python 3",
   "language": "python",
   "name": "python3"
  },
  "language_info": {
   "codemirror_mode": {
    "name": "ipython",
    "version": 3
   },
   "file_extension": ".py",
   "mimetype": "text/x-python",
   "name": "python",
   "nbconvert_exporter": "python",
   "pygments_lexer": "ipython3",
   "version": "3.8.3"
  }
 },
 "nbformat": 4,
 "nbformat_minor": 4
}
