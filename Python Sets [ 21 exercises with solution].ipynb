{
 "cells": [
  {
   "cell_type": "code",
   "execution_count": 4,
   "metadata": {},
   "outputs": [
    {
     "name": "stdout",
     "output_type": "stream",
     "text": [
      "<class 'set'>\n"
     ]
    }
   ],
   "source": [
    "#Write a Python program to create a set.\n",
    "a={1,2,3}\n",
    "print(type(a))"
   ]
  },
  {
   "cell_type": "code",
   "execution_count": 14,
   "metadata": {},
   "outputs": [
    {
     "name": "stdout",
     "output_type": "stream",
     "text": [
      "8\n",
      "2\n",
      "4\n",
      "6\n"
     ]
    }
   ],
   "source": [
    "#Write a Python program to iterate over sets.\n",
    "a={2,6,8,4}\n",
    "for i in a:\n",
    "    print(i)"
   ]
  },
  {
   "cell_type": "code",
   "execution_count": 12,
   "metadata": {},
   "outputs": [
    {
     "name": "stdout",
     "output_type": "stream",
     "text": [
      "{2, 4, 6, 7, 8}\n"
     ]
    }
   ],
   "source": [
    "#Write a Python program to add member(s) in a set\n",
    "a={2,6,8,4}\n",
    "x=list(a)\n",
    "x.append(7)\n",
    "print(set(x))"
   ]
  },
  {
   "cell_type": "code",
   "execution_count": 17,
   "metadata": {},
   "outputs": [
    {
     "name": "stdout",
     "output_type": "stream",
     "text": [
      "{2, 4, 6, 8, '5', 55}\n"
     ]
    }
   ],
   "source": [
    "#Write a Python program to add member(s) in a set\n",
    "a={2,6,8,4}\n",
    "a.update(\"5\")\n",
    "a.add(55)\n",
    "print(a)"
   ]
  },
  {
   "cell_type": "code",
   "execution_count": 30,
   "metadata": {},
   "outputs": [
    {
     "name": "stdout",
     "output_type": "stream",
     "text": [
      "{3, 6}\n"
     ]
    }
   ],
   "source": [
    "#Write a Python program to remove item(s) from set\n",
    "a={3,6,8}\n",
    "a.pop()\n",
    "print(a)"
   ]
  },
  {
   "cell_type": "code",
   "execution_count": 31,
   "metadata": {},
   "outputs": [
    {
     "name": "stdout",
     "output_type": "stream",
     "text": [
      "{9, 3, 6}\n"
     ]
    }
   ],
   "source": [
    "#Write a Python program to remove an item from a set if it is present in the set.\n",
    "a={5,9,3,5,6}\n",
    "a.discard(5)\n",
    "print(a)"
   ]
  },
  {
   "cell_type": "code",
   "execution_count": 37,
   "metadata": {},
   "outputs": [
    {
     "name": "stdout",
     "output_type": "stream",
     "text": [
      "{1, 2, 67, 3, 5, 6, 8, 9}\n",
      "{1, 2, 3, 4, 5, 6, 67, 8, 9, 34, 43}\n",
      "{43, 4}\n"
     ]
    }
   ],
   "source": [
    "# Write a Python program to create an intersection,union and difference of sets.\n",
    "a=[6,3,8,6,9,2,4,5,67,2,43,6,1]\n",
    "b=[2,6,8,9,3,6,8,67,34,5,6,1,2]\n",
    "x=set(a).intersection(set(b))\n",
    "y=set(a).union(set(b))\n",
    "z=set(a).difference(set(b))\n",
    "print(x)\n",
    "print(y)\n",
    "print(z)"
   ]
  },
  {
   "cell_type": "code",
   "execution_count": 39,
   "metadata": {},
   "outputs": [
    {
     "name": "stdout",
     "output_type": "stream",
     "text": [
      "{1, 2, 3, 5, 7, 8}\n"
     ]
    }
   ],
   "source": [
    "#Write a Python program to create a symmetric difference.\n",
    "a={3,5,7,4}\n",
    "b={1,4,8,2}\n",
    "print(a.symmetric_difference(b))"
   ]
  },
  {
   "cell_type": "code",
   "execution_count": 50,
   "metadata": {},
   "outputs": [
    {
     "data": {
      "text/plain": [
       "True"
      ]
     },
     "execution_count": 50,
     "metadata": {},
     "output_type": "execute_result"
    }
   ],
   "source": [
    "#Write a Python program to check if a set is a subset of another set.\n",
    "a={3,5,7,4}\n",
    "b={3,5,4}\n",
    "b.issubset(a)"
   ]
  },
  {
   "cell_type": "code",
   "execution_count": 51,
   "metadata": {},
   "outputs": [
    {
     "name": "stdout",
     "output_type": "stream",
     "text": [
      "{1, 3, 5, 7}\n"
     ]
    }
   ],
   "source": [
    "#Write a Python program to create a shallow copy of sets.\n",
    "a={1,3,5,7}\n",
    "b=a.copy()\n",
    "print(b)"
   ]
  },
  {
   "cell_type": "code",
   "execution_count": 53,
   "metadata": {},
   "outputs": [
    {
     "name": "stdout",
     "output_type": "stream",
     "text": [
      "set()\n"
     ]
    }
   ],
   "source": [
    "#Write a Python program to clear a set. \n",
    "a={3,6,8}\n",
    "a.clear()\n",
    "print(a)"
   ]
  },
  {
   "cell_type": "code",
   "execution_count": 1,
   "metadata": {},
   "outputs": [
    {
     "data": {
      "text/plain": [
       "frozenset({3, 4, 5, 6, 8})"
      ]
     },
     "execution_count": 1,
     "metadata": {},
     "output_type": "execute_result"
    }
   ],
   "source": [
    "#Write a Python program to use of frozensets. \n",
    "x=frozenset([3,6,8])\n",
    "y=frozenset([4,5,6])\n",
    "x.union(y)"
   ]
  },
  {
   "cell_type": "code",
   "execution_count": 3,
   "metadata": {},
   "outputs": [
    {
     "name": "stdout",
     "output_type": "stream",
     "text": [
      "23\n",
      "1\n"
     ]
    }
   ],
   "source": [
    "#Write a Python program to find maximum and the minimum value in a set.\n",
    "x={5,8,9,23,4,6,1}\n",
    "print(max(x))\n",
    "print(min(x))\n"
   ]
  },
  {
   "cell_type": "code",
   "execution_count": 21,
   "metadata": {},
   "outputs": [
    {
     "name": "stdout",
     "output_type": "stream",
     "text": [
      "enter what you want to search?4\n",
      "yes:\n"
     ]
    }
   ],
   "source": [
    "# Write a Python program to check if a given value is present in a set or not. \n",
    "x={5,8,9,2,4,5,6,7}\n",
    "search=int(input(\"enter what you want to search?\"))\n",
    "for i in x:\n",
    "    if search==i:\n",
    "        print(\"yes:\")\n",
    "        break\n",
    "else:        \n",
    "    print(\"no\")"
   ]
  },
  {
   "cell_type": "code",
   "execution_count": 24,
   "metadata": {},
   "outputs": [
    {
     "data": {
      "text/plain": [
       "True"
      ]
     },
     "execution_count": 24,
     "metadata": {},
     "output_type": "execute_result"
    }
   ],
   "source": [
    "#Write a Python program to check if two given sets have no elements in common\n",
    "x={4,6,8}\n",
    "y={2,5,9}\n",
    "x.isdisjoint(y)#that means no common intersection value."
   ]
  },
  {
   "cell_type": "code",
   "execution_count": 28,
   "metadata": {},
   "outputs": [
    {
     "data": {
      "text/plain": [
       "True"
      ]
     },
     "execution_count": 28,
     "metadata": {},
     "output_type": "execute_result"
    }
   ],
   "source": [
    "#Write a Python program to check if a given set is superset of itself and superset of another given set.\n",
    "a={3,4,5}\n",
    "b={3,4}\n",
    "a.issuperset(a)"
   ]
  },
  {
   "cell_type": "code",
   "execution_count": null,
   "metadata": {},
   "outputs": [],
   "source": [
    "#Write a Python program to remove the intersection of a 2nd set from the 1st set.\n",
    "\n",
    "\n"
   ]
  }
 ],
 "metadata": {
  "kernelspec": {
   "display_name": "Python 3",
   "language": "python",
   "name": "python3"
  },
  "language_info": {
   "codemirror_mode": {
    "name": "ipython",
    "version": 3
   },
   "file_extension": ".py",
   "mimetype": "text/x-python",
   "name": "python",
   "nbconvert_exporter": "python",
   "pygments_lexer": "ipython3",
   "version": "3.8.3"
  }
 },
 "nbformat": 4,
 "nbformat_minor": 4
}
