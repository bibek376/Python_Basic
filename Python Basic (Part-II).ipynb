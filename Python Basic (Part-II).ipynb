{
 "cells": [
  {
   "cell_type": "code",
   "execution_count": 5,
   "metadata": {},
   "outputs": [
    {
     "name": "stdout",
     "output_type": "stream",
     "text": [
      "enter the list:2.2.2.2.2.22.11.1.1.1.1\n",
      "no\n"
     ]
    }
   ],
   "source": [
    "#Write a Python function that takes a sequence of numbers and determines whether all the numbers are different from each other.\n",
    "def number(x):\n",
    "    if len(x)==len(set(x)):\n",
    "        print(\"yes:\")\n",
    "    else:\n",
    "        print(\"no\")\n",
    "number([int(y) for y in input(\"enter the list:\").split(\".\")])"
   ]
  },
  {
   "cell_type": "code",
   "execution_count": 9,
   "metadata": {},
   "outputs": [
    {
     "name": "stdout",
     "output_type": "stream",
     "text": [
      "o a e i u\n"
     ]
    }
   ],
   "source": [
    "#Write a Python program to create all possible strings by using 'a', 'e', 'i', 'o', 'u'. Use the characters exactly once\n",
    "import random\n",
    "list1=['a', 'e', 'i', 'o', 'u']\n",
    "random.shuffle(list1)\n",
    "print(\" \".join(list1))"
   ]
  },
  {
   "cell_type": "code",
   "execution_count": 5,
   "metadata": {},
   "outputs": [
    {
     "name": "stdout",
     "output_type": "stream",
     "text": [
      "[1, 5]\n"
     ]
    }
   ],
   "source": [
    "#rite a Python program to remove and print every third number from a list of numbers until the list becomes empty.\n",
    "x=[1,5,7,3,4,6,9]\n",
    "for i in range(len(x)):\n",
    "    if len(x)>2:\n",
    "        del x[2]\n",
    "print(x)"
   ]
  },
  {
   "cell_type": "code",
   "execution_count": 10,
   "metadata": {},
   "outputs": [
    {
     "name": "stdout",
     "output_type": "stream",
     "text": [
      "triplate found [3, 0, -3]\n",
      "triplate found [-4, 2, 2]\n"
     ]
    }
   ],
   "source": [
    "#Write a Python program to find unique triplets whose three elements gives the sum of zero from an array of n integers.\n",
    "x=[3,0,-3,-4,2,2]\n",
    "condition=True\n",
    "for i in range(0,len(x)-2):\n",
    "    for j in range(i+1,len(x)-1):\n",
    "        for k in range(j+1,len(x)):\n",
    "            if(x[i]+x[j]+x[k]==0):\n",
    "                print(\"triplate found\",[x[i],x[j],x[k]])\n",
    "                condition=True\n",
    "                \n",
    "if condition==False:\n",
    "    print(\"triplate not found\")"
   ]
  },
  {
   "cell_type": "code",
   "execution_count": 17,
   "metadata": {},
   "outputs": [
    {
     "name": "stdout",
     "output_type": "stream",
     "text": [
      "hello\n"
     ]
    }
   ],
   "source": [
    "print(\"hello\")"
   ]
  },
  {
   "cell_type": "code",
   "execution_count": 22,
   "metadata": {},
   "outputs": [
    {
     "name": "stdout",
     "output_type": "stream",
     "text": [
      "target found found [3, 2, 5]\n",
      "target found found [3, 3, 4]\n",
      "target found found [2, 5, 3]\n",
      "target found found [5, 1, 4]\n"
     ]
    }
   ],
   "source": [
    "#Write a Python program to check the sum of three elements (each from an array) from three arrays is equal to a target value.\n",
    "#Print all those three-element combinations.\n",
    "x=[3,2,5,1,3,4]\n",
    "target=10\n",
    "condition=True\n",
    "for i in range(0,len(x)-2):\n",
    "    for j in range(i+1,len(x)-1):\n",
    "        for k in range(j+1,len(x)):\n",
    "            if(x[i]+x[j]+x[k]==target):\n",
    "                print(\"target found found\",[x[i],x[j],x[k]])\n",
    "                condition=True\n",
    "if condition==False:\n",
    "    print(\"triplate not found\")"
   ]
  },
  {
   "cell_type": "code",
   "execution_count": 5,
   "metadata": {},
   "outputs": [
    {
     "name": "stdout",
     "output_type": "stream",
     "text": [
      "enter the first number:1\n",
      "enter the second number:2\n",
      "enter the third number:3\n",
      "[1, 2, 3]\n",
      "[1, 3, 2]\n",
      "[2, 1, 3]\n",
      "[2, 3, 1]\n",
      "[3, 1, 2]\n",
      "[3, 2, 1]\n"
     ]
    }
   ],
   "source": [
    "#Write a Python program to create all possible permutations from a given collection of distinct numbers.\n",
    "x=int(input(\"enter the first number:\"))\n",
    "y=int(input(\"enter the second number:\"))\n",
    "z=int(input(\"enter the third number:\"))\n",
    "list1=[]\n",
    "list1.append(x)\n",
    "list1.append(y)\n",
    "list1.append(z)\n",
    "for i in range(len(list1)):\n",
    "    for j in range(len(list1)):\n",
    "        for k in range(len(list1)):\n",
    "            if (i!=j) & (j!=k) & (k!=i):\n",
    "                print([list1[i],list1[j],list1[k]])"
   ]
  },
  {
   "cell_type": "code",
   "execution_count": 20,
   "metadata": {},
   "outputs": [
    {
     "name": "stdout",
     "output_type": "stream",
     "text": [
      "enter the first number:3\n",
      "enter the second number:2\n",
      "enter the third number:4\n",
      "median is 3\n"
     ]
    }
   ],
   "source": [
    "#Write a Python program to find the median among three given numbers. \n",
    "x=int(input(\"enter the first number:\"))\n",
    "y=int(input(\"enter the second number:\"))\n",
    "z=int(input(\"enter the third number:\"))\n",
    "if x>y and x<z:\n",
    "    print(\"median is\",x)\n",
    "elif x>z and x<y:\n",
    "    pritn(\"median is:\",x)\n",
    "elif y>x and y<z:\n",
    "    print(\"median is\",y)\n",
    "elif y>z and y<x:\n",
    "    print(\"median is:\",y)\n",
    "elif z>x and z<y:\n",
    "    print(\"median is\",z)\n",
    "elif z>y and z<x:\n",
    "    print(\"median i s:\",z)\n"
   ]
  },
  {
   "cell_type": "code",
   "execution_count": 27,
   "metadata": {},
   "outputs": [
    {
     "name": "stdout",
     "output_type": "stream",
     "text": [
      "enter the number12\n",
      "479001600\n",
      "4\n"
     ]
    }
   ],
   "source": [
    "#Write a Python program to find the number of zeros at the end of a factorial of a given positive number.\n",
    "x=int(input(\"enter the number\"))\n",
    "fact=1\n",
    "for i in range(1,x+1):\n",
    "    fact*=i\n",
    "print(fact)\n",
    "print(str(fact).count(\"0\"))"
   ]
  },
  {
   "cell_type": "code",
   "execution_count": 45,
   "metadata": {},
   "outputs": [
    {
     "name": "stdout",
     "output_type": "stream",
     "text": [
      "enter the number:12\n",
      "[1, 2, 3, 4, 6, 12]\n",
      "even:\n"
     ]
    }
   ],
   "source": [
    "#Write a Python program to find the number of divisors of a given integer is even or odd. \n",
    "num=int(input(\"enter the number:\"))\n",
    "a=[]\n",
    "for i in range(1,num+1):\n",
    "    if num%i==0:\n",
    "        a.append(i)\n",
    "print(a)\n",
    "x=len(a)\n",
    "if x%2==0:\n",
    "    print(\"even:\")\n",
    "else:\n",
    "    print(\"odd\")"
   ]
  },
  {
   "cell_type": "code",
   "execution_count": 66,
   "metadata": {},
   "outputs": [
    {
     "name": "stdout",
     "output_type": "stream",
     "text": [
      "{0, 5, 6, 7}\n"
     ]
    }
   ],
   "source": [
    "#Write a Python program to find the digits which are absent in a given mobile number.\n",
    "num={2,2,2,1,1,3,4,2,1,1,1,8,9}#mobile number\n",
    "total={0,1,2,3,4,5,6,7,8,9}#all digit\n",
    "print(total.difference(num))"
   ]
  },
  {
   "cell_type": "code",
   "execution_count": 12,
   "metadata": {},
   "outputs": [
    {
     "name": "stdout",
     "output_type": "stream",
     "text": [
      "enter the first number:24\n",
      "enter the second number:54\n",
      "gcd is 6\n"
     ]
    }
   ],
   "source": [
    "#Write a Python program to find common divisors between two numbers in a given pair.\n",
    "x=int(input(\"enter the first number:\"))\n",
    "y=int(input(\"enter the second number:\"))\n",
    "if x>y:\n",
    "    min=y\n",
    "elif x<y:\n",
    "    min=x\n",
    "for i in range(1,min+1):\n",
    "    if x%i==0 and y%i==0:\n",
    "        gcd=i\n",
    "print(\"gcd is\",gcd)"
   ]
  },
  {
   "cell_type": "code",
   "execution_count": 18,
   "metadata": {},
   "outputs": [
    {
     "name": "stdout",
     "output_type": "stream",
     "text": [
      "enter the 8 number:9.11.34.22.112.77.45.5\n",
      "top 3 max. height are:\n",
      "[45, 77, 112]\n"
     ]
    }
   ],
   "source": [
    "#Write a python program to find heights of the top three building in descending order from eight given buildings\n",
    "list1=[int(x) for x in input(\"enter the 8 number:\").split(\".\")]\n",
    "list1.sort()\n",
    "print(\"top 3 max. height are:\")\n",
    "print(list1[-3:])"
   ]
  },
  {
   "cell_type": "code",
   "execution_count": 39,
   "metadata": {},
   "outputs": [
    {
     "name": "stdout",
     "output_type": "stream",
     "text": [
      "enter the number:9\n",
      "normal number:\n"
     ]
    }
   ],
   "source": [
    "#Write a Python program to compute the sum of first n given prime numbers.\n",
    "x=int(input(\"enter the number:\"))\n",
    "for i in range(2,x):\n",
    "    if x%i==0:\n",
    "        print(\"normal number:\")\n",
    "        break\n",
    "else:\n",
    "    print(\"prime number:\")"
   ]
  },
  {
   "cell_type": "code",
   "execution_count": 41,
   "metadata": {},
   "outputs": [
    {
     "name": "stdout",
     "output_type": "stream",
     "text": [
      "Enter lower range: 2\n",
      "Enter upper range: 20\n",
      "2\n",
      "3\n",
      "5\n",
      "7\n",
      "11\n",
      "13\n",
      "17\n",
      "19\n"
     ]
    }
   ],
   "source": [
    "#Write a Python program to compute the sum of first n given prime numbers.\n",
    "lower = int(input(\"Enter lower range: \"))  \n",
    "upper = int(input(\"Enter upper range: \"))   \n",
    "for num in range(lower,upper + 1):  \n",
    "   if num > 1:  \n",
    "       for i in range(2,num):  \n",
    "           if (num % i) == 0:  \n",
    "               break  \n",
    "       else:  \n",
    "           print(num)  "
   ]
  },
  {
   "cell_type": "code",
   "execution_count": 55,
   "metadata": {},
   "outputs": [
    {
     "name": "stdout",
     "output_type": "stream",
     "text": [
      "Enter upper range: 100\n",
      "[2, 3, 5, 7, 11, 13, 17, 19, 23, 29, 31, 37, 41, 43, 47, 53, 59, 61, 67, 71, 73, 79, 83, 89, 97]\n",
      "129\n"
     ]
    }
   ],
   "source": [
    "#Write a Python program to compute the sum of first n given prime numbers.\n",
    "n=10\n",
    "a=[]\n",
    "lower = 2  \n",
    "upper = int(input(\"Enter upper range: \"))   \n",
    "for num in range(2,upper + 1):  \n",
    "   if num > 1:  \n",
    "       for i in range(2,num):  \n",
    "           if (num % i) == 0:  \n",
    "               break  \n",
    "       else:\n",
    "            a.append(num)\n",
    "print(a)\n",
    "print(sum(a[:n]))"
   ]
  },
  {
   "cell_type": "code",
   "execution_count": null,
   "metadata": {},
   "outputs": [],
   "source": []
  }
 ],
 "metadata": {
  "kernelspec": {
   "display_name": "Python 3",
   "language": "python",
   "name": "python3"
  },
  "language_info": {
   "codemirror_mode": {
    "name": "ipython",
    "version": 3
   },
   "file_extension": ".py",
   "mimetype": "text/x-python",
   "name": "python",
   "nbconvert_exporter": "python",
   "pygments_lexer": "ipython3",
   "version": "3.8.3"
  }
 },
 "nbformat": 4,
 "nbformat_minor": 4
}
