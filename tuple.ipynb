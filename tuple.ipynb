{
 "cells": [
  {
   "cell_type": "code",
   "execution_count": 1,
   "metadata": {},
   "outputs": [
    {
     "name": "stdout",
     "output_type": "stream",
     "text": [
      "(1, 2, 3, 4)\n",
      "(3, 4)\n",
      "4\n"
     ]
    }
   ],
   "source": [
    "a=(1,2,3,4)\n",
    "print(a)\n",
    "print(a[2:4])\n",
    "print(len(a))\n"
   ]
  },
  {
   "cell_type": "code",
   "execution_count": 1,
   "metadata": {},
   "outputs": [
    {
     "name": "stdout",
     "output_type": "stream",
     "text": [
      "(1, 2, 3, 4, 1, 2, 3)\n"
     ]
    }
   ],
   "source": [
    "a=(1,2,3,4)\n",
    "b=(1,2,3)\n",
    "print(a+b)#adding two tuple"
   ]
  },
  {
   "cell_type": "code",
   "execution_count": 13,
   "metadata": {},
   "outputs": [
    {
     "name": "stdout",
     "output_type": "stream",
     "text": [
      "how many times ?\n",
      "2\n",
      "enter name:\n",
      "cat\n",
      "enter name:\n",
      "dog\n",
      "('cat', 'dog')\n"
     ]
    }
   ],
   "source": [
    "tuple1=()\n",
    "x=int(input(\"how many times ?\\n\"))\n",
    "for i in range(x):\n",
    "      name=input(\"enter name:\\n\")\n",
    "      tuple1=tuple1+(name,)\n",
    "print(tuple1)\n",
    "      "
   ]
  },
  {
   "cell_type": "code",
   "execution_count": 16,
   "metadata": {},
   "outputs": [
    {
     "name": "stdout",
     "output_type": "stream",
     "text": [
      "(11,)\n"
     ]
    }
   ],
   "source": [
    "x=(1,2,3)\n",
    "y=(11,)\n",
    "x=x[1:0]\n",
    "print(y+x)\n",
    "#error"
   ]
  },
  {
   "cell_type": "code",
   "execution_count": 17,
   "metadata": {},
   "outputs": [
    {
     "ename": "AttributeError",
     "evalue": "'tuple' object has no attribute 'sort'",
     "output_type": "error",
     "traceback": [
      "\u001b[1;31m---------------------------------------------------------------------------\u001b[0m",
      "\u001b[1;31mAttributeError\u001b[0m                            Traceback (most recent call last)",
      "\u001b[1;32m<ipython-input-17-8455ca7fea7d>\u001b[0m in \u001b[0;36m<module>\u001b[1;34m\u001b[0m\n\u001b[0;32m      1\u001b[0m \u001b[0ma\u001b[0m\u001b[1;33m=\u001b[0m\u001b[1;33m(\u001b[0m\u001b[1;36m11\u001b[0m\u001b[1;33m,\u001b[0m\u001b[1;36m20\u001b[0m\u001b[1;33m,\u001b[0m\u001b[1;36m3\u001b[0m\u001b[1;33m,\u001b[0m\u001b[1;36m4\u001b[0m\u001b[1;33m)\u001b[0m\u001b[1;33m\u001b[0m\u001b[1;33m\u001b[0m\u001b[0m\n\u001b[1;32m----> 2\u001b[1;33m \u001b[0ma\u001b[0m\u001b[1;33m.\u001b[0m\u001b[0msort\u001b[0m\u001b[1;33m(\u001b[0m\u001b[0ma\u001b[0m\u001b[1;33m)\u001b[0m\u001b[1;33m\u001b[0m\u001b[1;33m\u001b[0m\u001b[0m\n\u001b[0m\u001b[0;32m      3\u001b[0m \u001b[0mprint\u001b[0m\u001b[1;33m(\u001b[0m\u001b[0ma\u001b[0m\u001b[1;33m)\u001b[0m\u001b[1;33m\u001b[0m\u001b[1;33m\u001b[0m\u001b[0m\n\u001b[0;32m      4\u001b[0m \u001b[1;33m\u001b[0m\u001b[0m\n\u001b[0;32m      5\u001b[0m \u001b[1;33m\u001b[0m\u001b[0m\n",
      "\u001b[1;31mAttributeError\u001b[0m: 'tuple' object has no attribute 'sort'"
     ]
    }
   ],
   "source": [
    "a=(11,20,3,4)\n",
    "a.sort(a)#it will print error because tuple is not mutable data type.\n",
    "print(a)"
   ]
  },
  {
   "cell_type": "code",
   "execution_count": 19,
   "metadata": {},
   "outputs": [
    {
     "name": "stdout",
     "output_type": "stream",
     "text": [
      "[3, 4, 11, 20]\n"
     ]
    }
   ],
   "source": [
    "a=(11,20,3,4)\n",
    "print(sorted(a))#it will print sorted value temporary but actual value cant change. "
   ]
  },
  {
   "cell_type": "code",
   "execution_count": 22,
   "metadata": {},
   "outputs": [
    {
     "name": "stdout",
     "output_type": "stream",
     "text": [
      "enter what you want to search ?\n",
      "11\n",
      "yes 4\n"
     ]
    }
   ],
   "source": [
    "#program to searcch the element in a tuple and counting the frequency.\n",
    "a=(11,20,3,4,11,11,11)\n",
    "x=int(input(\"enter what you want to search ?\\n\"))\n",
    "if  x in a:\n",
    "    print(\"yes\",a.count(x))\n",
    "else:\n",
    "    print(\"no\")   "
   ]
  },
  {
   "cell_type": "code",
   "execution_count": 23,
   "metadata": {},
   "outputs": [
    {
     "name": "stdout",
     "output_type": "stream",
     "text": [
      "[11, 20, 3, 4, 11, 11, 11]\n"
     ]
    }
   ],
   "source": [
    "#converting a tuple into list.\n",
    "a=(11,20,3,4,11,11,11)\n",
    "list1=list(a)#method of conversion\n",
    "print(list1)"
   ]
  },
  {
   "cell_type": "code",
   "execution_count": 27,
   "metadata": {},
   "outputs": [
    {
     "name": "stdout",
     "output_type": "stream",
     "text": [
      "enter the index  to delete ?\n",
      "4\n",
      "[11, 20, 3, 4, 11, 11]\n",
      "(11, 20, 3, 4, 11, 11)\n"
     ]
    }
   ],
   "source": [
    "#deleting a value in tuple\n",
    "a=(11,20,3,4,11,11,11)\n",
    "list1=list(a)\n",
    "x=int(input(\"enter the index  to delete ?\\n\"))\n",
    "del list1[x]\n",
    "print(list1)\n",
    "tuple1=tuple(list1)\n",
    "print(tuple1)"
   ]
  },
  {
   "cell_type": "code",
   "execution_count": 28,
   "metadata": {},
   "outputs": [
    {
     "name": "stdout",
     "output_type": "stream",
     "text": [
      "3\n",
      "((), (), ())\n",
      "<class 'tuple'>\n"
     ]
    }
   ],
   "source": [
    "#tuple inside tuple or 2-D tuple\n",
    "a=((),(),())\n",
    "print(len(a))\n",
    "print(a)\n",
    "print(type(a))"
   ]
  },
  {
   "cell_type": "code",
   "execution_count": 29,
   "metadata": {},
   "outputs": [
    {
     "name": "stdout",
     "output_type": "stream",
     "text": [
      "2\n"
     ]
    }
   ],
   "source": [
    "a=((1,2,3),(4,5,6),(7,8,9))\n",
    "print(a[0][1])#it will return 2\n"
   ]
  },
  {
   "cell_type": "code",
   "execution_count": 37,
   "metadata": {},
   "outputs": [
    {
     "name": "stdout",
     "output_type": "stream",
     "text": [
      "how many times you want to execute?\n",
      "2\n",
      "enter your name?\n",
      "bibek\n",
      "enter your age?\n",
      "12\n",
      "enter your name?\n",
      "upendra\n",
      "enter your age?\n",
      "23\n",
      "(('bibek', 12), ('upendra', 23))\n"
     ]
    }
   ],
   "source": [
    "tuple1=()\n",
    "n=int(input(\"how many times you want to execute?\\n\"))\n",
    "for num in range(n):\n",
    "    name=input(\"enter your name?\\n\")\n",
    "    age=int(input(\"enter your age?\\n\"))\n",
    "    store=(name,age)\n",
    "    tuple1+=(store,)\n",
    "print(tuple1)"
   ]
  },
  {
   "cell_type": "code",
   "execution_count": 2,
   "metadata": {},
   "outputs": [
    {
     "name": "stdout",
     "output_type": "stream",
     "text": [
      "how many times you want to execute?\n",
      "2\n",
      "enter your name?\n",
      "sd\n",
      "enter your age?\n",
      "23\n",
      "enter your name?\n",
      "ds\n",
      "enter your age?\n",
      "1\n",
      "(('sd', 23), ('ds', 1))\n",
      "[('sd', 23), ('ds', 1)]\n",
      "[('sd', 23), ('ds', 1), ['ram', '23']]\n"
     ]
    }
   ],
   "source": [
    "#adding new value using append function.\n",
    "tuple1=()\n",
    "n=int(input(\"how many times you want to execute?\\n\"))\n",
    "for num in range(n):\n",
    "    name=input(\"enter your name?\\n\")\n",
    "    age=int(input(\"enter your age?\\n\"))\n",
    "    store=(name,age)\n",
    "    tuple1+=(store,)\n",
    "print(tuple1)\n",
    "list1=list(tuple1)\n",
    "print(list1)\n",
    "x=[\"ram\",\"23\"]\n",
    "list1.append(x)\n",
    "print(list1)"
   ]
  },
  {
   "cell_type": "code",
   "execution_count": 2,
   "metadata": {},
   "outputs": [
    {
     "data": {
      "text/plain": [
       "[[1, 'ram'], [2, 'shyam']]"
      ]
     },
     "execution_count": 2,
     "metadata": {},
     "output_type": "execute_result"
    }
   ],
   "source": [
    "b=[]\n",
    "a=((1,'ram'),(2,'shyam'))\n",
    "n=len(a)\n",
    "for i in range(n):\n",
    "    b.append(list(a[i]))\n",
    "b"
   ]
  },
  {
   "cell_type": "code",
   "execution_count": 3,
   "metadata": {},
   "outputs": [
    {
     "name": "stdout",
     "output_type": "stream",
     "text": [
      "3\n",
      "<class 'tuple'>\n"
     ]
    }
   ],
   "source": [
    "#list inside tuple\n",
    "x=([],[],[])\n",
    "print(len(x))\n",
    "print(type(x))"
   ]
  },
  {
   "cell_type": "code",
   "execution_count": 5,
   "metadata": {},
   "outputs": [
    {
     "name": "stdout",
     "output_type": "stream",
     "text": [
      "([1, 2, 3], [4, 5, 6], [7, 8, 9])\n"
     ]
    }
   ],
   "source": [
    "#adding two list inside tuple \n",
    "x=([1,2,3],[4,5,6])\n",
    "y=([7,8,9],)\n",
    "print(x+y)"
   ]
  },
  {
   "cell_type": "code",
   "execution_count": 7,
   "metadata": {},
   "outputs": [
    {
     "name": "stdout",
     "output_type": "stream",
     "text": [
      "([1, 2, 3, 4], [4, 5, 6], [7, 8, 9])\n"
     ]
    }
   ],
   "source": [
    "x=([1,2,3],[4,5,6],[7,8,9])\n",
    "x[0].insert(3,4)\n",
    "print(x)\n"
   ]
  },
  {
   "cell_type": "code",
   "execution_count": 27,
   "metadata": {},
   "outputs": [
    {
     "name": "stdout",
     "output_type": "stream",
     "text": [
      "[(1, 2, 3), (4, 5, 6), (7, 8, 9)]\n",
      "[(1, 22, 3), (4, 5, 6), (7, 8, 9)]\n",
      "((1, 22, 3), (4, 5, 6), (7, 8, 9))\n"
     ]
    }
   ],
   "source": [
    "#replacing a value in  a tuple.\n",
    "x=((1,2,3),(4,5,6),(7,8,9))\n",
    "y=list(x)\n",
    "print(y)\n",
    "y[0]=(1,22,3)#replacing a value\n",
    "print(y)\n",
    "x=tuple(y)#changing x into a tuple\n",
    "print(x)\n"
   ]
  },
  {
   "cell_type": "code",
   "execution_count": 34,
   "metadata": {},
   "outputs": [
    {
     "name": "stdout",
     "output_type": "stream",
     "text": [
      "[(1, 2, 3), (4, 5, 6), (7, 8, 9)]\n",
      "[4, 5, 6]\n",
      "[4, 555, 6]\n",
      "[(1, 2, 3), [4, 555, 6], (7, 8, 9)]\n",
      "((1, 2, 3), [4, 555, 6], (7, 8, 9))\n"
     ]
    }
   ],
   "source": [
    "#replacing a value in  a tuple in another method.\n",
    "x=((1,2,3),(4,5,6),(7,8,9))\n",
    "y=list(x)\n",
    "print(y)\n",
    "z=list(y[1])\n",
    "print(z)\n",
    "z[1]=555\n",
    "print(z)\n",
    "y[1]=z\n",
    "print(y)\n",
    "x=tuple(y)\n",
    "print(x)\n"
   ]
  },
  {
   "cell_type": "code",
   "execution_count": null,
   "metadata": {},
   "outputs": [],
   "source": []
  }
 ],
 "metadata": {
  "kernelspec": {
   "display_name": "Python 3",
   "language": "python",
   "name": "python3"
  },
  "language_info": {
   "codemirror_mode": {
    "name": "ipython",
    "version": 3
   },
   "file_extension": ".py",
   "mimetype": "text/x-python",
   "name": "python",
   "nbconvert_exporter": "python",
   "pygments_lexer": "ipython3",
   "version": "3.8.3"
  }
 },
 "nbformat": 4,
 "nbformat_minor": 4
}
