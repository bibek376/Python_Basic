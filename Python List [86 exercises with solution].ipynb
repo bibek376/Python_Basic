{
 "cells": [
  {
   "cell_type": "code",
   "execution_count": 2,
   "metadata": {},
   "outputs": [
    {
     "name": "stdout",
     "output_type": "stream",
     "text": [
      "enter the list values:4.6.8\n",
      "18\n"
     ]
    }
   ],
   "source": [
    "#Write a Python program to sum all the items in a list.\n",
    "sum=0\n",
    "x=[int(x) for x in input(\"enter the list values:\").split(\".\")]\n",
    "for num in x:\n",
    "    sum=sum+num\n",
    "print(sum)\n"
   ]
  },
  {
   "cell_type": "code",
   "execution_count": 4,
   "metadata": {},
   "outputs": [
    {
     "name": "stdout",
     "output_type": "stream",
     "text": [
      "enter the list values:6.8.2\n",
      "96\n"
     ]
    }
   ],
   "source": [
    "#Write a Python program to multiplies all the items in a list\n",
    "mul=1\n",
    "x=[int(x) for x in input(\"enter the list values:\").split(\".\")]\n",
    "for num in x:\n",
    "    mul*=num\n",
    "print(mul)"
   ]
  },
  {
   "cell_type": "code",
   "execution_count": 23,
   "metadata": {},
   "outputs": [
    {
     "name": "stdout",
     "output_type": "stream",
     "text": [
      "enter the list elements:5.8.9.3.66.-7.45\n",
      "66\n"
     ]
    }
   ],
   "source": [
    "#Write a Python program to get the largest number from a list.\n",
    "x=[int(x) for x in input(\"enter the list elements:\").split(\".\")]\n",
    "#print(max(x))\n",
    "max=x[0]\n",
    "for i in x:\n",
    "    if max<i:\n",
    "        max=i\n",
    "print(max)"
   ]
  },
  {
   "cell_type": "code",
   "execution_count": 25,
   "metadata": {},
   "outputs": [
    {
     "name": "stdout",
     "output_type": "stream",
     "text": [
      "enter the list elements:-9.5.7\n",
      "-9\n"
     ]
    }
   ],
   "source": [
    "#Write a Python program to get the smallest number from a list. \n",
    "x=[int(x) for x in input(\"enter the list elements:\").split(\".\")]\n",
    "#print(min(x))\n",
    "min=x[0]\n",
    "for i in x:\n",
    "    if min>i:\n",
    "        min=i\n",
    "print(min)"
   ]
  },
  {
   "cell_type": "code",
   "execution_count": 45,
   "metadata": {},
   "outputs": [
    {
     "name": "stdout",
     "output_type": "stream",
     "text": [
      "2\n"
     ]
    }
   ],
   "source": [
    "# Write a Python program to count the number of strings where the string length is 2 or more and the first and \n",
    "#last character are same from a given list of strings.\n",
    "def mul(x):\n",
    "    count=0\n",
    "    for i in x:\n",
    "        if len(i)>2 and i[0]==i[-1]:\n",
    "            count=count+1\n",
    "    return count\n",
    "print(mul(['abc', 'xyz', 'aba', '1221']))"
   ]
  },
  {
   "cell_type": "code",
   "execution_count": 49,
   "metadata": {},
   "outputs": [
    {
     "name": "stdout",
     "output_type": "stream",
     "text": [
      "2\n"
     ]
    }
   ],
   "source": [
    "# Write a Python program to count the number of strings where the string length is 2 or more and the first and \n",
    "#last character are same from a given list of strings.\n",
    "x= ['abc', 'xyz', 'aba', '1221']\n",
    "count=0\n",
    "for i in x:\n",
    "    if len(i)>2 and i[0]==i[-1]:\n",
    "        count=count+1\n",
    "print(count)"
   ]
  },
  {
   "cell_type": "code",
   "execution_count": 58,
   "metadata": {},
   "outputs": [
    {
     "name": "stdout",
     "output_type": "stream",
     "text": [
      "[(2, 1), (1, 2), (2, 3), (4, 4), (2, 5)]\n"
     ]
    }
   ],
   "source": [
    "#Write a Python program to get a list, sorted in increasing order by the last element in each tuple from a given list.\n",
    "#of non-empty tuples.\n",
    "def last(n): \n",
    "    return n[-1]\n",
    "def sort_list_last(tuples):\n",
    "  return sorted(tuples, key=last)\n",
    "print(sort_list_last([(2, 5), (1, 2), (4, 4), (2, 3), (2, 1)]))"
   ]
  },
  {
   "cell_type": "code",
   "execution_count": 59,
   "metadata": {},
   "outputs": [
    {
     "name": "stdout",
     "output_type": "stream",
     "text": [
      "enter elements:5.2.4.5.67.1.1.1.2.3.4\n",
      "[1, 2, 67, 4, 5, 3]\n"
     ]
    }
   ],
   "source": [
    "#Write a Python program to remove duplicates from a list\n",
    "x=[int(x) for x in input(\"enter elements:\").split(\".\")]\n",
    "y=set(x)\n",
    "print(list(y))"
   ]
  },
  {
   "cell_type": "code",
   "execution_count": 72,
   "metadata": {},
   "outputs": [
    {
     "name": "stdout",
     "output_type": "stream",
     "text": [
      "empety\n"
     ]
    }
   ],
   "source": [
    "#Write a Python program to check a list is empty or not.\n",
    "x=[]\n",
    "if not x:\n",
    "    print(\"empety\")"
   ]
  },
  {
   "cell_type": "code",
   "execution_count": 75,
   "metadata": {},
   "outputs": [
    {
     "name": "stdout",
     "output_type": "stream",
     "text": [
      "enter the list elements:3.8.9.3\n",
      "how many times you want to colon this list:4\n",
      "[3, 8, 9, 3]\n",
      "[3, 8, 9, 3]\n",
      "[3, 8, 9, 3]\n",
      "[3, 8, 9, 3]\n"
     ]
    }
   ],
   "source": [
    "#Write a Python program to clone or copy a list.\n",
    "x=[int(x) for x in input(\"enter the list elements:\").split(\".\")]\n",
    "n=int(input(\"how many times you want to colon this list:\"))\n",
    "for i in range(n):\n",
    "    print(x)"
   ]
  },
  {
   "cell_type": "code",
   "execution_count": 83,
   "metadata": {},
   "outputs": [
    {
     "name": "stdout",
     "output_type": "stream",
     "text": [
      "['hello', 'my', 'name', 'is', 'bibek']\n",
      "you want length above?4\n",
      "hello\n",
      "bibek\n"
     ]
    }
   ],
   "source": [
    "#Write a Python program to find the list of words that are longer than n from a given list of words\n",
    "#x= ['abc', 'xyz', 'aba', '1221','4fhds']\n",
    "x=\"hello my name is bibek\"\n",
    "a=x.split(\" \")\n",
    "print(a)\n",
    "n=int(input(\"you want length above?\"))\n",
    "for i in a:\n",
    "    if len(i)>n:\n",
    "        print(i)"
   ]
  },
  {
   "cell_type": "code",
   "execution_count": 95,
   "metadata": {},
   "outputs": [
    {
     "name": "stdout",
     "output_type": "stream",
     "text": [
      "True\n"
     ]
    }
   ],
   "source": [
    "#Write a Python function that takes two lists and returns True if they have at least one common member\n",
    "x=[1,4,6,2]\n",
    "y=[1,12,1,5,8,9]\n",
    "a=set(x)\n",
    "b=set(y)\n",
    "if a.intersection(b):\n",
    "    print(\"True\")\n",
    "else:\n",
    "    print(\"False\")"
   ]
  },
  {
   "cell_type": "code",
   "execution_count": 107,
   "metadata": {},
   "outputs": [
    {
     "name": "stdout",
     "output_type": "stream",
     "text": [
      "['Green', 'White', 'Black']\n"
     ]
    }
   ],
   "source": [
    "# Write a Python program to print a specified list after removing the 0th, 4th and 5th elements.\n",
    "x=['Red', 'Green', 'White', 'Black', 'Pink', 'Yellow']\n",
    "x=[x for (i,x) in enumerate(x) if i not in (0,4,5)]\n",
    "print(x)"
   ]
  },
  {
   "cell_type": "code",
   "execution_count": 16,
   "metadata": {},
   "outputs": [
    {
     "name": "stdout",
     "output_type": "stream",
     "text": [
      "[7, 25, 27]\n"
     ]
    }
   ],
   "source": [
    "#Write a Python program to print the numbers of a specified list after removing even numbers from it\n",
    "x=[4,8,4,6,23,76,3]\n",
    "x=[x for x in num  if x%2!=0]\n",
    "print(x)"
   ]
  },
  {
   "cell_type": "code",
   "execution_count": 20,
   "metadata": {},
   "outputs": [
    {
     "name": "stdout",
     "output_type": "stream",
     "text": [
      "['bus', 'lion', 'cat', 'car', 'apple']\n"
     ]
    }
   ],
   "source": [
    "#Write a Python program to shuffle and print a specified list.\n",
    "from random import shuffle \n",
    "list1=[\"apple\",\"cat\",\"bus\",\"lion\",\"car\"]\n",
    "shuffle(list1)\n",
    "print(list1)"
   ]
  },
  {
   "cell_type": "code",
   "execution_count": 37,
   "metadata": {},
   "outputs": [
    {
     "name": "stdout",
     "output_type": "stream",
     "text": [
      "[1, 4, 9, 16, 25, 256, 289, 324, 361, 400]\n"
     ]
    }
   ],
   "source": [
    "#Write a Python program to generate and print a list of first and last 5 elements \n",
    "#where the values are square of numbers between 1 and 30 (both included).\n",
    "list1=[1,2,3,4,5,6,7,8,9,10,11,12,13,14,15,16,17,18,19,20]\n",
    "a=[]\n",
    "for i in list1:\n",
    "    i=i**2\n",
    "    a.append(i)\n",
    "x=a[:5]\n",
    "y=a[-5:]\n",
    "print(x+y)"
   ]
  },
  {
   "cell_type": "code",
   "execution_count": 38,
   "metadata": {},
   "outputs": [
    {
     "name": "stdout",
     "output_type": "stream",
     "text": [
      "[(1, 2, 3), (1, 3, 2), (2, 1, 3), (2, 3, 1), (3, 1, 2), (3, 2, 1)]\n"
     ]
    }
   ],
   "source": [
    "# Write a Python program to generate all permutations of a list in Python.\n",
    "import itertools\n",
    "print(list(itertools.permutations([1,2,3])))"
   ]
  },
  {
   "cell_type": "code",
   "execution_count": 43,
   "metadata": {},
   "outputs": [
    {
     "name": "stdout",
     "output_type": "stream",
     "text": [
      "[1, 5, 7, 8, 9, 6]\n"
     ]
    }
   ],
   "source": [
    "#Write a Python program to get the difference between the two lists. \n",
    "x=[1,2,4,5,7]\n",
    "y=[2,4,6,9,8]\n",
    "a=set(x).difference(set(y))\n",
    "b=set(y).difference(set(x))\n",
    "print(list(a)+list(b))"
   ]
  },
  {
   "cell_type": "code",
   "execution_count": 52,
   "metadata": {},
   "outputs": [
    {
     "name": "stdout",
     "output_type": "stream",
     "text": [
      "0----->2\n",
      "1----->5\n",
      "2----->7\n",
      "3----->3\n",
      "4----->12\n",
      "5----->3\n",
      "6----->45\n",
      "7----->56\n"
     ]
    }
   ],
   "source": [
    "#Write a Python program access the index of a list.\n",
    "#naive method.\n",
    "x=[2,5,7,3,12,3,45,56]\n",
    "for i in range(len(x)):\n",
    "    print(i,end=\"----->\")\n",
    "    print(x[i])"
   ]
  },
  {
   "cell_type": "code",
   "execution_count": 44,
   "metadata": {},
   "outputs": [
    {
     "name": "stdout",
     "output_type": "stream",
     "text": [
      "f-->h-->r-->op\n"
     ]
    }
   ],
   "source": [
    "#Write a Python program to convert a list of characters into a string.\n",
    "#x=[x for x in input(\"enter the list:\").split(\".\")]\n",
    "#sum=\"\"\n",
    "#for i in range(len(x)):\n",
    "    #sum=sum+str(x[i])\n",
    "#print(sum) \n",
    "#next method\n",
    "x=[\"f\",\"h\",\"r\",\"op\"]\n",
    "y=\"-->\".join(x)\n",
    "print(y)"
   ]
  },
  {
   "cell_type": "code",
   "execution_count": 71,
   "metadata": {},
   "outputs": [
    {
     "name": "stdout",
     "output_type": "stream",
     "text": [
      "enter the elements:1.1.1.1.0.0.0.1\n",
      "what you want to search?1\n",
      "1 is found at: 0\n",
      "1 is found at: 1\n",
      "1 is found at: 2\n",
      "1 is found at: 3\n",
      "1 is found at: 7\n"
     ]
    }
   ],
   "source": [
    "#Write a Python program to find the index of an item in a specified list.\n",
    "x=[int(x) for x in input(\"enter the elements:\").split(\".\")]\n",
    "search=int(input(\"what you want to search?\"))\n",
    "for i in range(len(x)):\n",
    "    if search==x[i]:\n",
    "        print( f\"{search} is found at:\",i)"
   ]
  },
  {
   "cell_type": "code",
   "execution_count": 72,
   "metadata": {},
   "outputs": [
    {
     "name": "stdout",
     "output_type": "stream",
     "text": [
      "[1, 3, 4, 4, 5, 6, 2, 6, 8]\n"
     ]
    }
   ],
   "source": [
    "#Write a Python program to flatten a shallow list.\n",
    "a=[1,3,4]\n",
    "b=[4,5,6]\n",
    "c=[2,6,8]\n",
    "print(a+b+c)"
   ]
  },
  {
   "cell_type": "code",
   "execution_count": 77,
   "metadata": {},
   "outputs": [
    {
     "name": "stdout",
     "output_type": "stream",
     "text": [
      "[1, 2, 3, 1, 1, 0, 2, 11, 7, 8, 5, 0]\n"
     ]
    }
   ],
   "source": [
    "#Write a Python program to append a list to the second list.\n",
    "x=[1,2,3,1,1,0]\n",
    "y=[2,11,7,8,5,0]\n",
    "print(x+y)\n"
   ]
  },
  {
   "cell_type": "code",
   "execution_count": 84,
   "metadata": {},
   "outputs": [
    {
     "name": "stdout",
     "output_type": "stream",
     "text": [
      "c\n"
     ]
    }
   ],
   "source": [
    "#Write a Python program to select an item randomly from a list.\n",
    "import random\n",
    "x=[\"a\",\"b\",\"c\"]\n",
    "a=random.choice(x)\n",
    "print(a)"
   ]
  },
  {
   "cell_type": "code",
   "execution_count": 91,
   "metadata": {},
   "outputs": [
    {
     "name": "stdout",
     "output_type": "stream",
     "text": [
      "15\n"
     ]
    }
   ],
   "source": [
    "##Write a Python program to select an item randomly from a list.\n",
    "from random import randint\n",
    "print(randint(1,21))"
   ]
  },
  {
   "cell_type": "code",
   "execution_count": 95,
   "metadata": {},
   "outputs": [
    {
     "name": "stdout",
     "output_type": "stream",
     "text": [
      "[1, 2, 2, 4, 5, 5, 6, 8]\n",
      "2\n"
     ]
    }
   ],
   "source": [
    "# Write a Python program to find the second smallest number in a list. \n",
    "x=[2,2,5,8,1,6,4,5]\n",
    "x.sort()\n",
    "print(x)\n",
    "print(x[1])"
   ]
  },
  {
   "cell_type": "code",
   "execution_count": 97,
   "metadata": {},
   "outputs": [
    {
     "name": "stdout",
     "output_type": "stream",
     "text": [
      "[1, 2, 2, 4, 5, 5, 6, 8]\n",
      "6\n"
     ]
    }
   ],
   "source": [
    "#Write a Python program to find the second largest number in a list.\n",
    "x=[2,2,5,8,1,6,4,5]\n",
    "x.sort()\n",
    "print(x)\n",
    "print(x[-2])"
   ]
  },
  {
   "cell_type": "code",
   "execution_count": 103,
   "metadata": {},
   "outputs": [
    {
     "name": "stdout",
     "output_type": "stream",
     "text": [
      "unique value are: [1, 2, 3, 4, 5, 6, 7, 12]\n"
     ]
    }
   ],
   "source": [
    "#Write a Python program to get unique values from a list.\n",
    "list1=[2,4,5,2,2,3,4,5,6,7,1,1,1,12,3,4,5]\n",
    "a=set(list1)\n",
    "print(\"unique value are:\",list(a))"
   ]
  },
  {
   "cell_type": "code",
   "execution_count": 110,
   "metadata": {},
   "outputs": [
    {
     "name": "stdout",
     "output_type": "stream",
     "text": [
      "1 ---> 6\n",
      "3 ---> 2\n",
      "2 ---> 1\n",
      "4 ---> 2\n",
      "5 ---> 1\n",
      "6 ---> 1\n"
     ]
    }
   ],
   "source": [
    "#Write a Python program to get the frequency of the elements in a list.\n",
    "x=[1,3,1,1,2,3,4,1,1,1,4,5,6]\n",
    "i=0\n",
    "for e in x:\n",
    "    if x.index(e)==i:\n",
    "        print(e,\"--->\",x.count(e))\n",
    "    i+=1"
   ]
  },
  {
   "cell_type": "code",
   "execution_count": 4,
   "metadata": {},
   "outputs": [
    {
     "name": "stdout",
     "output_type": "stream",
     "text": [
      "enter the list elements:1.5.12.56.78.40.6.8\n",
      "new list is: [12, 40]\n",
      "2\n"
     ]
    }
   ],
   "source": [
    "#Write a Python program to count the number of elements in a list within a specified range.\n",
    "y=[]\n",
    "x=[int(x) for x in input(\"enter the list elements:\").split(\".\")]\n",
    "for i in x:\n",
    "    if i>10 and i<50 :\n",
    "        y.append(i)\n",
    "print(\"new list is:\",y)\n",
    "print(len(y))"
   ]
  },
  {
   "cell_type": "code",
   "execution_count": 9,
   "metadata": {},
   "outputs": [
    {
     "name": "stdout",
     "output_type": "stream",
     "text": [
      "True\n"
     ]
    }
   ],
   "source": [
    "#Write a Python program to check whether a list contains a sublist.\n",
    "x=[1,4,7,8,9,5,6]\n",
    "y=[1,7,8,9]\n",
    "print(set(y).issubset(set(x)))"
   ]
  },
  {
   "cell_type": "code",
   "execution_count": 27,
   "metadata": {},
   "outputs": [
    {
     "name": "stdout",
     "output_type": "stream",
     "text": [
      "7ffdeceb4380\n"
     ]
    }
   ],
   "source": [
    "# Write a Python program to get variable unique identification number or string. \n",
    "x=100\n",
    "print(format(id(x),\"x\"))"
   ]
  },
  {
   "cell_type": "code",
   "execution_count": 29,
   "metadata": {},
   "outputs": [
    {
     "name": "stdout",
     "output_type": "stream",
     "text": [
      "[8, 1, 2]\n"
     ]
    }
   ],
   "source": [
    "#Write a Python program to find common items from two lists.\n",
    "x=[3,6,8,3,1,2]\n",
    "y=[1,2,5,8,4]\n",
    "a=set(x).intersection(set(y))\n",
    "print(list(a))"
   ]
  },
  {
   "cell_type": "code",
   "execution_count": 31,
   "metadata": {},
   "outputs": [
    {
     "name": "stdout",
     "output_type": "stream",
     "text": [
      "0-->1\n",
      "1-->2\n",
      "2-->3\n",
      "3-->4\n"
     ]
    }
   ],
   "source": [
    "#Write a Python program to change the position of every n-th value with the (n+1)th in a list.\n",
    "x=[4,6,8,9]\n",
    "for i in range(len(x)):\n",
    "    print(i,end=\"-->\")\n",
    "    print(i+1)\n",
    "\n"
   ]
  },
  {
   "cell_type": "code",
   "execution_count": 32,
   "metadata": {},
   "outputs": [
    {
     "name": "stdout",
     "output_type": "stream",
     "text": [
      "[1, 0, 3, 2, 5, 4]\n"
     ]
    }
   ],
   "source": [
    "##Write a Python program to change the position of every n-th value with the (n+1)th in a list.\n",
    "from itertools import zip_longest, chain, tee\n",
    "def replace2copy(lst):\n",
    "    lst1, lst2 = tee(iter(lst), 2)\n",
    "    return list(chain.from_iterable(zip_longest(lst[1::2], lst[::2])))\n",
    "n = [0,1,2,3,4,5]\n",
    "print(replace2copy(n))"
   ]
  },
  {
   "cell_type": "code",
   "execution_count": 51,
   "metadata": {},
   "outputs": [
    {
     "name": "stdout",
     "output_type": "stream",
     "text": [
      "['11', '33', '50']\n",
      "113350\n"
     ]
    }
   ],
   "source": [
    "#Write a Python program to convert a list of multiple integers into a single integer\n",
    "x=[11, 33, 50]\n",
    "y=[]\n",
    "for i in x:\n",
    "    i=str(i)\n",
    "    y.append(i)\n",
    "print(y) \n",
    "print(\"\".join(y))"
   ]
  },
  {
   "cell_type": "code",
   "execution_count": 2,
   "metadata": {},
   "outputs": [
    {
     "name": "stdout",
     "output_type": "stream",
     "text": [
      "apple\n",
      "ant\n"
     ]
    }
   ],
   "source": [
    "#Write a Python program to split a list based on first character of word.\n",
    "x=[\"apple\",\"ball\",\"ant\",\"cat\"]\n",
    "for i in range(len(x)):\n",
    "    if \"a\" in x[i][0]:\n",
    "        print(x[i])"
   ]
  },
  {
   "cell_type": "code",
   "execution_count": 1,
   "metadata": {},
   "outputs": [
    {
     "name": "stdout",
     "output_type": "stream",
     "text": [
      "{'1': [], '2': [], '3': [], '4': [], '5': [], '6': [], '7': [], '8': [], '9': [], '10': [], '11': [], '12': [], '13': [], '14': [], '15': [], '16': [], '17': [], '18': [], '19': [], '20': []}\n"
     ]
    }
   ],
   "source": [
    "#Write a Python program to create multiple lists.\n",
    "obj = {}\n",
    "for i in range(1, 21):\n",
    "    obj[str(i)] = []\n",
    "print(obj)"
   ]
  },
  {
   "cell_type": "code",
   "execution_count": 3,
   "metadata": {},
   "outputs": [
    {
     "name": "stdout",
     "output_type": "stream",
     "text": [
      "[[...], [...], [...], [...], [...], [...], [...], [...], [...], [...], [...], [...], [...], [...], [...], [...], [...], [...], [...], [...]]\n"
     ]
    }
   ],
   "source": [
    "x=[]\n",
    "for i in range(20):\n",
    "    x.append(x)\n",
    "print(x)"
   ]
  },
  {
   "cell_type": "code",
   "execution_count": 13,
   "metadata": {},
   "outputs": [
    {
     "name": "stdout",
     "output_type": "stream",
     "text": [
      "[[1, 2]]\n"
     ]
    }
   ],
   "source": [
    "#Write a Python program to generate groups of five consecutive numbers in a list.\n",
    "x=[1,2,3,4,5,6]\n",
    "y=[]\n",
    "for i in range(len(x)):\n",
    "    y.append(x[0:2])\n",
    "    break\n",
    "print(y)"
   ]
  },
  {
   "cell_type": "code",
   "execution_count": 23,
   "metadata": {},
   "outputs": [
    {
     "name": "stdout",
     "output_type": "stream",
     "text": [
      "{1, 2, 3, 8, 9, 10}\n",
      "[1, 2, 3, 8, 9, 10]\n"
     ]
    }
   ],
   "source": [
    "# Write a Python program to convert a pair of values into a sorted unique array\n",
    "x=[(1,2),(2,1),(2,3),(2,8),(1,9),(2,10)]\n",
    "a=set().union(*x)\n",
    "print(a)\n",
    "print(sorted(list(a)))"
   ]
  },
  {
   "cell_type": "code",
   "execution_count": 24,
   "metadata": {},
   "outputs": [
    {
     "name": "stdout",
     "output_type": "stream",
     "text": [
      "[5, 3, 5]\n"
     ]
    }
   ],
   "source": [
    "#Write a Python program to select the odd items of a list.\n",
    "x=[2,5,8,3,4,5]\n",
    "y=[]\n",
    "for i in x:\n",
    "    if i%2!=0:\n",
    "        y.append(i)\n",
    "print(y)\n"
   ]
  },
  {
   "cell_type": "code",
   "execution_count": 26,
   "metadata": {},
   "outputs": [
    {
     "name": "stdout",
     "output_type": "stream",
     "text": [
      "['c', 'apple', 'c', 'ball', 'c', 'cat', 'c', 'dog']\n"
     ]
    }
   ],
   "source": [
    "#Write a Python program to insert an element before each element of a list.\n",
    "x=[\"apple\",\"ball\",\"cat\",\"dog\"]\n",
    "x= [v for elt in x for v in ('c', elt)]\n",
    "print(x)"
   ]
  },
  {
   "cell_type": "code",
   "execution_count": 39,
   "metadata": {},
   "outputs": [
    {
     "name": "stdout",
     "output_type": "stream",
     "text": [
      "['Black', 'Red', 'Maroon', 'Yellow']['#000000', '#FF0000', '#800000', '#FFFF00']"
     ]
    }
   ],
   "source": [
    "x= [\"Black\", \"Red\", \"Maroon\", \"Yellow\"]\n",
    "y=[\"#000000\", \"#FF0000\", \"#800000\", \"#FFFF00\"]\n",
    "dict={}\n",
    "for i in x,y:\n",
    "    print(i,end=\"\")"
   ]
  },
  {
   "cell_type": "code",
   "execution_count": 46,
   "metadata": {},
   "outputs": [
    {
     "name": "stdout",
     "output_type": "stream",
     "text": [
      "{('name', 'value'): [['Black', 'Red', 'Maroon', 'Yellow'], ['#000000', '#FF0000', '#800000', '#FFFF00']]}\n"
     ]
    }
   ],
   "source": [
    "#Write a Python program to convert list to list of dictionaries.\n",
    "x= [\"Black\", \"Red\", \"Maroon\", \"Yellow\"]\n",
    "y=[\"#000000\", \"#FF0000\", \"#800000\", \"#FFFF00\"]\n",
    "dict={}\n",
    "for i in range(len(x)):\n",
    "    dict[\"name\",\"value\"]=[x,y]\n",
    "print(dict)"
   ]
  },
  {
   "cell_type": "code",
   "execution_count": null,
   "metadata": {},
   "outputs": [],
   "source": []
  }
 ],
 "metadata": {
  "kernelspec": {
   "display_name": "Python 3",
   "language": "python",
   "name": "python3"
  },
  "language_info": {
   "codemirror_mode": {
    "name": "ipython",
    "version": 3
   },
   "file_extension": ".py",
   "mimetype": "text/x-python",
   "name": "python",
   "nbconvert_exporter": "python",
   "pygments_lexer": "ipython3",
   "version": "3.8.3"
  }
 },
 "nbformat": 4,
 "nbformat_minor": 4
}
