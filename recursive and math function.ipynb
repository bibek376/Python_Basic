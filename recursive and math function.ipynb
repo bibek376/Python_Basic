{
 "cells": [
  {
   "cell_type": "code",
   "execution_count": 4,
   "metadata": {},
   "outputs": [
    {
     "name": "stdout",
     "output_type": "stream",
     "text": [
      "enter your name:ger\n",
      "enter your age:23\n",
      "hello,my name is ger and age is 23\n",
      "enter y:= y\n",
      "enter your name:gdg\n",
      "enter your age:12\n",
      "hello,my name is gdg and age is 12\n",
      "enter y:= e\n"
     ]
    }
   ],
   "source": [
    "#simple recursive function\n",
    "def hello():\n",
    "    name=input(\"enter your name:\")\n",
    "    age=int(input(\"enter your age:\"))\n",
    "    print(\"hello,my name is \"+name+\" and age is \"+str(age))\n",
    "    y=input(\"enter y:= \")\n",
    "    if y=='y':\n",
    "        hello()\n",
    "hello()\n",
    "\n",
    "\n",
    "\n"
   ]
  },
  {
   "cell_type": "code",
   "execution_count": 3,
   "metadata": {},
   "outputs": [
    {
     "name": "stdout",
     "output_type": "stream",
     "text": [
      "binaya\n",
      "bikash\n",
      "bibek\n"
     ]
    }
   ],
   "source": [
    "#defult value\n",
    "def value(a=\"bibek\"):\n",
    "    print(a)\n",
    "value(\"binaya\")\n",
    "value(\"bikash\")\n",
    "value()\n",
    "\n"
   ]
  },
  {
   "cell_type": "code",
   "execution_count": 6,
   "metadata": {},
   "outputs": [
    {
     "name": "stdout",
     "output_type": "stream",
     "text": [
      "enter the l= 2\n",
      "enter the b= 3\n",
      "enter the h= 4\n"
     ]
    },
    {
     "data": {
      "text/plain": [
       "24"
      ]
     },
     "execution_count": 6,
     "metadata": {},
     "output_type": "execute_result"
    }
   ],
   "source": [
    "def volume(x):\n",
    "    l,b,h=x\n",
    "    return l*b*h\n",
    "l=int(input(\"enter the l= \"))\n",
    "b=int(input(\"enter the b= \"))\n",
    "h=int(input(\"enter the h= \"))\n",
    "x=l,b,h\n",
    "volume(x)\n",
    "    \n",
    "    \n",
    "    \n",
    "    "
   ]
  },
  {
   "cell_type": "code",
   "execution_count": 2,
   "metadata": {},
   "outputs": [
    {
     "name": "stdout",
     "output_type": "stream",
     "text": [
      "factorial is 120\n",
      "ceil value is 6\n",
      "9\n",
      "enter the value of r:4\n",
      "area of circle is: 50.26548245743669\n"
     ]
    }
   ],
   "source": [
    "#math function\n",
    "import math as m\n",
    "print(\"factorial is\",m.factorial(5))\n",
    "print(\"ceil value is\",m.ceil(5.34))\n",
    "print(pow(3,2))\n",
    "r=int(input(\"enter the value of r:\"))\n",
    "a=m.pi*r*r\n",
    "print(\"area of circle is:\",a)\n",
    "      \n",
    "\n",
    "\n",
    "#  x *i=x*i   \n",
    "\n"
   ]
  },
  {
   "cell_type": "code",
   "execution_count": 5,
   "metadata": {},
   "outputs": [
    {
     "name": "stdout",
     "output_type": "stream",
     "text": [
      "enter the table number you want ? 10\n",
      "10 X 1 = 10\n",
      "10 X 2 = 20\n",
      "10 X 3 = 30\n",
      "10 X 4 = 40\n",
      "10 X 5 = 50\n",
      "10 X 6 = 60\n",
      "10 X 7 = 70\n",
      "10 X 8 = 80\n",
      "10 X 9 = 90\n",
      "10 X 10 = 100\n"
     ]
    }
   ],
   "source": [
    "import math as m\n",
    "y=int(input(\"enter the table number you want ? \"))\n",
    "for i in range(1,11):\n",
    "    print(y,\"X\",i,\"=\",y*i)\n"
   ]
  },
  {
   "cell_type": "code",
   "execution_count": 15,
   "metadata": {},
   "outputs": [
    {
     "name": "stdout",
     "output_type": "stream",
     "text": [
      "1.0\n",
      "6.123233995736766e-17\n"
     ]
    }
   ],
   "source": [
    "import math as s\n",
    "x=print(s.sin(s.pi/2))\n",
    "y=print(s.cos(s.pi/2))\n"
   ]
  },
  {
   "cell_type": "code",
   "execution_count": 25,
   "metadata": {},
   "outputs": [
    {
     "name": "stdout",
     "output_type": "stream",
     "text": [
      "enter the value of x:-4\n",
      "enter the value of y:-2\n",
      "enter the value of z:-1\n",
      "z is greter:\n"
     ]
    }
   ],
   "source": [
    "#if ,else and elif condition\n",
    "x=int(input(\"enter the value of x:\"))\n",
    "y=int(input(\"enter the value of y:\"))\n",
    "z=int(input(\"enter the value of z:\"))\n",
    "if x>y and x>z:\n",
    "    print(\"x is greater:\")\n",
    "elif y>x and y>z:\n",
    "    print(\"y is greater:\")\n",
    "elif z>x and z>y:\n",
    "    print(\"z is greter:\")\n",
    "else:\n",
    "    print(\"equal:\")\n",
    "    \n",
    "    \n",
    "\n"
   ]
  },
  {
   "cell_type": "code",
   "execution_count": 19,
   "metadata": {},
   "outputs": [
    {
     "name": "stdout",
     "output_type": "stream",
     "text": [
      "enter the value of x:6\n",
      "enter the value of y:2\n",
      " 1.Addition\n",
      "2.Subtraction\n",
      "3.Multiplication\n",
      "4.Division\n",
      "5.exit\n",
      "enter your choice ?\n",
      "3\n",
      "multiplication is: 12\n"
     ]
    }
   ],
   "source": [
    "#python calculator\n",
    "x=int(input(\"enter the value of x:\"))\n",
    "y=int(input(\"enter the value of y:\"))\n",
    "print(\" 1.Addition\" )\n",
    "print(\"2.Subtraction\")\n",
    "print(\"3.Multiplication\")\n",
    "print(\"4.Division\")\n",
    "print(\"5.exit\")\n",
    "z=int(input(\"enter your choice ?\\n\"))\n",
    "if z==1:\n",
    "    print(\"sum is:\",x+y)\n",
    "elif z==2:\n",
    "    print(\"subtraction is:\",x-y)\n",
    "elif z==3:\n",
    "    print(\"multiplication is:\",x*y)\n",
    "elif z==4:\n",
    "    if y!=0:\n",
    "        print(\"division is:\",x/y)\n",
    "    else:\n",
    "        print(\"can not divide by zero:\")\n",
    "else:\n",
    "    print(\"exit sucessfully\")\n",
    "    \n",
    "    \n",
    "\n",
    "\n",
    "\n",
    "\n",
    "\n",
    "\n",
    "\n",
    "\n"
   ]
  },
  {
   "cell_type": "code",
   "execution_count": 8,
   "metadata": {},
   "outputs": [
    {
     "name": "stdout",
     "output_type": "stream",
     "text": [
      "enter the value of x:3\n",
      "enter the value of y:4\n",
      " 1.Addition\n",
      "2.Subtraction\n",
      "3.Multiplication\n",
      "4.Division\n",
      "5.exit\n",
      "enter your choice ?\n",
      "1\n",
      "sum is: 7\n",
      "for more operations enter 'y' and for quit press anything:y\n",
      "enter the value of x:5\n",
      "enter the value of y:6\n",
      " 1.Addition\n",
      "2.Subtraction\n",
      "3.Multiplication\n",
      "4.Division\n",
      "5.exit\n",
      "enter your choice ?\n",
      "3\n",
      "multiplication is: 30\n",
      "for more operations enter 'y' and for quit press anything:6\n"
     ]
    }
   ],
   "source": [
    "#python calculator\n",
    "def cal():\n",
    "    x=int(input(\"enter the value of x:\"))\n",
    "    y=int(input(\"enter the value of y:\"))\n",
    "    print(\" 1.Addition\" )\n",
    "    print(\"2.Subtraction\")\n",
    "    print(\"3.Multiplication\")\n",
    "    print(\"4.Division\")\n",
    "    print(\"5.exit\")\n",
    "    z=int(input(\"enter your choice ?\\n\"))\n",
    "    if z==1:\n",
    "        print(\"sum is:\",x+y)\n",
    "    elif z==2:\n",
    "        print(\"subtraction is:\",x-y)\n",
    "    elif z==3:\n",
    "        print(\"multiplication is:\",x*y)\n",
    "    elif z==4:\n",
    "        if y!=0:\n",
    "            print(\"division is:\",x/y)\n",
    "        else:\n",
    "            print(\"can not divide by zero:\")\n",
    "    else:\n",
    "        print(\"exit sucessfully\")\n",
    "    y=input(\"for more operations enter 'y' and for quit press anything:\")\n",
    "    if y=='y':\n",
    "         cal()\n",
    "cal()\n",
    "    \n",
    "    \n",
    "\n",
    "\n",
    "\n",
    "\n",
    "\n",
    "\n",
    "\n",
    "\n"
   ]
  },
  {
   "cell_type": "code",
   "execution_count": 10,
   "metadata": {},
   "outputs": [
    {
     "name": "stdout",
     "output_type": "stream",
     "text": [
      "enter the value of x:2\n",
      "enter the value of y:3\n",
      " 1.Addition\n",
      "2.Subtraction\n",
      "3.Multiplication\n",
      "4.Division\n",
      "5.exit\n",
      "enter your choice ?\n",
      "1\n",
      "sum is: 5\n",
      "for more operations enter 'y' and for quit press anything:3\n",
      "thank you:\n"
     ]
    }
   ],
   "source": [
    "#python calculator\n",
    "def cal():\n",
    "    x=int(input(\"enter the value of x:\"))\n",
    "    y=int(input(\"enter the value of y:\"))\n",
    "    print(\" 1.Addition\" )\n",
    "    print(\"2.Subtraction\")\n",
    "    print(\"3.Multiplication\")\n",
    "    print(\"4.Division\")\n",
    "    print(\"5.exit\")\n",
    "    z=int(input(\"enter your choice ?\\n\"))\n",
    "    if z==1:\n",
    "        print(\"sum is:\",x+y)\n",
    "    elif z==2:\n",
    "        print(\"subtraction is:\",x-y)\n",
    "    elif z==3:\n",
    "        print(\"multiplication is:\",x*y)\n",
    "    elif z==4:\n",
    "        if y!=0:\n",
    "            print(\"division is:\",x/y)\n",
    "        else:\n",
    "            print(\"can not divide by zero:\")\n",
    "    else:\n",
    "        print(\"exit sucessfully\")\n",
    "    y=input(\"for more operations enter 'y' and for quit press anything:\")\n",
    "    if y=='y':\n",
    "         cal()\n",
    "    else:\n",
    "        print(\"thank you:\")\n",
    "cal()\n",
    "    \n",
    "    \n",
    "\n",
    "\n",
    "\n",
    "\n",
    "\n",
    "\n",
    "\n",
    "\n"
   ]
  },
  {
   "cell_type": "code",
   "execution_count": 3,
   "metadata": {},
   "outputs": [
    {
     "name": "stdout",
     "output_type": "stream",
     "text": [
      "enter first number = 4\n",
      "enter second number = 5\n",
      " 1.Addition\n",
      "2.Subtraction\n",
      "3.Multiplication\n",
      "4.Division\n",
      "5.exit\n",
      "enter your choice ?\n",
      "1\n",
      " sum is: 9\n",
      "wnat more?yes\n",
      "enter first number = 4\n",
      "enter second number = 5\n",
      " 1.Addition\n",
      "2.Subtraction\n",
      "3.Multiplication\n",
      "4.Division\n",
      "5.exit\n",
      "enter your choice ?\n",
      "3\n",
      "multiplication is: 20\n",
      "wnat more?no\n",
      "thank you:\n"
     ]
    }
   ],
   "source": [
    "def add(x,y):\n",
    "    return x+y\n",
    "def sub(x,y):\n",
    "    return x-y\n",
    "def mul(x,y):\n",
    "    return x*y\n",
    "def div(x,y):\n",
    "    return x/y\n",
    "def main():\n",
    "    num1=int(input(\"enter first number = \"))\n",
    "    num2=int(input(\"enter second number = \"))\n",
    "    print(\" 1.Addition\" )\n",
    "    print(\"2.Subtraction\")\n",
    "    print(\"3.Multiplication\")\n",
    "    print(\"4.Division\")\n",
    "    print(\"5.exit\")\n",
    "    z=int(input(\"enter your choice ?\\n\"))\n",
    "    if z==1:\n",
    "        print(\" sum is:\",add(num1,num2))\n",
    "    elif z==2:\n",
    "        print(\"subtraction is:\",sub(num1,num2))\n",
    "    elif z==3:\n",
    "        print(\"multiplication is:\",mul(num1,num2))\n",
    "    elif z==4:\n",
    "        if num2!=0:\n",
    "            print(\"division is:\",div(num1,num2))\n",
    "        else:\n",
    "            print(\"can not divided by zero:\")\n",
    "    else:\n",
    "        print(\"exit sucessfully:\")\n",
    "    y=input(\"wnat more?\")\n",
    "    if y=='yes':\n",
    "        main()\n",
    "    else:\n",
    "        print(\"thank you:\")\n",
    "main()\n",
    "\n",
    "\n",
    "\n",
    "\n",
    "\n",
    "\n",
    "\n",
    "\n",
    "\n",
    "\n",
    "\n",
    "\n",
    "\n",
    "\n",
    "\n",
    "\n",
    "\n",
    "\n"
   ]
  },
  {
   "cell_type": "code",
   "execution_count": null,
   "metadata": {},
   "outputs": [],
   "source": []
  }
 ],
 "metadata": {
  "kernelspec": {
   "display_name": "Python 3",
   "language": "python",
   "name": "python3"
  },
  "language_info": {
   "codemirror_mode": {
    "name": "ipython",
    "version": 3
   },
   "file_extension": ".py",
   "mimetype": "text/x-python",
   "name": "python",
   "nbconvert_exporter": "python",
   "pygments_lexer": "ipython3",
   "version": "3.8.3"
  }
 },
 "nbformat": 4,
 "nbformat_minor": 4
}
