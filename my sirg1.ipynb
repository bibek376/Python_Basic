{
 "cells": [
  {
   "cell_type": "code",
   "execution_count": 13,
   "metadata": {},
   "outputs": [
    {
     "name": "stdout",
     "output_type": "stream",
     "text": [
      "enter the list:1,2,3,5,1,1,1\n",
      "enter the number;1\n",
      "0  4  5  6  "
     ]
    }
   ],
   "source": [
    "#python program to return index value of an elements.\n",
    "list1=[eval(e) for e in input(\"enter the list:\").split(',')]#creating a list\n",
    "num=eval(input(\"enter the number;\"))\n",
    "index=0\n",
    "while index<len(list1):\n",
    "    if list1[index]==num:\n",
    "        print(index,end='  ')\n",
    "    index+=1#index=index+1"
   ]
  },
  {
   "cell_type": "code",
   "execution_count": 2,
   "metadata": {},
   "outputs": [
    {
     "name": "stdout",
     "output_type": "stream",
     "text": [
      "enter the number >=2: 17\n",
      "prime  number:\n"
     ]
    }
   ],
   "source": [
    "#prime number\n",
    "x=int(input(\"enter the number >=2: \"))\n",
    "for num in range(2,x):\n",
    "    if  x%num==0:#dividing a number by range from 0 to x\n",
    "        print(\"not a prime number:\")\n",
    "        break\n",
    "else:\n",
    "    print(\"prime  number:\")\n",
    "\n"
   ]
  },
  {
   "cell_type": "code",
   "execution_count": 24,
   "metadata": {},
   "outputs": [
    {
     "name": "stdout",
     "output_type": "stream",
     "text": [
      "kebib\n"
     ]
    }
   ],
   "source": [
    "x=\"bibek\"\n",
    "print(x[::-1])"
   ]
  },
  {
   "cell_type": "code",
   "execution_count": 17,
   "metadata": {},
   "outputs": [
    {
     "ename": "IndentationError",
     "evalue": "expected an indented block (<ipython-input-17-294241e703cb>, line 6)",
     "output_type": "error",
     "traceback": [
      "\u001b[1;36m  File \u001b[1;32m\"<ipython-input-17-294241e703cb>\"\u001b[1;36m, line \u001b[1;32m6\u001b[0m\n\u001b[1;33m    break\u001b[0m\n\u001b[1;37m    ^\u001b[0m\n\u001b[1;31mIndentationError\u001b[0m\u001b[1;31m:\u001b[0m expected an indented block\n"
     ]
    }
   ],
   "source": [
    "x=int(input(\"enter starting interval:\"))\n",
    "y=int(input(\"enter ending interval:\"))\n",
    "for num in range(x,y+1):#entering two interval\n",
    "    for i in range(2,num):#choosing value from 2 to result num\n",
    "        if (num%i)==0:\n",
    "        break\n",
    "\n",
    "\n"
   ]
  },
  {
   "cell_type": "code",
   "execution_count": 3,
   "metadata": {},
   "outputs": [
    {
     "name": "stdout",
     "output_type": "stream",
     "text": [
      "enter the number:70\n",
      "yes\n"
     ]
    }
   ],
   "source": [
    "x=int(input(\"enter the number:\"))\n",
    "if x%5==0 and x%2==0:#divisible by 5 and 2\n",
    "    print(\"yes\")"
   ]
  },
  {
   "cell_type": "code",
   "execution_count": 5,
   "metadata": {},
   "outputs": [
    {
     "name": "stdout",
     "output_type": "stream",
     "text": [
      "10\n",
      "8\n",
      "6\n",
      "4\n",
      "2\n"
     ]
    }
   ],
   "source": [
    "for i in range(1,11,2):\n",
    "    print(12-i-1)#natural numbers in reverse order.\n",
    "\n",
    "\n"
   ]
  },
  {
   "cell_type": "code",
   "execution_count": 1,
   "metadata": {},
   "outputs": [
    {
     "name": "stdout",
     "output_type": "stream",
     "text": [
      "enter the n upto:10\n",
      "55.0\n"
     ]
    }
   ],
   "source": [
    "n=int(input(\"enter the n upto:\"))\n",
    "sum=n*(n+1)/2\n",
    "print(sum)\n",
    "\n",
    "\n",
    "\n"
   ]
  },
  {
   "cell_type": "code",
   "execution_count": 5,
   "metadata": {},
   "outputs": [
    {
     "data": {
      "text/plain": [
       "120"
      ]
     },
     "execution_count": 5,
     "metadata": {},
     "output_type": "execute_result"
    }
   ],
   "source": [
    "#calculate factorial using lambda function.\n",
    "n=5\n",
    "fact=lambda n:n*fact(n-1) if n>0 else 1\n",
    "fact(n)"
   ]
  },
  {
   "cell_type": "code",
   "execution_count": 2,
   "metadata": {},
   "outputs": [
    {
     "data": {
      "text/plain": [
       "55"
      ]
     },
     "execution_count": 2,
     "metadata": {},
     "output_type": "execute_result"
    }
   ],
   "source": [
    "def sum(n):\n",
    "    if n==1:\n",
    "        return 1\n",
    "    else:\n",
    "        return n*n+sum(n-1)\n",
    "sum(5)\n",
    "    \n",
    "    \n",
    "\n",
    "\n",
    "\n"
   ]
  },
  {
   "cell_type": "code",
   "execution_count": 7,
   "metadata": {},
   "outputs": [
    {
     "data": {
      "text/plain": [
       "14"
      ]
     },
     "execution_count": 7,
     "metadata": {},
     "output_type": "execute_result"
    }
   ],
   "source": [
    "#lambda function for calculating sum of square of n natural number. \n",
    "sum=lambda n:1 if n==1 else n*n+sum(n-1)\n",
    "sum(3)"
   ]
  },
  {
   "cell_type": "code",
   "execution_count": 14,
   "metadata": {},
   "outputs": [
    {
     "data": {
      "text/plain": [
       "55"
      ]
     },
     "execution_count": 14,
     "metadata": {},
     "output_type": "execute_result"
    }
   ],
   "source": [
    "#lambda function for sum of n natural number.\n",
    "sum=lambda n:0 if n<=0 else n+sum(n-1) \n",
    "sum(10)\n",
    "\n",
    "\n"
   ]
  },
  {
   "cell_type": "code",
   "execution_count": 44,
   "metadata": {},
   "outputs": [
    {
     "name": "stdout",
     "output_type": "stream",
     "text": [
      "enter the number:5\n",
      "prime number\n"
     ]
    }
   ],
   "source": [
    "#program to cheack a prime number or not\n",
    "x=int(input(\"enter the number:\"))\n",
    "if x<2:\n",
    "    print(\"not a prime number:\")\n",
    "else:\n",
    "    for num in range(2,x):#storing a value in num\n",
    "        if x%num==0:#divide x value with i loop\n",
    "            print(\"not a prime number:\")\n",
    "            break\n",
    "    else:\n",
    "            print(\"prime number\")"
   ]
  },
  {
   "cell_type": "code",
   "execution_count": 38,
   "metadata": {},
   "outputs": [
    {
     "name": "stdout",
     "output_type": "stream",
     "text": [
      "enter the first number:3\n",
      "enter the second number:11\n",
      "3\n",
      "5\n",
      "7\n",
      "11\n"
     ]
    }
   ],
   "source": [
    "#print prime number in given range:\n",
    "x=int(input(\"enter the first number:\"))\n",
    "y=int(input(\"enter the second number:\"))\n",
    "for num in range(x,y+1):\n",
    "    for i in range(2,num):\n",
    "        if num%i==0:\n",
    "            break\n",
    "    else:\n",
    "        print(num)\n",
    "\n",
    "\n",
    "\n"
   ]
  },
  {
   "cell_type": "code",
   "execution_count": 4,
   "metadata": {},
   "outputs": [
    {
     "data": {
      "text/plain": [
       "17"
      ]
     },
     "execution_count": 4,
     "metadata": {},
     "output_type": "execute_result"
    }
   ],
   "source": [
    "#next prime number in python\n",
    "def next_prime(n):#creating a function\n",
    "    while True:\n",
    "        n+=1\n",
    "        for num in range(2,n):\n",
    "            if n%num==0:\n",
    "                break\n",
    "        else:\n",
    "            return n\n",
    "next_prime(13)\n",
    "\n",
    "\n",
    "\n",
    "\n",
    "\n",
    "\n",
    "\n"
   ]
  },
  {
   "cell_type": "code",
   "execution_count": null,
   "metadata": {},
   "outputs": [],
   "source": []
  }
 ],
 "metadata": {
  "kernelspec": {
   "display_name": "Python 3",
   "language": "python",
   "name": "python3"
  },
  "language_info": {
   "codemirror_mode": {
    "name": "ipython",
    "version": 3
   },
   "file_extension": ".py",
   "mimetype": "text/x-python",
   "name": "python",
   "nbconvert_exporter": "python",
   "pygments_lexer": "ipython3",
   "version": "3.8.3"
  }
 },
 "nbformat": 4,
 "nbformat_minor": 4
}
