{
 "cells": [
  {
   "cell_type": "code",
   "execution_count": 9,
   "metadata": {},
   "outputs": [
    {
     "name": "stdout",
     "output_type": "stream",
     "text": [
      "enter the string:bibek\n",
      "bibek\n",
      "<class 'str'>\n"
     ]
    }
   ],
   "source": [
    "#printing a string and type\n",
    "x=input(\"enter the string:\")\n",
    "print(x)\n",
    "print(type(x))\n"
   ]
  },
  {
   "cell_type": "code",
   "execution_count": 3,
   "metadata": {},
   "outputs": [
    {
     "name": "stdout",
     "output_type": "stream",
     "text": [
      "7\n",
      "carl\n",
      "carlos \n",
      "s\n",
      "o\n",
      " solrac\n",
      "cro \n"
     ]
    }
   ],
   "source": [
    "#slicing in string.\n",
    "x=\"carlos \"\n",
    "print(len(x))\n",
    "print(x[0:4])\n",
    "print(x[0:100])\n",
    "print(x[5])\n",
    "print(x[-3])\n",
    "print(x[::-1])#for reversing a string \n",
    "print(x[0:11:2])"
   ]
  },
  {
   "cell_type": "code",
   "execution_count": 6,
   "metadata": {},
   "outputs": [
    {
     "name": "stdout",
     "output_type": "stream",
     "text": [
      "enter your name?\n",
      "bibek\n",
      "enter your age?\n",
      "19\n",
      "enter your phone number?\n",
      "9863680379\n",
      "my name is bibek. i am 19 years old.my personal contact number is 9863680379 \n"
     ]
    }
   ],
   "source": [
    "#string formating\n",
    "name=input(\"enter your name?\\n\")\n",
    "age=int(input(\"enter your age?\\n\"))\n",
    "phone_number=int(input(\"enter your phone number?\\n\"))\n",
    "result=f\"my name is {name}. i am {age} years old.my personal contact number is {phone_number} \"# fis used for string formating\n",
    "print(result)\n",
    "\n",
    "\n"
   ]
  },
  {
   "cell_type": "code",
   "execution_count": 10,
   "metadata": {},
   "outputs": [
    {
     "name": "stdout",
     "output_type": "stream",
     "text": [
      "Enter The String ?\n",
      "BibEK\n",
      "BIBEK\n",
      "bibek\n"
     ]
    }
   ],
   "source": [
    "#upper and lower case in string.\n",
    "x=input(\"Enter The String ?\\n\")\n",
    "print(x.upper())#it will print upper value\n",
    "print(x.lower())#it will print lower value"
   ]
  },
  {
   "cell_type": "code",
   "execution_count": 15,
   "metadata": {},
   "outputs": [
    {
     "name": "stdout",
     "output_type": "stream",
     "text": [
      "enter the string ?\n",
      "hdsbfk s sadfadv\n",
      "no\n"
     ]
    }
   ],
   "source": [
    "x=input(\"enter the string ?\\n\")\n",
    "if \"hello\" in x:# checking a input word is in string or not\n",
    "    print(\"yes\")\n",
    "else:\n",
    "    print(\"no\")"
   ]
  },
  {
   "cell_type": "code",
   "execution_count": 3,
   "metadata": {},
   "outputs": [
    {
     "name": "stdout",
     "output_type": "stream",
     "text": [
      "enter the string ?\n",
      "bibek\n",
      "Enter what you want to search ?\n",
      "B\n",
      "yes and frequency of string is 2\n"
     ]
    }
   ],
   "source": [
    "x=input(\"enter the string ?\\n\")\n",
    "search=input(\"Enter what you want to search ?\\n\")\n",
    "if search in x:\n",
    "    print(\"yes and frequency of string is\",x.count(search))#searching a string in x and count a searching value. \n",
    "else:\n",
    "    print(\"no\")"
   ]
  },
  {
   "cell_type": "code",
   "execution_count": 21,
   "metadata": {},
   "outputs": [
    {
     "name": "stdout",
     "output_type": "stream",
     "text": [
      "6\n"
     ]
    }
   ],
   "source": [
    "list1=[2,3,5,6,7,89,5,1,1,1,1,1,134,11,21,11,1]\n",
    "if 1 in list1:\n",
    "    print(list1.count(1))"
   ]
  },
  {
   "cell_type": "code",
   "execution_count": 5,
   "metadata": {},
   "outputs": [
    {
     "name": "stdout",
     "output_type": "stream",
     "text": [
      "enter the string ?\n",
      "bibek\n",
      "carlos\n"
     ]
    }
   ],
   "source": [
    "x=input(\"enter the string ?\\n\")\n",
    "y=x.replace(\"bibek\",\"carlos\")\n",
    "print(y)"
   ]
  },
  {
   "cell_type": "code",
   "execution_count": 4,
   "metadata": {},
   "outputs": [
    {
     "name": "stdout",
     "output_type": "stream",
     "text": [
      "enter the string ?\n",
      "bibek\n",
      "Enter what you want to search ?\n",
      "B\n",
      "yes and frequency of string is 2\n"
     ]
    }
   ],
   "source": [
    "x=input(\"enter the string ?\\n\").lower()\n",
    "search=input(\"Enter what you want to search ?\\n\").lower()\n",
    "if search in x:\n",
    "    print(\"yes and frequency of string is\",x.count(search))#searching a string in x and count a searching value. \n",
    "else:\n",
    "    print(\"no\")"
   ]
  },
  {
   "cell_type": "code",
   "execution_count": 4,
   "metadata": {},
   "outputs": [
    {
     "name": "stdout",
     "output_type": "stream",
     "text": [
      "what you want to search ?\n",
      "bibek\n",
      "hello my name is carlos . i am 20 years old.\n"
     ]
    }
   ],
   "source": [
    "x=\"hello my name is bibek . i am 20 years old.\"\n",
    "search=input(\"what you want to search ?\\n\")\n",
    "if search in x:\n",
    "    y=x.replace(search,\"carlos\")\n",
    "    print(y)\n",
    "else:\n",
    "    print(\"error!\")\n",
    "\n"
   ]
  },
  {
   "cell_type": "code",
   "execution_count": 9,
   "metadata": {},
   "outputs": [
    {
     "name": "stdout",
     "output_type": "stream",
     "text": [
      "enter what you want to search ?\n",
      "bibek\n",
      "hello  .i am your msi.\n"
     ]
    }
   ],
   "source": [
    "x=\"hello bibek .i am your msi.\"\n",
    "search=input(\"enter what you want to search ?\\n\")\n",
    "if search in x:\n",
    "    print(x.replace(search,\"\"))#replacing a value with null string.\n",
    "else:\n",
    "    print(\"error!\")"
   ]
  },
  {
   "cell_type": "code",
   "execution_count": 10,
   "metadata": {},
   "outputs": [
    {
     "name": "stdout",
     "output_type": "stream",
     "text": [
      "enter your name ?\n",
      "bibek\n",
      "enter your phone number ?\n",
      "9863680379\n",
      "bibek   9863680379\n"
     ]
    }
   ],
   "source": [
    "name=input(\"enter your name ?\\n\")\n",
    "phone_number=int(input(\"enter your phone number ?\\n\"))\n",
    "x=f\"{name}   {phone_number}\"#use of string formating\n",
    "print(x)\n",
    "\n",
    "\n"
   ]
  },
  {
   "cell_type": "code",
   "execution_count": null,
   "metadata": {},
   "outputs": [],
   "source": [
    "def recursion():\n",
    "        name=input(\"enter your name ?\\n\")\n",
    "        phone_number=int(input(\"enter your phone number ?\\n\"))\n",
    "        x=f\"{name}   {phone_number}\"#use of string formating\n",
    "        y=input(\"if you want to stop press yes ?\\n\")\n",
    "        if y==\"yes\":\n",
    "            pass\n",
    "        else:\n",
    "            print(x)\n",
    "        recursion()\n",
    "recursion()"
   ]
  },
  {
   "cell_type": "code",
   "execution_count": null,
   "metadata": {},
   "outputs": [],
   "source": [
    "num=int(input(\"how many times you want to print ?\\n\"))\n",
    "string=\"\"\n",
    "for i in range(num):\n",
    "    name=input(\"enter your name ?\\n\")\n",
    "    phone_number=int(input(\"enter your phone number ?\\n\"))\n",
    "    x=f\"{name}   {phone_number}\\n\"#use of string formating\n",
    "    string=x+string\n",
    "print(string)\n",
    "       \n",
    "\n",
    "       \n"
   ]
  },
  {
   "cell_type": "code",
   "execution_count": null,
   "metadata": {},
   "outputs": [],
   "source": []
  }
 ],
 "metadata": {
  "kernelspec": {
   "display_name": "Python 3",
   "language": "python",
   "name": "python3"
  },
  "language_info": {
   "codemirror_mode": {
    "name": "ipython",
    "version": 3
   },
   "file_extension": ".py",
   "mimetype": "text/x-python",
   "name": "python",
   "nbconvert_exporter": "python",
   "pygments_lexer": "ipython3",
   "version": "3.8.3"
  }
 },
 "nbformat": 4,
 "nbformat_minor": 4
}
