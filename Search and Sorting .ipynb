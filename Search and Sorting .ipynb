{
 "cells": [
  {
   "cell_type": "code",
   "execution_count": 55,
   "metadata": {},
   "outputs": [
    {
     "name": "stdout",
     "output_type": "stream",
     "text": [
      "enter the elements:4.7.8.5.6.5.5\n",
      "[4, 7, 8, 5, 6, 5, 5]\n",
      "enter the searching elements:5\n",
      "5---> 3\n",
      "5---> 5\n",
      "5---> 6\n"
     ]
    }
   ],
   "source": [
    "#linear search.\n",
    "arr=[int(x) for x in input(\"enter the elements:\").split(\".\")]\n",
    "print(arr)\n",
    "found=False\n",
    "search=int(input(\"enter the searching elements:\"))\n",
    "for i in range(len(arr)):\n",
    "    if search==arr[i]:\n",
    "        found=True\n",
    "        print(f\"{search}--->\",i)\n",
    "if found==False:\n",
    "    print(f\"{search} is not found:\")"
   ]
  },
  {
   "cell_type": "code",
   "execution_count": 59,
   "metadata": {},
   "outputs": [
    {
     "name": "stdout",
     "output_type": "stream",
     "text": [
      "enter the elements:5.7.8.4\n",
      "[5, 7, 8, 4]\n",
      "enter the searching elements:7\n",
      "7---> 1\n"
     ]
    }
   ],
   "source": [
    "#linear search using function.\n",
    "def main(arr):\n",
    "    print(arr)\n",
    "    found=False\n",
    "    search=int(input(\"enter the searching elements:\"))\n",
    "    for i in range(len(arr)):\n",
    "        if search==arr[i]:\n",
    "            found=True\n",
    "            print(f\"{search}--->\",i)\n",
    "    if found==False:\n",
    "        print(f\"{search} is not found:\")\n",
    "main([int(x) for x in input(\"enter the elements:\").split(\".\")])"
   ]
  },
  {
   "cell_type": "code",
   "execution_count": 36,
   "metadata": {},
   "outputs": [
    {
     "name": "stdout",
     "output_type": "stream",
     "text": [
      "[2, 4, 6, 8, 9, 45, 56, 78, 145]\n",
      "enter what you want to search?145\n",
      "elements found at index 8\n"
     ]
    }
   ],
   "source": [
    "#Write a Python program for binary search.\n",
    "def binary(list1,low,high,search):\n",
    "    while low<=high:\n",
    "        mid=low+(high-low)//2\n",
    "        if search==list1[mid]:\n",
    "            return mid\n",
    "        elif search>list1[mid]:\n",
    "            low=mid+1\n",
    "        elif search<list1[mid]:\n",
    "            high=mid-1\n",
    "    return -1#-1 if condition is false\n",
    "list1=[2,4,6,8,9,45,56,78,145]\n",
    "print(list1)\n",
    "search=int(input(\"enter what you want to search?\"))\n",
    "result=binary(list1,0,len(list1)-1,search)\n",
    "if result !=-1:\n",
    "    print(f\"elements found at index {result}\")\n",
    "else:\n",
    "    print(\"elements not found\")\n"
   ]
  },
  {
   "cell_type": "code",
   "execution_count": 18,
   "metadata": {},
   "outputs": [
    {
     "name": "stdout",
     "output_type": "stream",
     "text": [
      "enter what you want to search?457\n",
      "element not found:\n"
     ]
    }
   ],
   "source": [
    "#binary search using recursive function\n",
    "def binary(list1,low,high,search):\n",
    "    if low<=high:\n",
    "        mid=low+(high-low)//2\n",
    "        if list1[mid]==search:\n",
    "            return mid\n",
    "        elif list1[mid]>search:\n",
    "            return binary(list1,low,mid-1,search)\n",
    "        else:\n",
    "            return binary(list1,mid+1,high,search)\n",
    "    else:\n",
    "        return False\n",
    "list1=[2,5,6,8,9,23,45,66]\n",
    "search=int(input(\"enter what you want to search?\"))\n",
    "result= binary(list1,0,len(list1)-1,search)\n",
    "if result==False:\n",
    "    print(\"element not found:\")\n",
    "else:\n",
    "    print(f\"element found at {result} index:\")"
   ]
  },
  {
   "cell_type": "code",
   "execution_count": 9,
   "metadata": {},
   "outputs": [
    {
     "name": "stdout",
     "output_type": "stream",
     "text": [
      "[6, 7, 8, 9, 45, 234]\n"
     ]
    }
   ],
   "source": [
    "#Write a Python program to sort a list of elements using the bubble sort algorithm\n",
    "def bubble(list1):\n",
    "    for i in range(len(list1)-1):\n",
    "        for j in range(len(list1)-1):\n",
    "            if list1[j]>list1[j+1]:\n",
    "                list1[j],list1[j+1]=list1[j+1],list1[j]\n",
    "list1=[6,9,45,234,7,8]\n",
    "bubble(list1)\n",
    "print(list1)"
   ]
  },
  {
   "cell_type": "code",
   "execution_count": 12,
   "metadata": {},
   "outputs": [
    {
     "name": "stdout",
     "output_type": "stream",
     "text": [
      "[2, 4, 4, 6, 9, 56]\n"
     ]
    }
   ],
   "source": [
    "#bubble sort without function\n",
    "list1=[4,9,6,56,2,4]\n",
    "for j in range(len(list1)-1):\n",
    "    for i in range(len(list1)-1):\n",
    "        if list1[i]>list1[i+1]:\n",
    "            list1[i],list1[i+1]=list1[i+1],list1[i]\n",
    "print(list1)"
   ]
  },
  {
   "cell_type": "code",
   "execution_count": 28,
   "metadata": {},
   "outputs": [
    {
     "name": "stdout",
     "output_type": "stream",
     "text": [
      "1\n"
     ]
    }
   ],
   "source": [
    "#program to find minium number.\n",
    "x=[4,8,9,1,2,3,4]\n",
    "min1=x[0]\n",
    "for i in range(len(x)):\n",
    "    if min1>x[i]:\n",
    "        min1=x[i]\n",
    "print(min1)"
   ]
  },
  {
   "cell_type": "code",
   "execution_count": 45,
   "metadata": {},
   "outputs": [
    {
     "name": "stdout",
     "output_type": "stream",
     "text": [
      "[2, 3, 4, 6, 7, 8, 90]\n"
     ]
    }
   ],
   "source": [
    "#selection sort\n",
    "x=[4,8,2,6,90,3,7]\n",
    "for i in range(len(x)):\n",
    "    min_val=min(x[i:])#calculating min. value and updating \n",
    "    min_index=x.index(min_val)#getting min. value index\n",
    "    x[i],x[min_index]=x[min_index],x[i]#swapping min. index with first position and updating.\n",
    "print(x)"
   ]
  },
  {
   "cell_type": "code",
   "execution_count": 2,
   "metadata": {},
   "outputs": [
    {
     "name": "stdout",
     "output_type": "stream",
     "text": [
      "[0, 4, 10, 15, 23]\n"
     ]
    }
   ],
   "source": [
    "def bubble_sort(list1):\n",
    "    for j in range(len(list1)-1):\n",
    "        for i in range(len(list1)-1):\n",
    "            if list1[i]>list1[i+1]:\n",
    "                list1[i],list1[i+1]=list1[i+1],list1[i]\n",
    "list1=[10,15,4,23,0]\n",
    "bubble_sort(list1)\n",
    "print(list1)"
   ]
  },
  {
   "cell_type": "code",
   "execution_count": 3,
   "metadata": {},
   "outputs": [
    {
     "name": "stdout",
     "output_type": "stream",
     "text": [
      "[1, 2, 4, 6, 7]\n"
     ]
    }
   ],
   "source": [
    "#insertion sort.\n",
    "def insertion(list1):\n",
    "    for i in range(1,len(list1)):\n",
    "        current_element=list1[i]\n",
    "        pos=i\n",
    "        while current_element<list1[pos-1] and pos>0:\n",
    "            list1[pos]=list1[pos-1]\n",
    "            pos=pos-1\n",
    "            list1[pos]=current_element\n",
    "list1=[6,4,7,2,1]\n",
    "insertion(list1)\n",
    "print(list1)"
   ]
  },
  {
   "cell_type": "code",
   "execution_count": null,
   "metadata": {},
   "outputs": [],
   "source": []
  }
 ],
 "metadata": {
  "kernelspec": {
   "display_name": "Python 3",
   "language": "python",
   "name": "python3"
  },
  "language_info": {
   "codemirror_mode": {
    "name": "ipython",
    "version": 3
   },
   "file_extension": ".py",
   "mimetype": "text/x-python",
   "name": "python",
   "nbconvert_exporter": "python",
   "pygments_lexer": "ipython3",
   "version": "3.8.3"
  }
 },
 "nbformat": 4,
 "nbformat_minor": 4
}
