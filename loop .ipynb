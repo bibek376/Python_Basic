{
 "cells": [
  {
   "cell_type": "code",
   "execution_count": 11,
   "metadata": {},
   "outputs": [
    {
     "name": "stdout",
     "output_type": "stream",
     "text": [
      "enter the value of x:5\n",
      "0\n",
      "1\n",
      "1\n",
      "2\n",
      "3\n"
     ]
    }
   ],
   "source": [
    "n1=0\n",
    "n2=1\n",
    "x=int(input(\"enter the value of x:\"))\n",
    "print(n1)#printing first value\n",
    "print(n2)#printing second value\n",
    "for num in range(2,x):\n",
    "    sum=n1+n2\n",
    "    print(sum)\n",
    "    n1=n2\n",
    "    n2=sum"
   ]
  },
  {
   "cell_type": "code",
   "execution_count": 12,
   "metadata": {},
   "outputs": [
    {
     "name": "stdout",
     "output_type": "stream",
     "text": [
      "1 hello,world:\n",
      "2 hello,world:\n",
      "3 hello,world:\n",
      "4 hello,world:\n"
     ]
    }
   ],
   "source": [
    "for i in range(1,5):\n",
    "    print(i,\"hello,world:\")"
   ]
  },
  {
   "cell_type": "code",
   "execution_count": 13,
   "metadata": {},
   "outputs": [
    {
     "name": "stdout",
     "output_type": "stream",
     "text": [
      "1 hello,world:\n",
      "4 hello,world:\n",
      "7 hello,world:\n"
     ]
    }
   ],
   "source": [
    "for i in range(1,10,3):\n",
    "    print(i,\"hello,world:\")"
   ]
  },
  {
   "cell_type": "code",
   "execution_count": 2,
   "metadata": {},
   "outputs": [
    {
     "name": "stdout",
     "output_type": "stream",
     "text": [
      "enter the value of x:5\n",
      "5 X 1 = 5\n",
      "5 X 2 = 10\n",
      "5 X 3 = 15\n",
      "5 X 4 = 20\n",
      "5 X 5 = 25\n",
      "5 X 6 = 30\n",
      "5 X 7 = 35\n",
      "5 X 8 = 40\n",
      "5 X 9 = 45\n",
      "5 X 10 = 50\n"
     ]
    }
   ],
   "source": [
    "x=int(input(\"enter the value of x:\"))\n",
    "for i in range(1,11):\n",
    "    print(x,\"X\",i,\"=\",x*i)"
   ]
  },
  {
   "cell_type": "code",
   "execution_count": 8,
   "metadata": {},
   "outputs": [
    {
     "name": "stdout",
     "output_type": "stream",
     "text": [
      "enter the n th natural number\n",
      "20\n",
      "total sum is:\n",
      " 210\n"
     ]
    }
   ],
   "source": [
    "#sum of n natural number\n",
    "sum=0\n",
    "x=int(input(\"enter the n th natural number\\n\"))\n",
    "for i in range(1,x+1):\n",
    "    sum=sum+i\n",
    "print(\"total sum is:\\n\",sum)\n",
    "    \n",
    "    \n",
    "    \n",
    "    "
   ]
  },
  {
   "cell_type": "code",
   "execution_count": 13,
   "metadata": {},
   "outputs": [
    {
     "name": "stdout",
     "output_type": "stream",
     "text": [
      "enter the number for factorial:5\n",
      "120\n"
     ]
    }
   ],
   "source": [
    "#factorial of a given number\n",
    "fact=1\n",
    "x=int(input(\"enter the number for factorial:\"))\n",
    "for num in range(1,x+1):\n",
    "    fact=fact*num\n",
    "print(fact)"
   ]
  },
  {
   "cell_type": "code",
   "execution_count": 15,
   "metadata": {},
   "outputs": [
    {
     "name": "stdout",
     "output_type": "stream",
     "text": [
      "how many times ?\n",
      "3\n",
      "enter the value?\n",
      "4\n",
      "enter the value?\n",
      "5\n",
      "enter the value?\n",
      "7\n",
      "16\n"
     ]
    }
   ],
   "source": [
    "#sum of any number\n",
    "sum=0\n",
    "x=int(input(\"how many times ?\\n\"))\n",
    "for i in range(1,x+1):\n",
    "    y=int(input(\"enter the value?\\n\"))\n",
    "    sum=sum+y\n",
    "print(\"total sum is:\",sum)\n",
    "    \n"
   ]
  },
  {
   "cell_type": "code",
   "execution_count": 18,
   "metadata": {},
   "outputs": [
    {
     "name": "stdout",
     "output_type": "stream",
     "text": [
      "how many times ?\n",
      "2\n",
      "enter the value?\n",
      "6\n",
      "enter the value?\n",
      "9\n",
      "total mul is: 54\n"
     ]
    }
   ],
   "source": [
    "#mul of any number\n",
    "mul=1\n",
    "x=int(input(\"how many times ?\\n\"))\n",
    "for i in range(1,x+1):\n",
    "    y=int(input(\"enter the value?\\n\"))\n",
    "    mul=mul*y\n",
    "print(\"total mul is:\",mul)\n",
    "    "
   ]
  },
  {
   "cell_type": "code",
   "execution_count": 23,
   "metadata": {},
   "outputs": [
    {
     "name": "stdout",
     "output_type": "stream",
     "text": [
      "How many times you want to execute ?2\n",
      "enter your name ?\n",
      "bibek\n",
      "enter your age ?\n",
      "20\n",
      "enter your address ?\n",
      "gaindakot\n",
      "enter your name ?\n",
      "binaya\n",
      "enter your age ?\n",
      "17\n",
      "enter your address ?\n",
      "gaindakot\n",
      "bibek 20 gaindakot\n",
      "binaya 17 gaindakot\n",
      "\n"
     ]
    }
   ],
   "source": [
    "result=\"\"\n",
    "x=int(input(\"How many times you want to execute ?\"))\n",
    "for num in range(x):\n",
    "    name=input(\"enter your name ?\\n\")\n",
    "    age=int(input(\"enter your age ?\\n\"))\n",
    "    address=input(\"enter your address ?\\n\")\n",
    "    store=f\"{name} {age} {address}\\n\"\n",
    "    result=result+store\n",
    "print(result)"
   ]
  },
  {
   "cell_type": "code",
   "execution_count": 26,
   "metadata": {},
   "outputs": [
    {
     "name": "stdout",
     "output_type": "stream",
     "text": [
      "how many times ?\n",
      "2\n",
      "enter the value?\n",
      "1\n",
      "enter the value?\n",
      "3\n",
      "total mul is: 3\n",
      "total sum is: 4\n"
     ]
    }
   ],
   "source": [
    "#mul and of any number\n",
    "mul=1\n",
    "sum=0\n",
    "x=int(input(\"how many times ?\\n\"))\n",
    "for i in range(1,x+1):\n",
    "    y=int(input(\"enter the value?\\n\"))\n",
    "    mul=mul*y\n",
    "    sum=sum+y\n",
    "print(\"total mul is:\",mul)\n",
    "print(\"total sum is:\",sum)\n",
    "    \n",
    "\n",
    "\n"
   ]
  },
  {
   "cell_type": "code",
   "execution_count": 31,
   "metadata": {},
   "outputs": [
    {
     "name": "stdout",
     "output_type": "stream",
     "text": [
      "How many times you want to execute ?2\n",
      "enter the name:bibek\n",
      "marks= \n",
      "8\n",
      "marks= \n",
      "8\n",
      "marks= \n",
      "8\n",
      "marks= \n",
      "8\n",
      "marks= \n",
      "8\n",
      "enter the name:shubham\n",
      "marks= \n",
      "7\n",
      "marks= \n",
      "7\n",
      "marks= \n",
      "7\n",
      "marks= \n",
      "7\n",
      "marks= \n",
      "7\n",
      "marks are\n",
      " 8 8 8 8 8\n",
      "7 7 7 7 7\n",
      "\n"
     ]
    }
   ],
   "source": [
    "result=\"\"#creating a empty string\n",
    "x=int(input(\"How many times you want to execute ?\"))\n",
    "for num in range(x):#loop for how many times\n",
    "    name=input(\"enter the name:\")\n",
    "    physic=int(input(\"marks= \\n\"))\n",
    "    english=int(input(\"marks= \\n\"))\n",
    "    chemistry=int(input(\"marks= \\n\"))\n",
    "    math=int(input(\"marks= \\n\"))\n",
    "    nepali=int(input(\"marks= \\n\"))\n",
    "    store=f\"{physic} {english} {chemistry} {math} {nepali}\\n\"\n",
    "    result=result+store\n",
    "print(\"marks are\\n\",result)"
   ]
  },
  {
   "cell_type": "code",
   "execution_count": 34,
   "metadata": {},
   "outputs": [
    {
     "name": "stdout",
     "output_type": "stream",
     "text": [
      "enter a string ?\n",
      "bibek\n",
      "b\n",
      "i\n",
      "b\n",
      "e\n",
      "k\n"
     ]
    }
   ],
   "source": [
    "x=input(\"enter a string ?\\n\")\n",
    "for loop in x:#traversing x \n",
    "    print(loop)\n"
   ]
  },
  {
   "cell_type": "code",
   "execution_count": 35,
   "metadata": {},
   "outputs": [
    {
     "name": "stdout",
     "output_type": "stream",
     "text": [
      "apple\n",
      "ball\n",
      "cat\n",
      "dog\n"
     ]
    }
   ],
   "source": [
    "#traversing in tuple\n",
    "tuple1=(\"apple\",\"ball\",\"cat\",\"dog\")\n",
    "for loop in tuple1:\n",
    "    print(loop)"
   ]
  },
  {
   "cell_type": "code",
   "execution_count": 38,
   "metadata": {},
   "outputs": [
    {
     "name": "stdout",
     "output_type": "stream",
     "text": [
      "1\n",
      "2\n",
      "3\n",
      "4\n"
     ]
    }
   ],
   "source": [
    "#using break condition\n",
    "for num in range(1,10):\n",
    "    if num==5:\n",
    "        break\n",
    "    print(num)"
   ]
  },
  {
   "cell_type": "code",
   "execution_count": 39,
   "metadata": {},
   "outputs": [
    {
     "name": "stdout",
     "output_type": "stream",
     "text": [
      "1\n",
      "2\n",
      "4\n",
      "5\n",
      "6\n",
      "7\n",
      "8\n",
      "9\n",
      "10\n"
     ]
    }
   ],
   "source": [
    "#using continue condition\n",
    "for num in range(1,11):\n",
    "    if num==3:\n",
    "        continue\n",
    "    print(num)"
   ]
  },
  {
   "cell_type": "code",
   "execution_count": 40,
   "metadata": {},
   "outputs": [
    {
     "name": "stdout",
     "output_type": "stream",
     "text": [
      "1\n",
      "3\n",
      "5\n",
      "7\n",
      "9\n",
      "11\n",
      "13\n",
      "15\n",
      "17\n",
      "19\n"
     ]
    }
   ],
   "source": [
    "for num in range(21):\n",
    "    if num%2==0:\n",
    "        continue\n",
    "    print(num)"
   ]
  },
  {
   "cell_type": "code",
   "execution_count": 41,
   "metadata": {},
   "outputs": [
    {
     "name": "stdout",
     "output_type": "stream",
     "text": [
      "0\n",
      "2\n",
      "4\n",
      "6\n",
      "8\n",
      "10\n",
      "12\n",
      "14\n",
      "16\n",
      "18\n",
      "20\n"
     ]
    }
   ],
   "source": [
    "for num in range(21):\n",
    "    if num%2!=0:\n",
    "        continue\n",
    "    print(num)"
   ]
  },
  {
   "cell_type": "code",
   "execution_count": 2,
   "metadata": {},
   "outputs": [
    {
     "name": "stdout",
     "output_type": "stream",
     "text": [
      "enter the value of x:10\n",
      "0\n",
      "1\n",
      "1\n",
      "2\n",
      "3\n",
      "5\n",
      "8\n",
      "13\n",
      "21\n",
      "34\n"
     ]
    }
   ],
   "source": [
    "n1=0\n",
    "n2=1\n",
    "x=int(input(\"enter the value of x:\"))\n",
    "print(n1)#printing first value\n",
    "print(n2)#printing second value\n",
    "for num in range(2,x):\n",
    "    sum=n1+n2\n",
    "    print(sum)\n",
    "    n1=n2\n",
    "    n2=sum\n"
   ]
  },
  {
   "cell_type": "code",
   "execution_count": null,
   "metadata": {},
   "outputs": [],
   "source": []
  }
 ],
 "metadata": {
  "kernelspec": {
   "display_name": "Python 3",
   "language": "python",
   "name": "python3"
  },
  "language_info": {
   "codemirror_mode": {
    "name": "ipython",
    "version": 3
   },
   "file_extension": ".py",
   "mimetype": "text/x-python",
   "name": "python",
   "nbconvert_exporter": "python",
   "pygments_lexer": "ipython3",
   "version": "3.8.3"
  }
 },
 "nbformat": 4,
 "nbformat_minor": 4
}
